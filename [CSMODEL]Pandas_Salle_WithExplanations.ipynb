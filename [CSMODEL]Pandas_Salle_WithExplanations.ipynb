{
 "cells": [
  {
   "cell_type": "markdown",
   "id": "38b827e1",
   "metadata": {},
   "source": [
    "# **Eye Cancer Patients  Jupyter Notebook**\n",
    "\n",
    "**Section**: S20 <br>\n",
    "\n",
    "**Group**: pandas Salle"
   ]
  },
  {
   "cell_type": "markdown",
   "id": "4677e4d6",
   "metadata": {},
   "source": [
    "### **Import the necessary libraries**\n",
    "\n",
    "For Data Visualization and Data processing\n"
   ]
  },
  {
   "cell_type": "code",
   "execution_count": 23,
   "id": "16aaf047",
   "metadata": {},
   "outputs": [],
   "source": [
    "import numpy as np\n",
    "import pandas as pd\n",
    "import matplotlib.pyplot as plt\n",
    "import seaborn as sns"
   ]
  },
  {
   "cell_type": "markdown",
   "id": "88cc88ac",
   "metadata": {},
   "source": [
    "### **Initializing the DataFrame**\n",
    "\n",
    "Load the Eye Cancer Patients Dataset into a pandas DataFrame\n"
   ]
  },
  {
   "cell_type": "code",
   "execution_count": 24,
   "id": "16f5aa13",
   "metadata": {},
   "outputs": [
    {
     "data": {
      "application/vnd.microsoft.datawrangler.viewer.v0+json": {
       "columns": [
        {
         "name": "index",
         "rawType": "int64",
         "type": "integer"
        },
        {
         "name": "Patient_ID",
         "rawType": "object",
         "type": "string"
        },
        {
         "name": "Age",
         "rawType": "int64",
         "type": "integer"
        },
        {
         "name": "Gender",
         "rawType": "object",
         "type": "string"
        },
        {
         "name": "Cancer_Type",
         "rawType": "object",
         "type": "string"
        },
        {
         "name": "Laterality",
         "rawType": "object",
         "type": "string"
        },
        {
         "name": "Date_of_Diagnosis",
         "rawType": "object",
         "type": "string"
        },
        {
         "name": "Stage_at_Diagnosis",
         "rawType": "object",
         "type": "string"
        },
        {
         "name": "Treatment_Type",
         "rawType": "object",
         "type": "string"
        },
        {
         "name": "Surgery_Status",
         "rawType": "bool",
         "type": "boolean"
        },
        {
         "name": "Radiation_Therapy",
         "rawType": "int64",
         "type": "integer"
        },
        {
         "name": "Chemotherapy",
         "rawType": "int64",
         "type": "integer"
        },
        {
         "name": "Outcome_Status",
         "rawType": "object",
         "type": "string"
        },
        {
         "name": "Survival_Time_Months",
         "rawType": "int64",
         "type": "integer"
        },
        {
         "name": "Genetic_Markers",
         "rawType": "object",
         "type": "unknown"
        },
        {
         "name": "Family_History",
         "rawType": "bool",
         "type": "boolean"
        },
        {
         "name": "Country",
         "rawType": "object",
         "type": "string"
        }
       ],
       "ref": "79215970-b570-42a0-8e9b-f05df9f0694b",
       "rows": [
        [
         "0",
         "PID00001",
         "58",
         "F",
         "Retinoblastoma",
         "Left",
         "2019-01-25",
         "Stage IV",
         "Radiation",
         "False",
         "15",
         "3",
         "Deceased",
         "85",
         null,
         "True",
         "UK"
        ],
        [
         "1",
         "PID00002",
         "15",
         "Other",
         "Retinoblastoma",
         "Right",
         "2021-10-21",
         "Stage III",
         "Chemotherapy",
         "True",
         "69",
         "6",
         "In Remission",
         "10",
         null,
         "True",
         "Japan"
        ],
        [
         "2",
         "PID00003",
         "64",
         "M",
         "Retinoblastoma",
         "Bilateral",
         "2021-03-12",
         "Stage IV",
         "Surgery",
         "False",
         "47",
         "6",
         "In Remission",
         "3",
         "BRAF Mutation",
         "False",
         "UK"
        ],
        [
         "3",
         "PID00004",
         "33",
         "M",
         "Melanoma",
         "Right",
         "2021-05-10",
         "Stage II",
         "Radiation",
         "True",
         "36",
         "6",
         "Active",
         "40",
         null,
         "False",
         "Canada"
        ],
        [
         "4",
         "PID00005",
         "8",
         "Other",
         "Lymphoma",
         "Left",
         "2019-11-24",
         "Stage I",
         "Chemotherapy",
         "False",
         "14",
         "14",
         "In Remission",
         "26",
         "BRAF Mutation",
         "True",
         "USA"
        ]
       ],
       "shape": {
        "columns": 16,
        "rows": 5
       }
      },
      "text/html": [
       "<div>\n",
       "<style scoped>\n",
       "    .dataframe tbody tr th:only-of-type {\n",
       "        vertical-align: middle;\n",
       "    }\n",
       "\n",
       "    .dataframe tbody tr th {\n",
       "        vertical-align: top;\n",
       "    }\n",
       "\n",
       "    .dataframe thead th {\n",
       "        text-align: right;\n",
       "    }\n",
       "</style>\n",
       "<table border=\"1\" class=\"dataframe\">\n",
       "  <thead>\n",
       "    <tr style=\"text-align: right;\">\n",
       "      <th></th>\n",
       "      <th>Patient_ID</th>\n",
       "      <th>Age</th>\n",
       "      <th>Gender</th>\n",
       "      <th>Cancer_Type</th>\n",
       "      <th>Laterality</th>\n",
       "      <th>Date_of_Diagnosis</th>\n",
       "      <th>Stage_at_Diagnosis</th>\n",
       "      <th>Treatment_Type</th>\n",
       "      <th>Surgery_Status</th>\n",
       "      <th>Radiation_Therapy</th>\n",
       "      <th>Chemotherapy</th>\n",
       "      <th>Outcome_Status</th>\n",
       "      <th>Survival_Time_Months</th>\n",
       "      <th>Genetic_Markers</th>\n",
       "      <th>Family_History</th>\n",
       "      <th>Country</th>\n",
       "    </tr>\n",
       "  </thead>\n",
       "  <tbody>\n",
       "    <tr>\n",
       "      <th>0</th>\n",
       "      <td>PID00001</td>\n",
       "      <td>58</td>\n",
       "      <td>F</td>\n",
       "      <td>Retinoblastoma</td>\n",
       "      <td>Left</td>\n",
       "      <td>2019-01-25</td>\n",
       "      <td>Stage IV</td>\n",
       "      <td>Radiation</td>\n",
       "      <td>False</td>\n",
       "      <td>15</td>\n",
       "      <td>3</td>\n",
       "      <td>Deceased</td>\n",
       "      <td>85</td>\n",
       "      <td>NaN</td>\n",
       "      <td>True</td>\n",
       "      <td>UK</td>\n",
       "    </tr>\n",
       "    <tr>\n",
       "      <th>1</th>\n",
       "      <td>PID00002</td>\n",
       "      <td>15</td>\n",
       "      <td>Other</td>\n",
       "      <td>Retinoblastoma</td>\n",
       "      <td>Right</td>\n",
       "      <td>2021-10-21</td>\n",
       "      <td>Stage III</td>\n",
       "      <td>Chemotherapy</td>\n",
       "      <td>True</td>\n",
       "      <td>69</td>\n",
       "      <td>6</td>\n",
       "      <td>In Remission</td>\n",
       "      <td>10</td>\n",
       "      <td>NaN</td>\n",
       "      <td>True</td>\n",
       "      <td>Japan</td>\n",
       "    </tr>\n",
       "    <tr>\n",
       "      <th>2</th>\n",
       "      <td>PID00003</td>\n",
       "      <td>64</td>\n",
       "      <td>M</td>\n",
       "      <td>Retinoblastoma</td>\n",
       "      <td>Bilateral</td>\n",
       "      <td>2021-03-12</td>\n",
       "      <td>Stage IV</td>\n",
       "      <td>Surgery</td>\n",
       "      <td>False</td>\n",
       "      <td>47</td>\n",
       "      <td>6</td>\n",
       "      <td>In Remission</td>\n",
       "      <td>3</td>\n",
       "      <td>BRAF Mutation</td>\n",
       "      <td>False</td>\n",
       "      <td>UK</td>\n",
       "    </tr>\n",
       "    <tr>\n",
       "      <th>3</th>\n",
       "      <td>PID00004</td>\n",
       "      <td>33</td>\n",
       "      <td>M</td>\n",
       "      <td>Melanoma</td>\n",
       "      <td>Right</td>\n",
       "      <td>2021-05-10</td>\n",
       "      <td>Stage II</td>\n",
       "      <td>Radiation</td>\n",
       "      <td>True</td>\n",
       "      <td>36</td>\n",
       "      <td>6</td>\n",
       "      <td>Active</td>\n",
       "      <td>40</td>\n",
       "      <td>NaN</td>\n",
       "      <td>False</td>\n",
       "      <td>Canada</td>\n",
       "    </tr>\n",
       "    <tr>\n",
       "      <th>4</th>\n",
       "      <td>PID00005</td>\n",
       "      <td>8</td>\n",
       "      <td>Other</td>\n",
       "      <td>Lymphoma</td>\n",
       "      <td>Left</td>\n",
       "      <td>2019-11-24</td>\n",
       "      <td>Stage I</td>\n",
       "      <td>Chemotherapy</td>\n",
       "      <td>False</td>\n",
       "      <td>14</td>\n",
       "      <td>14</td>\n",
       "      <td>In Remission</td>\n",
       "      <td>26</td>\n",
       "      <td>BRAF Mutation</td>\n",
       "      <td>True</td>\n",
       "      <td>USA</td>\n",
       "    </tr>\n",
       "  </tbody>\n",
       "</table>\n",
       "</div>"
      ],
      "text/plain": [
       "  Patient_ID  Age Gender     Cancer_Type Laterality Date_of_Diagnosis  \\\n",
       "0   PID00001   58      F  Retinoblastoma       Left        2019-01-25   \n",
       "1   PID00002   15  Other  Retinoblastoma      Right        2021-10-21   \n",
       "2   PID00003   64      M  Retinoblastoma  Bilateral        2021-03-12   \n",
       "3   PID00004   33      M        Melanoma      Right        2021-05-10   \n",
       "4   PID00005    8  Other        Lymphoma       Left        2019-11-24   \n",
       "\n",
       "  Stage_at_Diagnosis Treatment_Type  Surgery_Status  Radiation_Therapy  \\\n",
       "0           Stage IV      Radiation           False                 15   \n",
       "1          Stage III   Chemotherapy            True                 69   \n",
       "2           Stage IV        Surgery           False                 47   \n",
       "3           Stage II      Radiation            True                 36   \n",
       "4            Stage I   Chemotherapy           False                 14   \n",
       "\n",
       "   Chemotherapy Outcome_Status  Survival_Time_Months Genetic_Markers  \\\n",
       "0             3       Deceased                    85             NaN   \n",
       "1             6   In Remission                    10             NaN   \n",
       "2             6   In Remission                     3   BRAF Mutation   \n",
       "3             6         Active                    40             NaN   \n",
       "4            14   In Remission                    26   BRAF Mutation   \n",
       "\n",
       "   Family_History Country  \n",
       "0            True      UK  \n",
       "1            True   Japan  \n",
       "2           False      UK  \n",
       "3           False  Canada  \n",
       "4            True     USA  "
      ]
     },
     "execution_count": 24,
     "metadata": {},
     "output_type": "execute_result"
    }
   ],
   "source": [
    "eye_cancer_df = pd.read_csv('eye_cancer_patients.csv')\n",
    "eye_cancer_df.head()"
   ]
  },
  {
   "cell_type": "markdown",
   "id": "981a1127",
   "metadata": {},
   "source": [
    "### **Preparing to Clean up the Data**\n",
    "\n",
    "Check the information regarding the Dataset\n"
   ]
  },
  {
   "cell_type": "code",
   "execution_count": 25,
   "id": "2824c9f1",
   "metadata": {},
   "outputs": [
    {
     "name": "stdout",
     "output_type": "stream",
     "text": [
      "<class 'pandas.core.frame.DataFrame'>\n",
      "RangeIndex: 5000 entries, 0 to 4999\n",
      "Data columns (total 16 columns):\n",
      " #   Column                Non-Null Count  Dtype \n",
      "---  ------                --------------  ----- \n",
      " 0   Patient_ID            5000 non-null   object\n",
      " 1   Age                   5000 non-null   int64 \n",
      " 2   Gender                5000 non-null   object\n",
      " 3   Cancer_Type           5000 non-null   object\n",
      " 4   Laterality            5000 non-null   object\n",
      " 5   Date_of_Diagnosis     5000 non-null   object\n",
      " 6   Stage_at_Diagnosis    5000 non-null   object\n",
      " 7   Treatment_Type        5000 non-null   object\n",
      " 8   Surgery_Status        5000 non-null   bool  \n",
      " 9   Radiation_Therapy     5000 non-null   int64 \n",
      " 10  Chemotherapy          5000 non-null   int64 \n",
      " 11  Outcome_Status        5000 non-null   object\n",
      " 12  Survival_Time_Months  5000 non-null   int64 \n",
      " 13  Genetic_Markers       2503 non-null   object\n",
      " 14  Family_History        5000 non-null   bool  \n",
      " 15  Country               5000 non-null   object\n",
      "dtypes: bool(2), int64(4), object(10)\n",
      "memory usage: 556.8+ KB\n"
     ]
    }
   ],
   "source": [
    "eye_cancer_df.info()"
   ]
  },
  {
   "cell_type": "markdown",
   "id": "d3bb0017",
   "metadata": {},
   "source": [
    "#### **Data preprocessing**\n",
    "We will want to remove the `nan` values so that when we do Exploratory Data Analysis later, we will not encounter isues<br>\n",
    "First let us check if we missed any variables with a `nan` value"
   ]
  },
  {
   "cell_type": "code",
   "execution_count": 26,
   "id": "c93768d1",
   "metadata": {},
   "outputs": [
    {
     "name": "stdout",
     "output_type": "stream",
     "text": [
      "['Genetic_Markers']\n"
     ]
    }
   ],
   "source": [
    "nan_variables = eye_cancer_df.columns[eye_cancer_df.isnull().any()].to_list()\n",
    "print(nan_variables)"
   ]
  },
  {
   "cell_type": "markdown",
   "id": "09c97da7",
   "metadata": {},
   "source": [
    "> For this dataset, it seems like `Genetic_Markers` is the only variable that has a `nan` value, so we may proceed with the cleaning up of the data."
   ]
  },
  {
   "cell_type": "markdown",
   "id": "1867e012",
   "metadata": {},
   "source": [
    "#### **Do we drop or replace the** `nan` **values from** `Genetic_Markers` **variable?**\n",
    "Dropping the rows with `nan` values in `Genetic_Markers` would be more convenient, but first let us check if we still have sufficient data if ever we drop them<br>\n",
    "So our task is to count how many of the rows are affected by the `nan` values."
   ]
  },
  {
   "cell_type": "code",
   "execution_count": 27,
   "id": "91702810",
   "metadata": {},
   "outputs": [
    {
     "ename": "NameError",
     "evalue": "name 'Genetic_df' is not defined",
     "output_type": "error",
     "traceback": [
      "\u001b[1;31m---------------------------------------------------------------------------\u001b[0m",
      "\u001b[1;31mNameError\u001b[0m                                 Traceback (most recent call last)",
      "Cell \u001b[1;32mIn[27], line 1\u001b[0m\n\u001b[1;32m----> 1\u001b[0m nan_count \u001b[38;5;241m=\u001b[39m \u001b[43mGenetic_df\u001b[49m\u001b[38;5;241m.\u001b[39misnull()\u001b[38;5;241m.\u001b[39msum()\n\u001b[0;32m      3\u001b[0m \u001b[38;5;28mprint\u001b[39m(\u001b[38;5;124m\"\u001b[39m\u001b[38;5;124mThe count of NaN values in Genetic_Markers is:\u001b[39m\u001b[38;5;124m\"\u001b[39m, nan_count)\n",
      "\u001b[1;31mNameError\u001b[0m: name 'Genetic_df' is not defined"
     ]
    }
   ],
   "source": [
    "nan_count = Genetic_df.isnull().sum()\n",
    "\n",
    "print(\"The count of NaN values in Genetic_Markers is:\", nan_count)"
   ]
  },
  {
   "cell_type": "markdown",
   "id": "dce812f6",
   "metadata": {},
   "source": [
    "> Let us check the shape of our pandas DataFrame: `eye_cancer_df` "
   ]
  },
  {
   "cell_type": "code",
   "execution_count": 29,
   "id": "17a417ad",
   "metadata": {},
   "outputs": [
    {
     "name": "stdout",
     "output_type": "stream",
     "text": [
      "Our Data frame has 5000 rows and 16 columns.\n"
     ]
    }
   ],
   "source": [
    "eye_cancer_df.shape\n",
    "print(\"Our Data frame has {} rows and {} columns.\".format(eye_cancer_df.shape[0], eye_cancer_df.shape[1]))"
   ]
  },
  {
   "cell_type": "markdown",
   "id": "8ef6a233",
   "metadata": {},
   "source": [
    "> We know we have 5000 observations, and according to the count of our `nan` values in the `Genetic_Markers` variable, 2497 rows are affected by these `nan` values. <br> <br>\n",
    "> Therefore, we cannot proceed with the dropping since it will affect about half of our observations. <br> <br>\n",
    "> Instead let us, replace these `nan` values with another categorical data as `None`."
   ]
  },
  {
   "cell_type": "code",
   "execution_count": 28,
   "id": "c19bfede",
   "metadata": {},
   "outputs": [],
   "source": [
    "eye_cancer_df.loc[eye_cancer_df['Genetic_Markers'].isnull(), 'Genetic_Markers'] = 'None'"
   ]
  },
  {
   "cell_type": "markdown",
   "id": "57b55b64",
   "metadata": {},
   "source": [
    "#### ⚠️ **Sanity Check !!**\n",
    "Let us see if the `nan` values in the `Genetic_Markers` variables have been replace with `None`"
   ]
  },
  {
   "cell_type": "code",
   "execution_count": 30,
   "id": "ef90ff0e",
   "metadata": {},
   "outputs": [
    {
     "name": "stdout",
     "output_type": "stream",
     "text": [
      "The number of rows where the nan values in Genetic_Markers variable that has been replaced with 'None' is: 2497 rows\n",
      "Meanwhile the number of rows that are still containg nan values is: 0 rows\n"
     ]
    }
   ],
   "source": [
    "replaced = eye_cancer_df.loc[eye_cancer_df['Genetic_Markers'] == 'None', 'Genetic_Markers'].shape[0]\n",
    "not_replaced = eye_cancer_df['Genetic_Markers'].isnull().sum()\n",
    "print(\"The number of rows where the nan values in Genetic_Markers variable that has been replaced with 'None' is: {} rows\".format(replaced))\n",
    "print(\"Meanwhile the number of rows that are still containg nan values is: {} rows\".format(not_replaced))"
   ]
  },
  {
   "cell_type": "markdown",
   "id": "32a83b27",
   "metadata": {},
   "source": [
    "The `2497` rows that has been successfully replaced with `None` in the `Genetic_Markers` variable is parallel with the number of rows that was originally `nan` values in `Genetic_Markers`"
   ]
  },
  {
   "cell_type": "markdown",
   "id": "dfb783da",
   "metadata": {},
   "source": [
    "#### **Next let's check if there are duplicate values in our categorical data**\n",
    "To do this we can loop over the columns of our pandas DataFrame and then check the Unique Values"
   ]
  },
  {
   "cell_type": "code",
   "execution_count": 31,
   "id": "bd685e4e",
   "metadata": {},
   "outputs": [
    {
     "name": "stdout",
     "output_type": "stream",
     "text": [
      "Unique values in Gender: ['F' 'Other' 'M']\n",
      "\n",
      "Unique values in Cancer_Type: ['Retinoblastoma' 'Melanoma' 'Lymphoma']\n",
      "\n",
      "Unique values in Laterality: ['Left' 'Right' 'Bilateral']\n",
      "\n",
      "Unique values in Stage_at_Diagnosis: ['Stage IV' 'Stage III' 'Stage II' 'Stage I']\n",
      "\n",
      "Unique values in Treatment_Type: ['Radiation' 'Chemotherapy' 'Surgery']\n",
      "\n",
      "Unique values in Outcome_Status: ['Deceased' 'In Remission' 'Active']\n",
      "\n",
      "Unique values in Genetic_Markers: ['None' 'BRAF Mutation']\n",
      "\n",
      "Unique values in Country: ['UK' 'Japan' 'Canada' 'USA' 'Australia' 'Germany' 'South Africa' 'Brazil'\n",
      " 'France' 'India']\n",
      "\n"
     ]
    }
   ],
   "source": [
    "for col in eye_cancer_df.columns:\n",
    "    if eye_cancer_df[col].dtype == 'object' and col != 'Date_of_Diagnosis' and col != 'Patient_ID':\n",
    "        print(f\"Unique values in {col}: {eye_cancer_df[col].unique()}\")\n",
    "        print()"
   ]
  },
  {
   "cell_type": "markdown",
   "id": "5d2cd633",
   "metadata": {},
   "source": [
    "> Since there are no duplicate values"
   ]
  },
  {
   "cell_type": "code",
   "execution_count": null,
   "id": "61d35eba",
   "metadata": {},
   "outputs": [
    {
     "name": "stdout",
     "output_type": "stream",
     "text": [
      "<class 'pandas.core.frame.DataFrame'>\n",
      "RangeIndex: 5000 entries, 0 to 4999\n",
      "Data columns (total 8 columns):\n",
      " #   Column                Non-Null Count  Dtype \n",
      "---  ------                --------------  ----- \n",
      " 0   Patient_ID            5000 non-null   object\n",
      " 1   Gender                5000 non-null   object\n",
      " 2   Cancer_Type           5000 non-null   object\n",
      " 3   Treatment_Type        5000 non-null   object\n",
      " 4   Outcome_Status        5000 non-null   object\n",
      " 5   Survival_Time_Months  5000 non-null   int64 \n",
      " 6   Genetic_Markers       2503 non-null   object\n",
      " 7   Family_History        5000 non-null   bool  \n",
      "dtypes: bool(1), int64(1), object(6)\n",
      "memory usage: 278.4+ KB\n"
     ]
    }
   ],
   "source": [
    "eye_cancer_df = eye_cancer_df.drop(['Age', 'Laterality', 'Date_of_Diagnosis', 'Stage_at_Diagnosis', 'Surgery_Status', \n",
    "                                             'Radiation_Therapy', 'Chemotherapy', 'Country'], axis=1)\n",
    "eye_cancer_df = eye_cancer_df.drop_duplicates()\n",
    "eye_cancer_df.info()"
   ]
  },
  {
   "cell_type": "code",
   "execution_count": null,
   "id": "ed13d338",
   "metadata": {},
   "outputs": [],
   "source": [
    "eye_cancer_df['Gender'] = eye_cancer_df['Gender'].str.strip()\n",
    "eye_cancer_df['Cancer_Type'] = eye_cancer_df['Cancer_Type'].str.strip()\n",
    "eye_cancer_df['Treatment_Type'] = eye_cancer_df['Treatment_Type'].str.strip()\n",
    "eye_cancer_df['Outcome_Status'] = eye_cancer_df['Outcome_Status'].str.strip()\n",
    "eye_cancer_df['Genetic_Markers'] = eye_cancer_df['Genetic_Markers'].str.strip()"
   ]
  },
  {
   "cell_type": "code",
   "execution_count": null,
   "id": "860898bd",
   "metadata": {},
   "outputs": [
    {
     "name": "stdout",
     "output_type": "stream",
     "text": [
      "<class 'pandas.core.frame.DataFrame'>\n",
      "RangeIndex: 5000 entries, 0 to 4999\n",
      "Data columns (total 16 columns):\n",
      " #   Column                Non-Null Count  Dtype \n",
      "---  ------                --------------  ----- \n",
      " 0   Patient_ID            5000 non-null   object\n",
      " 1   Age                   5000 non-null   int64 \n",
      " 2   Gender                5000 non-null   object\n",
      " 3   Cancer_Type           5000 non-null   object\n",
      " 4   Laterality            5000 non-null   object\n",
      " 5   Date_of_Diagnosis     5000 non-null   object\n",
      " 6   Stage_at_Diagnosis    5000 non-null   object\n",
      " 7   Treatment_Type        5000 non-null   object\n",
      " 8   Surgery_Status        5000 non-null   bool  \n",
      " 9   Radiation_Therapy     5000 non-null   int64 \n",
      " 10  Chemotherapy          5000 non-null   int64 \n",
      " 11  Outcome_Status        5000 non-null   object\n",
      " 12  Survival_Time_Months  5000 non-null   int64 \n",
      " 13  Genetic_Markers       2503 non-null   object\n",
      " 14  Family_History        5000 non-null   bool  \n",
      " 15  Country               5000 non-null   object\n",
      "dtypes: bool(2), int64(4), object(10)\n",
      "memory usage: 556.8+ KB\n"
     ]
    },
    {
     "data": {
      "application/vnd.microsoft.datawrangler.viewer.v0+json": {
       "columns": [
        {
         "name": "index",
         "rawType": "int64",
         "type": "integer"
        },
        {
         "name": "Patient_ID",
         "rawType": "object",
         "type": "string"
        },
        {
         "name": "Age",
         "rawType": "int64",
         "type": "integer"
        },
        {
         "name": "Gender",
         "rawType": "object",
         "type": "string"
        },
        {
         "name": "Cancer_Type",
         "rawType": "object",
         "type": "string"
        },
        {
         "name": "Laterality",
         "rawType": "object",
         "type": "string"
        },
        {
         "name": "Date_of_Diagnosis",
         "rawType": "object",
         "type": "string"
        },
        {
         "name": "Stage_at_Diagnosis",
         "rawType": "object",
         "type": "string"
        },
        {
         "name": "Treatment_Type",
         "rawType": "object",
         "type": "string"
        },
        {
         "name": "Surgery_Status",
         "rawType": "bool",
         "type": "boolean"
        },
        {
         "name": "Radiation_Therapy",
         "rawType": "int64",
         "type": "integer"
        },
        {
         "name": "Chemotherapy",
         "rawType": "int64",
         "type": "integer"
        },
        {
         "name": "Outcome_Status",
         "rawType": "object",
         "type": "string"
        },
        {
         "name": "Survival_Time_Months",
         "rawType": "int64",
         "type": "integer"
        },
        {
         "name": "Genetic_Markers",
         "rawType": "object",
         "type": "unknown"
        },
        {
         "name": "Family_History",
         "rawType": "bool",
         "type": "boolean"
        },
        {
         "name": "Country",
         "rawType": "object",
         "type": "string"
        }
       ],
       "ref": "90bd3941-4b89-4bc9-8066-aaf9fd575427",
       "rows": [
        [
         "0",
         "PID00001",
         "58",
         "F",
         "Retinoblastoma",
         "Left",
         "2019-01-25",
         "Stage IV",
         "Radiation",
         "False",
         "15",
         "3",
         "Deceased",
         "85",
         null,
         "True",
         "UK"
        ],
        [
         "1",
         "PID00002",
         "15",
         "Other",
         "Retinoblastoma",
         "Right",
         "2021-10-21",
         "Stage III",
         "Chemotherapy",
         "True",
         "69",
         "6",
         "In Remission",
         "10",
         null,
         "True",
         "Japan"
        ],
        [
         "2",
         "PID00003",
         "64",
         "M",
         "Retinoblastoma",
         "Bilateral",
         "2021-03-12",
         "Stage IV",
         "Surgery",
         "False",
         "47",
         "6",
         "In Remission",
         "3",
         "BRAF Mutation",
         "False",
         "UK"
        ],
        [
         "3",
         "PID00004",
         "33",
         "M",
         "Melanoma",
         "Right",
         "2021-05-10",
         "Stage II",
         "Radiation",
         "True",
         "36",
         "6",
         "Active",
         "40",
         null,
         "False",
         "Canada"
        ],
        [
         "4",
         "PID00005",
         "8",
         "Other",
         "Lymphoma",
         "Left",
         "2019-11-24",
         "Stage I",
         "Chemotherapy",
         "False",
         "14",
         "14",
         "In Remission",
         "26",
         "BRAF Mutation",
         "True",
         "USA"
        ]
       ],
       "shape": {
        "columns": 16,
        "rows": 5
       }
      },
      "text/html": [
       "<div>\n",
       "<style scoped>\n",
       "    .dataframe tbody tr th:only-of-type {\n",
       "        vertical-align: middle;\n",
       "    }\n",
       "\n",
       "    .dataframe tbody tr th {\n",
       "        vertical-align: top;\n",
       "    }\n",
       "\n",
       "    .dataframe thead th {\n",
       "        text-align: right;\n",
       "    }\n",
       "</style>\n",
       "<table border=\"1\" class=\"dataframe\">\n",
       "  <thead>\n",
       "    <tr style=\"text-align: right;\">\n",
       "      <th></th>\n",
       "      <th>Patient_ID</th>\n",
       "      <th>Age</th>\n",
       "      <th>Gender</th>\n",
       "      <th>Cancer_Type</th>\n",
       "      <th>Laterality</th>\n",
       "      <th>Date_of_Diagnosis</th>\n",
       "      <th>Stage_at_Diagnosis</th>\n",
       "      <th>Treatment_Type</th>\n",
       "      <th>Surgery_Status</th>\n",
       "      <th>Radiation_Therapy</th>\n",
       "      <th>Chemotherapy</th>\n",
       "      <th>Outcome_Status</th>\n",
       "      <th>Survival_Time_Months</th>\n",
       "      <th>Genetic_Markers</th>\n",
       "      <th>Family_History</th>\n",
       "      <th>Country</th>\n",
       "    </tr>\n",
       "  </thead>\n",
       "  <tbody>\n",
       "    <tr>\n",
       "      <th>0</th>\n",
       "      <td>PID00001</td>\n",
       "      <td>58</td>\n",
       "      <td>F</td>\n",
       "      <td>Retinoblastoma</td>\n",
       "      <td>Left</td>\n",
       "      <td>2019-01-25</td>\n",
       "      <td>Stage IV</td>\n",
       "      <td>Radiation</td>\n",
       "      <td>False</td>\n",
       "      <td>15</td>\n",
       "      <td>3</td>\n",
       "      <td>Deceased</td>\n",
       "      <td>85</td>\n",
       "      <td>NaN</td>\n",
       "      <td>True</td>\n",
       "      <td>UK</td>\n",
       "    </tr>\n",
       "    <tr>\n",
       "      <th>1</th>\n",
       "      <td>PID00002</td>\n",
       "      <td>15</td>\n",
       "      <td>Other</td>\n",
       "      <td>Retinoblastoma</td>\n",
       "      <td>Right</td>\n",
       "      <td>2021-10-21</td>\n",
       "      <td>Stage III</td>\n",
       "      <td>Chemotherapy</td>\n",
       "      <td>True</td>\n",
       "      <td>69</td>\n",
       "      <td>6</td>\n",
       "      <td>In Remission</td>\n",
       "      <td>10</td>\n",
       "      <td>NaN</td>\n",
       "      <td>True</td>\n",
       "      <td>Japan</td>\n",
       "    </tr>\n",
       "    <tr>\n",
       "      <th>2</th>\n",
       "      <td>PID00003</td>\n",
       "      <td>64</td>\n",
       "      <td>M</td>\n",
       "      <td>Retinoblastoma</td>\n",
       "      <td>Bilateral</td>\n",
       "      <td>2021-03-12</td>\n",
       "      <td>Stage IV</td>\n",
       "      <td>Surgery</td>\n",
       "      <td>False</td>\n",
       "      <td>47</td>\n",
       "      <td>6</td>\n",
       "      <td>In Remission</td>\n",
       "      <td>3</td>\n",
       "      <td>BRAF Mutation</td>\n",
       "      <td>False</td>\n",
       "      <td>UK</td>\n",
       "    </tr>\n",
       "    <tr>\n",
       "      <th>3</th>\n",
       "      <td>PID00004</td>\n",
       "      <td>33</td>\n",
       "      <td>M</td>\n",
       "      <td>Melanoma</td>\n",
       "      <td>Right</td>\n",
       "      <td>2021-05-10</td>\n",
       "      <td>Stage II</td>\n",
       "      <td>Radiation</td>\n",
       "      <td>True</td>\n",
       "      <td>36</td>\n",
       "      <td>6</td>\n",
       "      <td>Active</td>\n",
       "      <td>40</td>\n",
       "      <td>NaN</td>\n",
       "      <td>False</td>\n",
       "      <td>Canada</td>\n",
       "    </tr>\n",
       "    <tr>\n",
       "      <th>4</th>\n",
       "      <td>PID00005</td>\n",
       "      <td>8</td>\n",
       "      <td>Other</td>\n",
       "      <td>Lymphoma</td>\n",
       "      <td>Left</td>\n",
       "      <td>2019-11-24</td>\n",
       "      <td>Stage I</td>\n",
       "      <td>Chemotherapy</td>\n",
       "      <td>False</td>\n",
       "      <td>14</td>\n",
       "      <td>14</td>\n",
       "      <td>In Remission</td>\n",
       "      <td>26</td>\n",
       "      <td>BRAF Mutation</td>\n",
       "      <td>True</td>\n",
       "      <td>USA</td>\n",
       "    </tr>\n",
       "  </tbody>\n",
       "</table>\n",
       "</div>"
      ],
      "text/plain": [
       "  Patient_ID  Age Gender     Cancer_Type Laterality Date_of_Diagnosis  \\\n",
       "0   PID00001   58      F  Retinoblastoma       Left        2019-01-25   \n",
       "1   PID00002   15  Other  Retinoblastoma      Right        2021-10-21   \n",
       "2   PID00003   64      M  Retinoblastoma  Bilateral        2021-03-12   \n",
       "3   PID00004   33      M        Melanoma      Right        2021-05-10   \n",
       "4   PID00005    8  Other        Lymphoma       Left        2019-11-24   \n",
       "\n",
       "  Stage_at_Diagnosis Treatment_Type  Surgery_Status  Radiation_Therapy  \\\n",
       "0           Stage IV      Radiation           False                 15   \n",
       "1          Stage III   Chemotherapy            True                 69   \n",
       "2           Stage IV        Surgery           False                 47   \n",
       "3           Stage II      Radiation            True                 36   \n",
       "4            Stage I   Chemotherapy           False                 14   \n",
       "\n",
       "   Chemotherapy Outcome_Status  Survival_Time_Months Genetic_Markers  \\\n",
       "0             3       Deceased                    85             NaN   \n",
       "1             6   In Remission                    10             NaN   \n",
       "2             6   In Remission                     3   BRAF Mutation   \n",
       "3             6         Active                    40             NaN   \n",
       "4            14   In Remission                    26   BRAF Mutation   \n",
       "\n",
       "   Family_History Country  \n",
       "0            True      UK  \n",
       "1            True   Japan  \n",
       "2           False      UK  \n",
       "3           False  Canada  \n",
       "4            True     USA  "
      ]
     },
     "execution_count": 9,
     "metadata": {},
     "output_type": "execute_result"
    }
   ],
   "source": [
    "eye_cancer_df.info()\n",
    "eye_cancer_df.describe()\n",
    "eye_cancer_df.head()"
   ]
  }
 ],
 "metadata": {
  "kernelspec": {
   "display_name": "Python 3",
   "language": "python",
   "name": "python3"
  },
  "language_info": {
   "codemirror_mode": {
    "name": "ipython",
    "version": 3
   },
   "file_extension": ".py",
   "mimetype": "text/x-python",
   "name": "python",
   "nbconvert_exporter": "python",
   "pygments_lexer": "ipython3",
   "version": "3.11.9"
  }
 },
 "nbformat": 4,
 "nbformat_minor": 5
}
