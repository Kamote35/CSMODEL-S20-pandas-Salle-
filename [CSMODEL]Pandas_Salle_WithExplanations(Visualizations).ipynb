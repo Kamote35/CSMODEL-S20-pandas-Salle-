{
 "cells": [
  {
   "cell_type": "markdown",
   "id": "38b827e1",
   "metadata": {},
   "source": [
    "# **Eye Cancer Patients  Jupyter Notebook**\n",
    "\n",
    "**Section**: S20 <br>\n",
    "\n",
    "**Group**: pandas Salle"
   ]
  },
  {
   "cell_type": "markdown",
   "id": "1a3857bf",
   "metadata": {},
   "source": [
    "# **Dataset Description**\n",
    "\n",
    "The chosen data set titled \"Eye Cancer Patient Records\" provides detailed medical records for 5,000 patients diagnosed with 3 different types of eye cancer namely, Melanoma, Retinoblastoma, and Lymphoma. The dataset was retrieved from Kaggle and is designed for machine learning projects, statistical modeling, and healthcare research.\n"
   ]
  },
  {
   "cell_type": "markdown",
   "id": "f1cd36ab",
   "metadata": {},
   "source": []
  },
  {
   "cell_type": "markdown",
   "id": "4677e4d6",
   "metadata": {},
   "source": [
    "### **Import the necessary libraries**\n",
    "\n",
    "For Data Visualization and Data processing\n"
   ]
  },
  {
   "cell_type": "code",
   "execution_count": 140,
   "id": "16aaf047",
   "metadata": {},
   "outputs": [],
   "source": [
    "import numpy as np\n",
    "import pandas as pd\n",
    "import matplotlib.pyplot as plt\n",
    "import seaborn as sns"
   ]
  },
  {
   "cell_type": "markdown",
   "id": "88cc88ac",
   "metadata": {},
   "source": [
    "### **Initializing the DataFrame**\n",
    "\n",
    "Load the Eye Cancer Patients Dataset into a pandas DataFrame\n"
   ]
  },
  {
   "cell_type": "code",
   "execution_count": 141,
   "id": "16f5aa13",
   "metadata": {},
   "outputs": [
    {
     "data": {
      "application/vnd.microsoft.datawrangler.viewer.v0+json": {
       "columns": [
        {
         "name": "index",
         "rawType": "int64",
         "type": "integer"
        },
        {
         "name": "Patient_ID",
         "rawType": "object",
         "type": "string"
        },
        {
         "name": "Age",
         "rawType": "int64",
         "type": "integer"
        },
        {
         "name": "Gender",
         "rawType": "object",
         "type": "string"
        },
        {
         "name": "Cancer_Type",
         "rawType": "object",
         "type": "string"
        },
        {
         "name": "Laterality",
         "rawType": "object",
         "type": "string"
        },
        {
         "name": "Date_of_Diagnosis",
         "rawType": "object",
         "type": "string"
        },
        {
         "name": "Stage_at_Diagnosis",
         "rawType": "object",
         "type": "string"
        },
        {
         "name": "Treatment_Type",
         "rawType": "object",
         "type": "string"
        },
        {
         "name": "Surgery_Status",
         "rawType": "bool",
         "type": "boolean"
        },
        {
         "name": "Radiation_Therapy",
         "rawType": "int64",
         "type": "integer"
        },
        {
         "name": "Chemotherapy",
         "rawType": "int64",
         "type": "integer"
        },
        {
         "name": "Outcome_Status",
         "rawType": "object",
         "type": "string"
        },
        {
         "name": "Survival_Time_Months",
         "rawType": "int64",
         "type": "integer"
        },
        {
         "name": "Genetic_Markers",
         "rawType": "object",
         "type": "unknown"
        },
        {
         "name": "Family_History",
         "rawType": "bool",
         "type": "boolean"
        },
        {
         "name": "Country",
         "rawType": "object",
         "type": "string"
        }
       ],
       "ref": "f8dbb507-4ea5-42df-91b8-6123a590d309",
       "rows": [
        [
         "0",
         "PID00001",
         "58",
         "F",
         "Retinoblastoma",
         "Left",
         "2019-01-25",
         "Stage IV",
         "Radiation",
         "False",
         "15",
         "3",
         "Deceased",
         "85",
         null,
         "True",
         "UK"
        ],
        [
         "1",
         "PID00002",
         "15",
         "Other",
         "Retinoblastoma",
         "Right",
         "2021-10-21",
         "Stage III",
         "Chemotherapy",
         "True",
         "69",
         "6",
         "In Remission",
         "10",
         null,
         "True",
         "Japan"
        ],
        [
         "2",
         "PID00003",
         "64",
         "M",
         "Retinoblastoma",
         "Bilateral",
         "2021-03-12",
         "Stage IV",
         "Surgery",
         "False",
         "47",
         "6",
         "In Remission",
         "3",
         "BRAF Mutation",
         "False",
         "UK"
        ],
        [
         "3",
         "PID00004",
         "33",
         "M",
         "Melanoma",
         "Right",
         "2021-05-10",
         "Stage II",
         "Radiation",
         "True",
         "36",
         "6",
         "Active",
         "40",
         null,
         "False",
         "Canada"
        ],
        [
         "4",
         "PID00005",
         "8",
         "Other",
         "Lymphoma",
         "Left",
         "2019-11-24",
         "Stage I",
         "Chemotherapy",
         "False",
         "14",
         "14",
         "In Remission",
         "26",
         "BRAF Mutation",
         "True",
         "USA"
        ]
       ],
       "shape": {
        "columns": 16,
        "rows": 5
       }
      },
      "text/html": [
       "<div>\n",
       "<style scoped>\n",
       "    .dataframe tbody tr th:only-of-type {\n",
       "        vertical-align: middle;\n",
       "    }\n",
       "\n",
       "    .dataframe tbody tr th {\n",
       "        vertical-align: top;\n",
       "    }\n",
       "\n",
       "    .dataframe thead th {\n",
       "        text-align: right;\n",
       "    }\n",
       "</style>\n",
       "<table border=\"1\" class=\"dataframe\">\n",
       "  <thead>\n",
       "    <tr style=\"text-align: right;\">\n",
       "      <th></th>\n",
       "      <th>Patient_ID</th>\n",
       "      <th>Age</th>\n",
       "      <th>Gender</th>\n",
       "      <th>Cancer_Type</th>\n",
       "      <th>Laterality</th>\n",
       "      <th>Date_of_Diagnosis</th>\n",
       "      <th>Stage_at_Diagnosis</th>\n",
       "      <th>Treatment_Type</th>\n",
       "      <th>Surgery_Status</th>\n",
       "      <th>Radiation_Therapy</th>\n",
       "      <th>Chemotherapy</th>\n",
       "      <th>Outcome_Status</th>\n",
       "      <th>Survival_Time_Months</th>\n",
       "      <th>Genetic_Markers</th>\n",
       "      <th>Family_History</th>\n",
       "      <th>Country</th>\n",
       "    </tr>\n",
       "  </thead>\n",
       "  <tbody>\n",
       "    <tr>\n",
       "      <th>0</th>\n",
       "      <td>PID00001</td>\n",
       "      <td>58</td>\n",
       "      <td>F</td>\n",
       "      <td>Retinoblastoma</td>\n",
       "      <td>Left</td>\n",
       "      <td>2019-01-25</td>\n",
       "      <td>Stage IV</td>\n",
       "      <td>Radiation</td>\n",
       "      <td>False</td>\n",
       "      <td>15</td>\n",
       "      <td>3</td>\n",
       "      <td>Deceased</td>\n",
       "      <td>85</td>\n",
       "      <td>NaN</td>\n",
       "      <td>True</td>\n",
       "      <td>UK</td>\n",
       "    </tr>\n",
       "    <tr>\n",
       "      <th>1</th>\n",
       "      <td>PID00002</td>\n",
       "      <td>15</td>\n",
       "      <td>Other</td>\n",
       "      <td>Retinoblastoma</td>\n",
       "      <td>Right</td>\n",
       "      <td>2021-10-21</td>\n",
       "      <td>Stage III</td>\n",
       "      <td>Chemotherapy</td>\n",
       "      <td>True</td>\n",
       "      <td>69</td>\n",
       "      <td>6</td>\n",
       "      <td>In Remission</td>\n",
       "      <td>10</td>\n",
       "      <td>NaN</td>\n",
       "      <td>True</td>\n",
       "      <td>Japan</td>\n",
       "    </tr>\n",
       "    <tr>\n",
       "      <th>2</th>\n",
       "      <td>PID00003</td>\n",
       "      <td>64</td>\n",
       "      <td>M</td>\n",
       "      <td>Retinoblastoma</td>\n",
       "      <td>Bilateral</td>\n",
       "      <td>2021-03-12</td>\n",
       "      <td>Stage IV</td>\n",
       "      <td>Surgery</td>\n",
       "      <td>False</td>\n",
       "      <td>47</td>\n",
       "      <td>6</td>\n",
       "      <td>In Remission</td>\n",
       "      <td>3</td>\n",
       "      <td>BRAF Mutation</td>\n",
       "      <td>False</td>\n",
       "      <td>UK</td>\n",
       "    </tr>\n",
       "    <tr>\n",
       "      <th>3</th>\n",
       "      <td>PID00004</td>\n",
       "      <td>33</td>\n",
       "      <td>M</td>\n",
       "      <td>Melanoma</td>\n",
       "      <td>Right</td>\n",
       "      <td>2021-05-10</td>\n",
       "      <td>Stage II</td>\n",
       "      <td>Radiation</td>\n",
       "      <td>True</td>\n",
       "      <td>36</td>\n",
       "      <td>6</td>\n",
       "      <td>Active</td>\n",
       "      <td>40</td>\n",
       "      <td>NaN</td>\n",
       "      <td>False</td>\n",
       "      <td>Canada</td>\n",
       "    </tr>\n",
       "    <tr>\n",
       "      <th>4</th>\n",
       "      <td>PID00005</td>\n",
       "      <td>8</td>\n",
       "      <td>Other</td>\n",
       "      <td>Lymphoma</td>\n",
       "      <td>Left</td>\n",
       "      <td>2019-11-24</td>\n",
       "      <td>Stage I</td>\n",
       "      <td>Chemotherapy</td>\n",
       "      <td>False</td>\n",
       "      <td>14</td>\n",
       "      <td>14</td>\n",
       "      <td>In Remission</td>\n",
       "      <td>26</td>\n",
       "      <td>BRAF Mutation</td>\n",
       "      <td>True</td>\n",
       "      <td>USA</td>\n",
       "    </tr>\n",
       "  </tbody>\n",
       "</table>\n",
       "</div>"
      ],
      "text/plain": [
       "  Patient_ID  Age Gender     Cancer_Type Laterality Date_of_Diagnosis  \\\n",
       "0   PID00001   58      F  Retinoblastoma       Left        2019-01-25   \n",
       "1   PID00002   15  Other  Retinoblastoma      Right        2021-10-21   \n",
       "2   PID00003   64      M  Retinoblastoma  Bilateral        2021-03-12   \n",
       "3   PID00004   33      M        Melanoma      Right        2021-05-10   \n",
       "4   PID00005    8  Other        Lymphoma       Left        2019-11-24   \n",
       "\n",
       "  Stage_at_Diagnosis Treatment_Type  Surgery_Status  Radiation_Therapy  \\\n",
       "0           Stage IV      Radiation           False                 15   \n",
       "1          Stage III   Chemotherapy            True                 69   \n",
       "2           Stage IV        Surgery           False                 47   \n",
       "3           Stage II      Radiation            True                 36   \n",
       "4            Stage I   Chemotherapy           False                 14   \n",
       "\n",
       "   Chemotherapy Outcome_Status  Survival_Time_Months Genetic_Markers  \\\n",
       "0             3       Deceased                    85             NaN   \n",
       "1             6   In Remission                    10             NaN   \n",
       "2             6   In Remission                     3   BRAF Mutation   \n",
       "3             6         Active                    40             NaN   \n",
       "4            14   In Remission                    26   BRAF Mutation   \n",
       "\n",
       "   Family_History Country  \n",
       "0            True      UK  \n",
       "1            True   Japan  \n",
       "2           False      UK  \n",
       "3           False  Canada  \n",
       "4            True     USA  "
      ]
     },
     "execution_count": 141,
     "metadata": {},
     "output_type": "execute_result"
    }
   ],
   "source": [
    "eye_cancer_df = pd.read_csv('eye_cancer_patients.csv')\n",
    "eye_cancer_df.head()"
   ]
  },
  {
   "cell_type": "markdown",
   "id": "981a1127",
   "metadata": {},
   "source": [
    "### **Preparing to Clean up the Data**\n",
    "\n",
    "Check the information regarding the Dataset\n"
   ]
  },
  {
   "cell_type": "code",
   "execution_count": 142,
   "id": "2824c9f1",
   "metadata": {},
   "outputs": [
    {
     "name": "stdout",
     "output_type": "stream",
     "text": [
      "<class 'pandas.core.frame.DataFrame'>\n",
      "RangeIndex: 5000 entries, 0 to 4999\n",
      "Data columns (total 16 columns):\n",
      " #   Column                Non-Null Count  Dtype \n",
      "---  ------                --------------  ----- \n",
      " 0   Patient_ID            5000 non-null   object\n",
      " 1   Age                   5000 non-null   int64 \n",
      " 2   Gender                5000 non-null   object\n",
      " 3   Cancer_Type           5000 non-null   object\n",
      " 4   Laterality            5000 non-null   object\n",
      " 5   Date_of_Diagnosis     5000 non-null   object\n",
      " 6   Stage_at_Diagnosis    5000 non-null   object\n",
      " 7   Treatment_Type        5000 non-null   object\n",
      " 8   Surgery_Status        5000 non-null   bool  \n",
      " 9   Radiation_Therapy     5000 non-null   int64 \n",
      " 10  Chemotherapy          5000 non-null   int64 \n",
      " 11  Outcome_Status        5000 non-null   object\n",
      " 12  Survival_Time_Months  5000 non-null   int64 \n",
      " 13  Genetic_Markers       2503 non-null   object\n",
      " 14  Family_History        5000 non-null   bool  \n",
      " 15  Country               5000 non-null   object\n",
      "dtypes: bool(2), int64(4), object(10)\n",
      "memory usage: 556.8+ KB\n"
     ]
    }
   ],
   "source": [
    "eye_cancer_df.info()"
   ]
  },
  {
   "cell_type": "markdown",
   "id": "d3bb0017",
   "metadata": {},
   "source": [
    "#### **Data preprocessing**\n",
    "We will want to remove the `nan` values so that when we do Exploratory Data Analysis later, we will not encounter isues<br>\n",
    "First let us check if we missed any variables with a `nan` value"
   ]
  },
  {
   "cell_type": "code",
   "execution_count": 143,
   "id": "c93768d1",
   "metadata": {},
   "outputs": [
    {
     "name": "stdout",
     "output_type": "stream",
     "text": [
      "['Genetic_Markers']\n"
     ]
    }
   ],
   "source": [
    "nan_variables = eye_cancer_df.columns[eye_cancer_df.isnull().any()].to_list()\n",
    "print(nan_variables)"
   ]
  },
  {
   "cell_type": "markdown",
   "id": "09c97da7",
   "metadata": {},
   "source": [
    "> For this dataset, it seems like `Genetic_Markers` is the only variable that has a `nan` value, so we may proceed with the cleaning up of the data."
   ]
  },
  {
   "cell_type": "markdown",
   "id": "1867e012",
   "metadata": {},
   "source": [
    "#### **Do we drop or replace the** `nan` **values from** `Genetic_Markers` **variable?**\n",
    "Dropping the rows with `nan` values in `Genetic_Markers` would be more convenient, but first let us check if we still have sufficient data if ever we drop them<br>\n",
    "So our task is to count how many of the rows are affected by the `nan` values."
   ]
  },
  {
   "cell_type": "code",
   "execution_count": 144,
   "id": "91702810",
   "metadata": {},
   "outputs": [
    {
     "name": "stdout",
     "output_type": "stream",
     "text": [
      "The count of NaN values in Genetic_Markers is: 2497\n"
     ]
    }
   ],
   "source": [
    "nan_count = eye_cancer_df['Genetic_Markers'].isnull().sum()\n",
    "\n",
    "print(\"The count of NaN values in Genetic_Markers is:\", nan_count)"
   ]
  },
  {
   "cell_type": "markdown",
   "id": "dce812f6",
   "metadata": {},
   "source": [
    "> Let us check the shape of our pandas DataFrame: `eye_cancer_df` "
   ]
  },
  {
   "cell_type": "code",
   "execution_count": 145,
   "id": "17a417ad",
   "metadata": {},
   "outputs": [
    {
     "name": "stdout",
     "output_type": "stream",
     "text": [
      "Our Data frame has 5000 rows and 16 columns.\n"
     ]
    }
   ],
   "source": [
    "eye_cancer_df.shape\n",
    "print(\"Our Data frame has {} rows and {} columns.\".format(eye_cancer_df.shape[0], eye_cancer_df.shape[1]))"
   ]
  },
  {
   "cell_type": "markdown",
   "id": "8ef6a233",
   "metadata": {},
   "source": [
    "> We know we have 5000 observations, and according to the count of our `nan` values in the `Genetic_Markers` variable, 2497 rows are affected by these `nan` values. <br> <br>\n",
    "> Therefore, we cannot proceed with the dropping since it will affect about half of our observations. <br> <br>\n",
    "> Instead let us, replace these `nan` values with another categorical data as `None`."
   ]
  },
  {
   "cell_type": "code",
   "execution_count": 146,
   "id": "c19bfede",
   "metadata": {},
   "outputs": [],
   "source": [
    "eye_cancer_df.loc[eye_cancer_df['Genetic_Markers'].isnull(), 'Genetic_Markers'] = 'None'"
   ]
  },
  {
   "cell_type": "markdown",
   "id": "57b55b64",
   "metadata": {},
   "source": [
    "#### ⚠️ **Sanity Check !!**\n",
    "Let us see if the `nan` values in the `Genetic_Markers` variables have been replace with `None`"
   ]
  },
  {
   "cell_type": "code",
   "execution_count": 154,
   "id": "ef90ff0e",
   "metadata": {},
   "outputs": [
    {
     "name": "stdout",
     "output_type": "stream",
     "text": [
      "The number of rows where the nan values in Genetic_Markers variable that has been replaced with 'None' is: 2497 rows\n",
      "Meanwhile the number of rows that are still containg nan values is: 0 rows\n"
     ]
    }
   ],
   "source": [
    "replaced = eye_cancer_df.loc[eye_cancer_df['Genetic_Markers'] == 'None', 'Genetic_Markers'].shape[0]\n",
    "not_replaced = eye_cancer_df['Genetic_Markers'].isnull().sum()\n",
    "print(\"The number of rows where the nan values in Genetic_Markers variable that has been replaced with 'None' is: {} rows\".format(replaced))\n",
    "print(\"Meanwhile the number of rows that are still containg nan values is: {} rows\".format(not_replaced))"
   ]
  },
  {
   "cell_type": "markdown",
   "id": "32a83b27",
   "metadata": {},
   "source": [
    "The `2497` rows that has been successfully replaced with `None` in the `Genetic_Markers` variable is parallel with the number of rows that was originally `nan` values in `Genetic_Markers`"
   ]
  },
  {
   "cell_type": "markdown",
   "id": "dfb783da",
   "metadata": {},
   "source": [
    "#### **Next let's check if there are duplicate values in our categorical data**\n",
    "To do this we can loop over the columns of our pandas DataFrame and then check the Unique Values"
   ]
  },
  {
   "cell_type": "code",
   "execution_count": 155,
   "id": "bd685e4e",
   "metadata": {},
   "outputs": [
    {
     "name": "stdout",
     "output_type": "stream",
     "text": [
      "Unique values in Gender: ['F' 'Other' 'M']\n",
      "\n",
      "Unique values in Cancer_Type: ['Retinoblastoma' 'Melanoma' 'Lymphoma']\n",
      "\n",
      "Unique values in Laterality: ['Left' 'Right' 'Bilateral']\n",
      "\n",
      "Unique values in Stage_at_Diagnosis: ['Stage IV' 'Stage III' 'Stage II' 'Stage I']\n",
      "\n",
      "Unique values in Treatment_Type: ['Radiation' 'Chemotherapy' 'Surgery']\n",
      "\n",
      "Unique values in Outcome_Status: ['Deceased' 'In Remission' 'Active']\n",
      "\n",
      "Unique values in Genetic_Markers: ['None' 'BRAF Mutation']\n",
      "\n",
      "Unique values in Country: ['UK' 'Japan' 'Canada' 'USA' 'Australia' 'Germany' 'South Africa' 'Brazil'\n",
      " 'France' 'India']\n",
      "\n"
     ]
    }
   ],
   "source": [
    "for col in eye_cancer_df.columns:\n",
    "    if eye_cancer_df[col].dtype == 'object' and col != 'Date_of_Diagnosis' and col != 'Patient_ID':\n",
    "        print(f\"Unique values in {col}: {eye_cancer_df[col].unique()}\")\n",
    "        print()"
   ]
  },
  {
   "cell_type": "markdown",
   "id": "5d2cd633",
   "metadata": {},
   "source": [
    "> Since there are no duplicate values"
   ]
  },
  {
   "cell_type": "markdown",
   "id": "665c5b1f",
   "metadata": {},
   "source": [
    "#### **EDA Question 1: How does survival time vary by cancer type?**\n",
    "\n",
    "To visualize if survival time varies with the cancer type, let's use a histogram plot. <br>\n",
    "First, let us bin the Survival Time in Months so that it would be easier to interpret."
   ]
  },
  {
   "cell_type": "code",
   "execution_count": 159,
   "id": "49b71f9f",
   "metadata": {},
   "outputs": [
    {
     "data": {
      "application/vnd.microsoft.datawrangler.viewer.v0+json": {
       "columns": [
        {
         "name": "Survival_Quantile",
         "rawType": "category",
         "type": "unknown"
        },
        {
         "name": "count",
         "rawType": "int64",
         "type": "integer"
        }
       ],
       "ref": "3bc055dc-49ad-498b-b37e-d060e1ffba3c",
       "rows": [
        [
         "(0.0, 3.0]",
         "113"
        ],
        [
         "(3.0, 6.0]",
         "123"
        ],
        [
         "(6.0, 9.0]",
         "135"
        ],
        [
         "(9.0, 12.0]",
         "134"
        ],
        [
         "(12.0, 15.0]",
         "116"
        ],
        [
         "(15.0, 18.0]",
         "126"
        ],
        [
         "(18.0, 21.0]",
         "113"
        ],
        [
         "(21.0, 24.0]",
         "117"
        ],
        [
         "(24.0, 27.0]",
         "115"
        ],
        [
         "(27.0, 30.0]",
         "125"
        ],
        [
         "(30.0, 33.0]",
         "114"
        ],
        [
         "(33.0, 36.0]",
         "146"
        ],
        [
         "(36.0, 39.0]",
         "109"
        ],
        [
         "(39.0, 42.0]",
         "125"
        ],
        [
         "(42.0, 45.0]",
         "128"
        ],
        [
         "(45.0, 48.0]",
         "133"
        ],
        [
         "(48.0, 51.0]",
         "152"
        ],
        [
         "(51.0, 54.0]",
         "144"
        ],
        [
         "(54.0, 57.0]",
         "139"
        ],
        [
         "(57.0, 60.0]",
         "103"
        ],
        [
         "(60.0, 63.0]",
         "114"
        ],
        [
         "(63.0, 66.0]",
         "127"
        ],
        [
         "(66.0, 69.0]",
         "111"
        ],
        [
         "(69.0, 72.0]",
         "141"
        ],
        [
         "(72.0, 75.0]",
         "132"
        ],
        [
         "(75.0, 78.0]",
         "118"
        ],
        [
         "(78.0, 81.0]",
         "120"
        ],
        [
         "(81.0, 84.0]",
         "122"
        ],
        [
         "(84.0, 87.0]",
         "143"
        ],
        [
         "(87.0, 90.0]",
         "122"
        ],
        [
         "(90.0, 93.0]",
         "110"
        ],
        [
         "(93.0, 96.0]",
         "123"
        ],
        [
         "(96.0, 99.0]",
         "120"
        ],
        [
         "(99.0, 102.0]",
         "129"
        ],
        [
         "(102.0, 105.0]",
         "117"
        ],
        [
         "(105.0, 108.0]",
         "125"
        ],
        [
         "(108.0, 111.0]",
         "133"
        ],
        [
         "(111.0, 114.0]",
         "128"
        ],
        [
         "(114.0, 117.0]",
         "109"
        ],
        [
         "(117.0, 120.0]",
         "146"
        ]
       ],
       "shape": {
        "columns": 1,
        "rows": 40
       }
      },
      "text/plain": [
       "Survival_Quantile\n",
       "(0.0, 3.0]        113\n",
       "(3.0, 6.0]        123\n",
       "(6.0, 9.0]        135\n",
       "(9.0, 12.0]       134\n",
       "(12.0, 15.0]      116\n",
       "(15.0, 18.0]      126\n",
       "(18.0, 21.0]      113\n",
       "(21.0, 24.0]      117\n",
       "(24.0, 27.0]      115\n",
       "(27.0, 30.0]      125\n",
       "(30.0, 33.0]      114\n",
       "(33.0, 36.0]      146\n",
       "(36.0, 39.0]      109\n",
       "(39.0, 42.0]      125\n",
       "(42.0, 45.0]      128\n",
       "(45.0, 48.0]      133\n",
       "(48.0, 51.0]      152\n",
       "(51.0, 54.0]      144\n",
       "(54.0, 57.0]      139\n",
       "(57.0, 60.0]      103\n",
       "(60.0, 63.0]      114\n",
       "(63.0, 66.0]      127\n",
       "(66.0, 69.0]      111\n",
       "(69.0, 72.0]      141\n",
       "(72.0, 75.0]      132\n",
       "(75.0, 78.0]      118\n",
       "(78.0, 81.0]      120\n",
       "(81.0, 84.0]      122\n",
       "(84.0, 87.0]      143\n",
       "(87.0, 90.0]      122\n",
       "(90.0, 93.0]      110\n",
       "(93.0, 96.0]      123\n",
       "(96.0, 99.0]      120\n",
       "(99.0, 102.0]     129\n",
       "(102.0, 105.0]    117\n",
       "(105.0, 108.0]    125\n",
       "(108.0, 111.0]    133\n",
       "(111.0, 114.0]    128\n",
       "(114.0, 117.0]    109\n",
       "(117.0, 120.0]    146\n",
       "Name: count, dtype: int64"
      ]
     },
     "execution_count": 159,
     "metadata": {},
     "output_type": "execute_result"
    }
   ],
   "source": [
    "# Bin into 41 baskets the Survival Times\n",
    "bins = np.linspace(0,120,41)\n",
    "eye_cancer_df['Survival_Quantile'] = pd.cut(eye_cancer_df['Survival_Time_Months'], bins=bins)\n",
    "\n",
    "# View the New Binned Series in ascending order (From 0 Months to 120 Months)\n",
    "eye_cancer_df[['Survival_Quantile', 'Survival_Time_Months']]\n",
    "eye_cancer_df['Survival_Quantile'].value_counts().sort_index()"
   ]
  },
  {
   "cell_type": "markdown",
   "id": "04c55184",
   "metadata": {},
   "source": [
    "> Display the `Mode` of the Survival Time in Months of the all the Eye Cancer Patients in our Sample"
   ]
  },
  {
   "cell_type": "code",
   "execution_count": 160,
   "id": "ef68c2cf",
   "metadata": {},
   "outputs": [
    {
     "name": "stdout",
     "output_type": "stream",
     "text": [
      "The Mode of the Survival Time in Months bin is: (48.0, 51.0] with a count of 152 patients\n"
     ]
    }
   ],
   "source": [
    "print(\"The Mode of the Survival Time in Months bin is: {} with a count of {} patients\".format(eye_cancer_df['Survival_Quantile'].mode()[0], eye_cancer_df['Survival_Quantile'].value_counts().sort_index().max()))"
   ]
  },
  {
   "cell_type": "markdown",
   "id": "ecb42d0b",
   "metadata": {},
   "source": [
    "Visualize the Data with a `Histogram` plot"
   ]
  },
  {
   "cell_type": "code",
   "execution_count": 164,
   "id": "7e9c95b6",
   "metadata": {},
   "outputs": [
    {
     "data": {
      "image/png": "[encoded data removed]",
      "text/plain": [
       "<Figure size 1000x500 with 1 Axes>"
      ]
     },
     "metadata": {},
     "output_type": "display_data"
    }
   ],
   "source": [
    "mode_interval = eye_cancer_df['Survival_Quantile'].mode()[0]\n",
    "\n",
    "plt.figure(figsize=(10, 5))\n",
    "sns.histplot(data=eye_cancer_df, x='Survival_Time_Months', bins=bins, kde=True, color='blue')\n",
    "plt.grid(True, axis='y', color='gray', linestyle='-', linewidth=0.7, alpha=0.5)\n",
    "\n",
    "# Highlight the mode interval\n",
    "plt.axvspan(mode_interval.left, mode_interval.right, color='orange', alpha=0.3, label=f'Mode: {mode_interval}')\n",
    "\n",
    "plt.title('Survival Time (Months) of all Eye Cancer Patients in the Dataset')\n",
    "plt.xlabel('Survival Time (Months)')\n",
    "plt.ylabel('Count')\n",
    "plt.legend()\n",
    "plt.show()\n"
   ]
  },
  {
   "cell_type": "markdown",
   "id": "8a8f8bc6",
   "metadata": {},
   "source": [
    "**Let's take a look at the Mode of Survival Time in Months for each Cancer Type (**`Lymphoma`, `Melanoma`, `Retinoblastoma`**)**"
   ]
  },
  {
   "cell_type": "code",
   "execution_count": 136,
   "id": "b2d6d0de",
   "metadata": {},
   "outputs": [
    {
     "data": {
      "application/vnd.microsoft.datawrangler.viewer.v0+json": {
       "columns": [
        {
         "name": "Cancer_Type",
         "rawType": "object",
         "type": "string"
        },
        {
         "name": "count",
         "rawType": "object",
         "type": "unknown"
        },
        {
         "name": "unique",
         "rawType": "object",
         "type": "unknown"
        },
        {
         "name": "top",
         "rawType": "object",
         "type": "unknown"
        },
        {
         "name": "freq",
         "rawType": "object",
         "type": "unknown"
        }
       ],
       "ref": "e81e3a72-87dd-486c-a601-8468e44c7d2e",
       "rows": [
        [
         "Lymphoma",
         "1637",
         "40",
         "(54.0, 57.0]",
         "58"
        ],
        [
         "Melanoma",
         "1691",
         "40",
         "(111.0, 114.0]",
         "54"
        ],
        [
         "Retinoblastoma",
         "1672",
         "40",
         "(69.0, 72.0]",
         "59"
        ]
       ],
       "shape": {
        "columns": 4,
        "rows": 3
       }
      },
      "text/html": [
       "<div>\n",
       "<style scoped>\n",
       "    .dataframe tbody tr th:only-of-type {\n",
       "        vertical-align: middle;\n",
       "    }\n",
       "\n",
       "    .dataframe tbody tr th {\n",
       "        vertical-align: top;\n",
       "    }\n",
       "\n",
       "    .dataframe thead th {\n",
       "        text-align: right;\n",
       "    }\n",
       "</style>\n",
       "<table border=\"1\" class=\"dataframe\">\n",
       "  <thead>\n",
       "    <tr style=\"text-align: right;\">\n",
       "      <th></th>\n",
       "      <th>count</th>\n",
       "      <th>unique</th>\n",
       "      <th>top</th>\n",
       "      <th>freq</th>\n",
       "    </tr>\n",
       "    <tr>\n",
       "      <th>Cancer_Type</th>\n",
       "      <th></th>\n",
       "      <th></th>\n",
       "      <th></th>\n",
       "      <th></th>\n",
       "    </tr>\n",
       "  </thead>\n",
       "  <tbody>\n",
       "    <tr>\n",
       "      <th>Lymphoma</th>\n",
       "      <td>1637</td>\n",
       "      <td>40</td>\n",
       "      <td>(54.0, 57.0]</td>\n",
       "      <td>58</td>\n",
       "    </tr>\n",
       "    <tr>\n",
       "      <th>Melanoma</th>\n",
       "      <td>1691</td>\n",
       "      <td>40</td>\n",
       "      <td>(111.0, 114.0]</td>\n",
       "      <td>54</td>\n",
       "    </tr>\n",
       "    <tr>\n",
       "      <th>Retinoblastoma</th>\n",
       "      <td>1672</td>\n",
       "      <td>40</td>\n",
       "      <td>(69.0, 72.0]</td>\n",
       "      <td>59</td>\n",
       "    </tr>\n",
       "  </tbody>\n",
       "</table>\n",
       "</div>"
      ],
      "text/plain": [
       "               count unique             top freq\n",
       "Cancer_Type                                     \n",
       "Lymphoma        1637     40    (54.0, 57.0]   58\n",
       "Melanoma        1691     40  (111.0, 114.0]   54\n",
       "Retinoblastoma  1672     40    (69.0, 72.0]   59"
      ]
     },
     "execution_count": 136,
     "metadata": {},
     "output_type": "execute_result"
    }
   ],
   "source": [
    "eye_cancer_df.groupby('Cancer_Type')['Survival_Quantile'].describe()"
   ]
  },
  {
   "cell_type": "markdown",
   "id": "04cc8256",
   "metadata": {},
   "source": [
    "> In the Description of the Dataframe above, each summary is grouped by the Cancer Type <br>\n",
    "> and it seems that for each Cancer Type, patients have a different 'average' interval for Survival Time in Months "
   ]
  },
  {
   "cell_type": "code",
   "execution_count": 137,
   "id": "ca03e4fa",
   "metadata": {},
   "outputs": [
    {
     "data": {
      "image/png": "[encoded data removed]",
      "text/plain": [
       "<Figure size 1000x500 with 1 Axes>"
      ]
     },
     "metadata": {},
     "output_type": "display_data"
    },
    {
     "data": {
      "image/png": "[encoded data removed]",
      "text/plain": [
       "<Figure size 1000x500 with 1 Axes>"
      ]
     },
     "metadata": {},
     "output_type": "display_data"
    },
    {
     "data": {
      "image/png": "[encoded data removed]",
      "text/plain": [
       "<Figure size 1000x500 with 1 Axes>"
      ]
     },
     "metadata": {},
     "output_type": "display_data"
    }
   ],
   "source": [
    "# Plot for Lymphoma patients' Survival Time\n",
    "lymphoma_df = eye_cancer_df[eye_cancer_df['Cancer_Type'] == 'Lymphoma']\n",
    "lymphoma_mode = lymphoma_df['Survival_Quantile'].mode()[0]\n",
    "plt.figure(figsize=(10, 5))\n",
    "sns.histplot(data=lymphoma_df, x='Survival_Time_Months', bins=40, kde=True, color='blue')\n",
    "plt.grid(True, axis='y', color='gray', linestyle='-', linewidth=0.7, alpha=0.5)\n",
    "\n",
    "# Highlight the mode interval\n",
    "plt.axvspan(lymphoma_mode.left, lymphoma_mode.right, color='orange', alpha=0.3, label=f'Mode: {lymphoma_mode}')\n",
    "\n",
    "plt.title('Survival Time (Months) for Lymphoma Patients')\n",
    "plt.xlabel('Survival Time (Months)')\n",
    "plt.legend()\n",
    "plt.show()\n",
    "\n",
    "# Plot for Melanoma patients' Survival Time\n",
    "melanoma_df = eye_cancer_df[eye_cancer_df['Cancer_Type'] == 'Melanoma']\n",
    "melanoma_mode = melanoma_df['Survival_Quantile'].mode()[0]\n",
    "plt.figure(figsize=(10, 5))\n",
    "sns.histplot(data=melanoma_df, x='Survival_Time_Months', bins=40, kde=True, color='green')\n",
    "plt.grid(True, axis='y', color='gray', linestyle='-', linewidth=0.7, alpha=0.5)\n",
    "\n",
    "plt.axvspan(melanoma_mode.left, melanoma_mode.right, color='orange', alpha=0.3, label=f'Mode: {melanoma_mode}')\n",
    "\n",
    "plt.title('Survival Time (Months) for Melanoma Patients')\n",
    "plt.xlabel('Survival Time (Months)')\n",
    "plt.legend()\n",
    "plt.show()\n",
    "\n",
    "\n",
    "# Plot for Retinoblastoma patients' Survival Time\n",
    "retinoblastoma_df = eye_cancer_df[eye_cancer_df['Cancer_Type'] == 'Retinoblastoma']\n",
    "retinoblastoma_mode = retinoblastoma_df['Survival_Quantile'].mode()[0]\n",
    "plt.figure(figsize=(10, 5)) \n",
    "sns.histplot(data=retinoblastoma_df, x='Survival_Time_Months', bins=40, kde=True, color='red')\n",
    "plt.grid(True, axis='y', color='gray', linestyle='-', linewidth=0.7, alpha=0.5)\n",
    "\n",
    "plt.axvspan(retinoblastoma_mode.left, retinoblastoma_mode.right, color='orange', alpha=0.3, label=f'Mode: {retinoblastoma_mode}')\n",
    "\n",
    "plt.title('Survival Time (Months) for Retinoblastoma Patients')\n",
    "plt.xlabel('Survival Time (Months)')\n",
    "plt.legend()\n",
    "plt.show()"
   ]
  },
  {
   "cell_type": "markdown",
   "id": "870b1fef",
   "metadata": {},
   "source": [
    "From the graph and table, we can see that the survival time in months of each cancer type is varies to one another. This suggests that the certain eye cancer types are harder to treat than others."
   ]
  },
  {
   "cell_type": "markdown",
   "id": "ed828985",
   "metadata": {},
   "source": [
    "#### **EDA Question 2: How does survival time vary between patients with and without the BRAF mutation**\n"
   ]
  },
  {
   "cell_type": "code",
   "execution_count": 132,
   "id": "cbe1b083",
   "metadata": {},
   "outputs": [
    {
     "ename": "KeyError",
     "evalue": "'Genetic_Mark'",
     "output_type": "error",
     "traceback": [
      "\u001b[1;31m---------------------------------------------------------------------------\u001b[0m",
      "\u001b[1;31mKeyError\u001b[0m                                  Traceback (most recent call last)",
      "Cell \u001b[1;32mIn[132], line 1\u001b[0m\n\u001b[1;32m----> 1\u001b[0m \u001b[43meye_cancer_df\u001b[49m\u001b[38;5;241;43m.\u001b[39;49m\u001b[43mboxplot\u001b[49m\u001b[43m(\u001b[49m\u001b[43mcolumn\u001b[49m\u001b[38;5;241;43m=\u001b[39;49m\u001b[38;5;124;43m'\u001b[39;49m\u001b[38;5;124;43mSurvival_Time_Months\u001b[39;49m\u001b[38;5;124;43m'\u001b[39;49m\u001b[43m,\u001b[49m\u001b[43m \u001b[49m\u001b[43mby\u001b[49m\u001b[38;5;241;43m=\u001b[39;49m\u001b[38;5;124;43m'\u001b[39;49m\u001b[38;5;124;43mGenetic_Mark\u001b[39;49m\u001b[38;5;124;43m'\u001b[39;49m\u001b[43m,\u001b[49m\u001b[43m \u001b[49m\u001b[43mfigsize\u001b[49m\u001b[38;5;241;43m=\u001b[39;49m\u001b[43m(\u001b[49m\u001b[38;5;241;43m10\u001b[39;49m\u001b[43m,\u001b[49m\u001b[43m \u001b[49m\u001b[38;5;241;43m6\u001b[39;49m\u001b[43m)\u001b[49m\u001b[43m)\u001b[49m\n\u001b[0;32m      2\u001b[0m plt\u001b[38;5;241m.\u001b[39mtitle(\u001b[38;5;124m'\u001b[39m\u001b[38;5;124mSurvival Time in Months by Cancer Type\u001b[39m\u001b[38;5;124m'\u001b[39m)\n\u001b[0;32m      3\u001b[0m plt\u001b[38;5;241m.\u001b[39msuptitle(\u001b[38;5;124m'\u001b[39m\u001b[38;5;124m'\u001b[39m)\n",
      "File \u001b[1;32m~\\AppData\\Local\\Packages\\PythonSoftwareFoundation.Python.3.11_qbz5n2kfra8p0\\LocalCache\\local-packages\\Python311\\site-packages\\pandas\\plotting\\_core.py:533\u001b[0m, in \u001b[0;36mboxplot_frame\u001b[1;34m(self, column, by, ax, fontsize, rot, grid, figsize, layout, return_type, backend, **kwargs)\u001b[0m\n\u001b[0;32m    516\u001b[0m \u001b[38;5;129m@Substitution\u001b[39m(data\u001b[38;5;241m=\u001b[39m\u001b[38;5;124m\"\u001b[39m\u001b[38;5;124m\"\u001b[39m, backend\u001b[38;5;241m=\u001b[39m_backend_doc)\n\u001b[0;32m    517\u001b[0m \u001b[38;5;129m@Appender\u001b[39m(_boxplot_doc)\n\u001b[0;32m    518\u001b[0m \u001b[38;5;28;01mdef\u001b[39;00m \u001b[38;5;21mboxplot_frame\u001b[39m(\n\u001b[1;32m   (...)\u001b[0m\n\u001b[0;32m    530\u001b[0m     \u001b[38;5;241m*\u001b[39m\u001b[38;5;241m*\u001b[39mkwargs,\n\u001b[0;32m    531\u001b[0m ):\n\u001b[0;32m    532\u001b[0m     plot_backend \u001b[38;5;241m=\u001b[39m _get_plot_backend(backend)\n\u001b[1;32m--> 533\u001b[0m     \u001b[38;5;28;01mreturn\u001b[39;00m \u001b[43mplot_backend\u001b[49m\u001b[38;5;241;43m.\u001b[39;49m\u001b[43mboxplot_frame\u001b[49m\u001b[43m(\u001b[49m\n\u001b[0;32m    534\u001b[0m \u001b[43m        \u001b[49m\u001b[38;5;28;43mself\u001b[39;49m\u001b[43m,\u001b[49m\n\u001b[0;32m    535\u001b[0m \u001b[43m        \u001b[49m\u001b[43mcolumn\u001b[49m\u001b[38;5;241;43m=\u001b[39;49m\u001b[43mcolumn\u001b[49m\u001b[43m,\u001b[49m\n\u001b[0;32m    536\u001b[0m \u001b[43m        \u001b[49m\u001b[43mby\u001b[49m\u001b[38;5;241;43m=\u001b[39;49m\u001b[43mby\u001b[49m\u001b[43m,\u001b[49m\n\u001b[0;32m    537\u001b[0m \u001b[43m        \u001b[49m\u001b[43max\u001b[49m\u001b[38;5;241;43m=\u001b[39;49m\u001b[43max\u001b[49m\u001b[43m,\u001b[49m\n\u001b[0;32m    538\u001b[0m \u001b[43m        \u001b[49m\u001b[43mfontsize\u001b[49m\u001b[38;5;241;43m=\u001b[39;49m\u001b[43mfontsize\u001b[49m\u001b[43m,\u001b[49m\n\u001b[0;32m    539\u001b[0m \u001b[43m        \u001b[49m\u001b[43mrot\u001b[49m\u001b[38;5;241;43m=\u001b[39;49m\u001b[43mrot\u001b[49m\u001b[43m,\u001b[49m\n\u001b[0;32m    540\u001b[0m \u001b[43m        \u001b[49m\u001b[43mgrid\u001b[49m\u001b[38;5;241;43m=\u001b[39;49m\u001b[43mgrid\u001b[49m\u001b[43m,\u001b[49m\n\u001b[0;32m    541\u001b[0m \u001b[43m        \u001b[49m\u001b[43mfigsize\u001b[49m\u001b[38;5;241;43m=\u001b[39;49m\u001b[43mfigsize\u001b[49m\u001b[43m,\u001b[49m\n\u001b[0;32m    542\u001b[0m \u001b[43m        \u001b[49m\u001b[43mlayout\u001b[49m\u001b[38;5;241;43m=\u001b[39;49m\u001b[43mlayout\u001b[49m\u001b[43m,\u001b[49m\n\u001b[0;32m    543\u001b[0m \u001b[43m        \u001b[49m\u001b[43mreturn_type\u001b[49m\u001b[38;5;241;43m=\u001b[39;49m\u001b[43mreturn_type\u001b[49m\u001b[43m,\u001b[49m\n\u001b[0;32m    544\u001b[0m \u001b[43m        \u001b[49m\u001b[38;5;241;43m*\u001b[39;49m\u001b[38;5;241;43m*\u001b[39;49m\u001b[43mkwargs\u001b[49m\u001b[43m,\u001b[49m\n\u001b[0;32m    545\u001b[0m \u001b[43m    \u001b[49m\u001b[43m)\u001b[49m\n",
      "File \u001b[1;32m~\\AppData\\Local\\Packages\\PythonSoftwareFoundation.Python.3.11_qbz5n2kfra8p0\\LocalCache\\local-packages\\Python311\\site-packages\\pandas\\plotting\\_matplotlib\\boxplot.py:492\u001b[0m, in \u001b[0;36mboxplot_frame\u001b[1;34m(self, column, by, ax, fontsize, rot, grid, figsize, layout, return_type, **kwds)\u001b[0m\n\u001b[0;32m    477\u001b[0m \u001b[38;5;28;01mdef\u001b[39;00m \u001b[38;5;21mboxplot_frame\u001b[39m(\n\u001b[0;32m    478\u001b[0m     \u001b[38;5;28mself\u001b[39m,\n\u001b[0;32m    479\u001b[0m     column\u001b[38;5;241m=\u001b[39m\u001b[38;5;28;01mNone\u001b[39;00m,\n\u001b[1;32m   (...)\u001b[0m\n\u001b[0;32m    488\u001b[0m     \u001b[38;5;241m*\u001b[39m\u001b[38;5;241m*\u001b[39mkwds,\n\u001b[0;32m    489\u001b[0m ):\n\u001b[0;32m    490\u001b[0m     \u001b[38;5;28;01mimport\u001b[39;00m \u001b[38;5;21;01mmatplotlib\u001b[39;00m\u001b[38;5;21;01m.\u001b[39;00m\u001b[38;5;21;01mpyplot\u001b[39;00m \u001b[38;5;28;01mas\u001b[39;00m \u001b[38;5;21;01mplt\u001b[39;00m\n\u001b[1;32m--> 492\u001b[0m     ax \u001b[38;5;241m=\u001b[39m \u001b[43mboxplot\u001b[49m\u001b[43m(\u001b[49m\n\u001b[0;32m    493\u001b[0m \u001b[43m        \u001b[49m\u001b[38;5;28;43mself\u001b[39;49m\u001b[43m,\u001b[49m\n\u001b[0;32m    494\u001b[0m \u001b[43m        \u001b[49m\u001b[43mcolumn\u001b[49m\u001b[38;5;241;43m=\u001b[39;49m\u001b[43mcolumn\u001b[49m\u001b[43m,\u001b[49m\n\u001b[0;32m    495\u001b[0m \u001b[43m        \u001b[49m\u001b[43mby\u001b[49m\u001b[38;5;241;43m=\u001b[39;49m\u001b[43mby\u001b[49m\u001b[43m,\u001b[49m\n\u001b[0;32m    496\u001b[0m \u001b[43m        \u001b[49m\u001b[43max\u001b[49m\u001b[38;5;241;43m=\u001b[39;49m\u001b[43max\u001b[49m\u001b[43m,\u001b[49m\n\u001b[0;32m    497\u001b[0m \u001b[43m        \u001b[49m\u001b[43mfontsize\u001b[49m\u001b[38;5;241;43m=\u001b[39;49m\u001b[43mfontsize\u001b[49m\u001b[43m,\u001b[49m\n\u001b[0;32m    498\u001b[0m \u001b[43m        \u001b[49m\u001b[43mgrid\u001b[49m\u001b[38;5;241;43m=\u001b[39;49m\u001b[43mgrid\u001b[49m\u001b[43m,\u001b[49m\n\u001b[0;32m    499\u001b[0m \u001b[43m        \u001b[49m\u001b[43mrot\u001b[49m\u001b[38;5;241;43m=\u001b[39;49m\u001b[43mrot\u001b[49m\u001b[43m,\u001b[49m\n\u001b[0;32m    500\u001b[0m \u001b[43m        \u001b[49m\u001b[43mfigsize\u001b[49m\u001b[38;5;241;43m=\u001b[39;49m\u001b[43mfigsize\u001b[49m\u001b[43m,\u001b[49m\n\u001b[0;32m    501\u001b[0m \u001b[43m        \u001b[49m\u001b[43mlayout\u001b[49m\u001b[38;5;241;43m=\u001b[39;49m\u001b[43mlayout\u001b[49m\u001b[43m,\u001b[49m\n\u001b[0;32m    502\u001b[0m \u001b[43m        \u001b[49m\u001b[43mreturn_type\u001b[49m\u001b[38;5;241;43m=\u001b[39;49m\u001b[43mreturn_type\u001b[49m\u001b[43m,\u001b[49m\n\u001b[0;32m    503\u001b[0m \u001b[43m        \u001b[49m\u001b[38;5;241;43m*\u001b[39;49m\u001b[38;5;241;43m*\u001b[39;49m\u001b[43mkwds\u001b[49m\u001b[43m,\u001b[49m\n\u001b[0;32m    504\u001b[0m \u001b[43m    \u001b[49m\u001b[43m)\u001b[49m\n\u001b[0;32m    505\u001b[0m     plt\u001b[38;5;241m.\u001b[39mdraw_if_interactive()\n\u001b[0;32m    506\u001b[0m     \u001b[38;5;28;01mreturn\u001b[39;00m ax\n",
      "File \u001b[1;32m~\\AppData\\Local\\Packages\\PythonSoftwareFoundation.Python.3.11_qbz5n2kfra8p0\\LocalCache\\local-packages\\Python311\\site-packages\\pandas\\plotting\\_matplotlib\\boxplot.py:438\u001b[0m, in \u001b[0;36mboxplot\u001b[1;34m(data, column, by, ax, fontsize, rot, grid, figsize, layout, return_type, **kwds)\u001b[0m\n\u001b[0;32m    433\u001b[0m     columns \u001b[38;5;241m=\u001b[39m [column]\n\u001b[0;32m    435\u001b[0m \u001b[38;5;28;01mif\u001b[39;00m by \u001b[38;5;129;01mis\u001b[39;00m \u001b[38;5;129;01mnot\u001b[39;00m \u001b[38;5;28;01mNone\u001b[39;00m:\n\u001b[0;32m    436\u001b[0m     \u001b[38;5;66;03m# Prefer array return type for 2-D plots to match the subplot layout\u001b[39;00m\n\u001b[0;32m    437\u001b[0m     \u001b[38;5;66;03m# https://github.com/pandas-dev/pandas/pull/12216#issuecomment-241175580\u001b[39;00m\n\u001b[1;32m--> 438\u001b[0m     result \u001b[38;5;241m=\u001b[39m \u001b[43m_grouped_plot_by_column\u001b[49m\u001b[43m(\u001b[49m\n\u001b[0;32m    439\u001b[0m \u001b[43m        \u001b[49m\u001b[43mplot_group\u001b[49m\u001b[43m,\u001b[49m\n\u001b[0;32m    440\u001b[0m \u001b[43m        \u001b[49m\u001b[43mdata\u001b[49m\u001b[43m,\u001b[49m\n\u001b[0;32m    441\u001b[0m \u001b[43m        \u001b[49m\u001b[43mcolumns\u001b[49m\u001b[38;5;241;43m=\u001b[39;49m\u001b[43mcolumns\u001b[49m\u001b[43m,\u001b[49m\n\u001b[0;32m    442\u001b[0m \u001b[43m        \u001b[49m\u001b[43mby\u001b[49m\u001b[38;5;241;43m=\u001b[39;49m\u001b[43mby\u001b[49m\u001b[43m,\u001b[49m\n\u001b[0;32m    443\u001b[0m \u001b[43m        \u001b[49m\u001b[43mgrid\u001b[49m\u001b[38;5;241;43m=\u001b[39;49m\u001b[43mgrid\u001b[49m\u001b[43m,\u001b[49m\n\u001b[0;32m    444\u001b[0m \u001b[43m        \u001b[49m\u001b[43mfigsize\u001b[49m\u001b[38;5;241;43m=\u001b[39;49m\u001b[43mfigsize\u001b[49m\u001b[43m,\u001b[49m\n\u001b[0;32m    445\u001b[0m \u001b[43m        \u001b[49m\u001b[43max\u001b[49m\u001b[38;5;241;43m=\u001b[39;49m\u001b[43max\u001b[49m\u001b[43m,\u001b[49m\n\u001b[0;32m    446\u001b[0m \u001b[43m        \u001b[49m\u001b[43mlayout\u001b[49m\u001b[38;5;241;43m=\u001b[39;49m\u001b[43mlayout\u001b[49m\u001b[43m,\u001b[49m\n\u001b[0;32m    447\u001b[0m \u001b[43m        \u001b[49m\u001b[43mreturn_type\u001b[49m\u001b[38;5;241;43m=\u001b[39;49m\u001b[43mreturn_type\u001b[49m\u001b[43m,\u001b[49m\n\u001b[0;32m    448\u001b[0m \u001b[43m        \u001b[49m\u001b[38;5;241;43m*\u001b[39;49m\u001b[38;5;241;43m*\u001b[39;49m\u001b[43mkwds\u001b[49m\u001b[43m,\u001b[49m\n\u001b[0;32m    449\u001b[0m \u001b[43m    \u001b[49m\u001b[43m)\u001b[49m\n\u001b[0;32m    450\u001b[0m \u001b[38;5;28;01melse\u001b[39;00m:\n\u001b[0;32m    451\u001b[0m     \u001b[38;5;28;01mif\u001b[39;00m return_type \u001b[38;5;129;01mis\u001b[39;00m \u001b[38;5;28;01mNone\u001b[39;00m:\n",
      "File \u001b[1;32m~\\AppData\\Local\\Packages\\PythonSoftwareFoundation.Python.3.11_qbz5n2kfra8p0\\LocalCache\\local-packages\\Python311\\site-packages\\pandas\\plotting\\_matplotlib\\boxplot.py:299\u001b[0m, in \u001b[0;36m_grouped_plot_by_column\u001b[1;34m(plotf, data, columns, by, numeric_only, grid, figsize, ax, layout, return_type, **kwargs)\u001b[0m\n\u001b[0;32m    286\u001b[0m \u001b[38;5;28;01mdef\u001b[39;00m \u001b[38;5;21m_grouped_plot_by_column\u001b[39m(\n\u001b[0;32m    287\u001b[0m     plotf,\n\u001b[0;32m    288\u001b[0m     data,\n\u001b[1;32m   (...)\u001b[0m\n\u001b[0;32m    297\u001b[0m     \u001b[38;5;241m*\u001b[39m\u001b[38;5;241m*\u001b[39mkwargs,\n\u001b[0;32m    298\u001b[0m ):\n\u001b[1;32m--> 299\u001b[0m     grouped \u001b[38;5;241m=\u001b[39m \u001b[43mdata\u001b[49m\u001b[38;5;241;43m.\u001b[39;49m\u001b[43mgroupby\u001b[49m\u001b[43m(\u001b[49m\u001b[43mby\u001b[49m\u001b[43m,\u001b[49m\u001b[43m \u001b[49m\u001b[43mobserved\u001b[49m\u001b[38;5;241;43m=\u001b[39;49m\u001b[38;5;28;43;01mFalse\u001b[39;49;00m\u001b[43m)\u001b[49m\n\u001b[0;32m    300\u001b[0m     \u001b[38;5;28;01mif\u001b[39;00m columns \u001b[38;5;129;01mis\u001b[39;00m \u001b[38;5;28;01mNone\u001b[39;00m:\n\u001b[0;32m    301\u001b[0m         \u001b[38;5;28;01mif\u001b[39;00m \u001b[38;5;129;01mnot\u001b[39;00m \u001b[38;5;28misinstance\u001b[39m(by, (\u001b[38;5;28mlist\u001b[39m, \u001b[38;5;28mtuple\u001b[39m)):\n",
      "File \u001b[1;32m~\\AppData\\Local\\Packages\\PythonSoftwareFoundation.Python.3.11_qbz5n2kfra8p0\\LocalCache\\local-packages\\Python311\\site-packages\\pandas\\core\\frame.py:9183\u001b[0m, in \u001b[0;36mDataFrame.groupby\u001b[1;34m(self, by, axis, level, as_index, sort, group_keys, observed, dropna)\u001b[0m\n\u001b[0;32m   9180\u001b[0m \u001b[38;5;28;01mif\u001b[39;00m level \u001b[38;5;129;01mis\u001b[39;00m \u001b[38;5;28;01mNone\u001b[39;00m \u001b[38;5;129;01mand\u001b[39;00m by \u001b[38;5;129;01mis\u001b[39;00m \u001b[38;5;28;01mNone\u001b[39;00m:\n\u001b[0;32m   9181\u001b[0m     \u001b[38;5;28;01mraise\u001b[39;00m \u001b[38;5;167;01mTypeError\u001b[39;00m(\u001b[38;5;124m\"\u001b[39m\u001b[38;5;124mYou have to supply one of \u001b[39m\u001b[38;5;124m'\u001b[39m\u001b[38;5;124mby\u001b[39m\u001b[38;5;124m'\u001b[39m\u001b[38;5;124m and \u001b[39m\u001b[38;5;124m'\u001b[39m\u001b[38;5;124mlevel\u001b[39m\u001b[38;5;124m'\u001b[39m\u001b[38;5;124m\"\u001b[39m)\n\u001b[1;32m-> 9183\u001b[0m \u001b[38;5;28;01mreturn\u001b[39;00m \u001b[43mDataFrameGroupBy\u001b[49m\u001b[43m(\u001b[49m\n\u001b[0;32m   9184\u001b[0m \u001b[43m    \u001b[49m\u001b[43mobj\u001b[49m\u001b[38;5;241;43m=\u001b[39;49m\u001b[38;5;28;43mself\u001b[39;49m\u001b[43m,\u001b[49m\n\u001b[0;32m   9185\u001b[0m \u001b[43m    \u001b[49m\u001b[43mkeys\u001b[49m\u001b[38;5;241;43m=\u001b[39;49m\u001b[43mby\u001b[49m\u001b[43m,\u001b[49m\n\u001b[0;32m   9186\u001b[0m \u001b[43m    \u001b[49m\u001b[43maxis\u001b[49m\u001b[38;5;241;43m=\u001b[39;49m\u001b[43maxis\u001b[49m\u001b[43m,\u001b[49m\n\u001b[0;32m   9187\u001b[0m \u001b[43m    \u001b[49m\u001b[43mlevel\u001b[49m\u001b[38;5;241;43m=\u001b[39;49m\u001b[43mlevel\u001b[49m\u001b[43m,\u001b[49m\n\u001b[0;32m   9188\u001b[0m \u001b[43m    \u001b[49m\u001b[43mas_index\u001b[49m\u001b[38;5;241;43m=\u001b[39;49m\u001b[43mas_index\u001b[49m\u001b[43m,\u001b[49m\n\u001b[0;32m   9189\u001b[0m \u001b[43m    \u001b[49m\u001b[43msort\u001b[49m\u001b[38;5;241;43m=\u001b[39;49m\u001b[43msort\u001b[49m\u001b[43m,\u001b[49m\n\u001b[0;32m   9190\u001b[0m \u001b[43m    \u001b[49m\u001b[43mgroup_keys\u001b[49m\u001b[38;5;241;43m=\u001b[39;49m\u001b[43mgroup_keys\u001b[49m\u001b[43m,\u001b[49m\n\u001b[0;32m   9191\u001b[0m \u001b[43m    \u001b[49m\u001b[43mobserved\u001b[49m\u001b[38;5;241;43m=\u001b[39;49m\u001b[43mobserved\u001b[49m\u001b[43m,\u001b[49m\n\u001b[0;32m   9192\u001b[0m \u001b[43m    \u001b[49m\u001b[43mdropna\u001b[49m\u001b[38;5;241;43m=\u001b[39;49m\u001b[43mdropna\u001b[49m\u001b[43m,\u001b[49m\n\u001b[0;32m   9193\u001b[0m \u001b[43m\u001b[49m\u001b[43m)\u001b[49m\n",
      "File \u001b[1;32m~\\AppData\\Local\\Packages\\PythonSoftwareFoundation.Python.3.11_qbz5n2kfra8p0\\LocalCache\\local-packages\\Python311\\site-packages\\pandas\\core\\groupby\\groupby.py:1329\u001b[0m, in \u001b[0;36mGroupBy.__init__\u001b[1;34m(self, obj, keys, axis, level, grouper, exclusions, selection, as_index, sort, group_keys, observed, dropna)\u001b[0m\n\u001b[0;32m   1326\u001b[0m \u001b[38;5;28mself\u001b[39m\u001b[38;5;241m.\u001b[39mdropna \u001b[38;5;241m=\u001b[39m dropna\n\u001b[0;32m   1328\u001b[0m \u001b[38;5;28;01mif\u001b[39;00m grouper \u001b[38;5;129;01mis\u001b[39;00m \u001b[38;5;28;01mNone\u001b[39;00m:\n\u001b[1;32m-> 1329\u001b[0m     grouper, exclusions, obj \u001b[38;5;241m=\u001b[39m \u001b[43mget_grouper\u001b[49m\u001b[43m(\u001b[49m\n\u001b[0;32m   1330\u001b[0m \u001b[43m        \u001b[49m\u001b[43mobj\u001b[49m\u001b[43m,\u001b[49m\n\u001b[0;32m   1331\u001b[0m \u001b[43m        \u001b[49m\u001b[43mkeys\u001b[49m\u001b[43m,\u001b[49m\n\u001b[0;32m   1332\u001b[0m \u001b[43m        \u001b[49m\u001b[43maxis\u001b[49m\u001b[38;5;241;43m=\u001b[39;49m\u001b[43maxis\u001b[49m\u001b[43m,\u001b[49m\n\u001b[0;32m   1333\u001b[0m \u001b[43m        \u001b[49m\u001b[43mlevel\u001b[49m\u001b[38;5;241;43m=\u001b[39;49m\u001b[43mlevel\u001b[49m\u001b[43m,\u001b[49m\n\u001b[0;32m   1334\u001b[0m \u001b[43m        \u001b[49m\u001b[43msort\u001b[49m\u001b[38;5;241;43m=\u001b[39;49m\u001b[43msort\u001b[49m\u001b[43m,\u001b[49m\n\u001b[0;32m   1335\u001b[0m \u001b[43m        \u001b[49m\u001b[43mobserved\u001b[49m\u001b[38;5;241;43m=\u001b[39;49m\u001b[38;5;28;43;01mFalse\u001b[39;49;00m\u001b[43m \u001b[49m\u001b[38;5;28;43;01mif\u001b[39;49;00m\u001b[43m \u001b[49m\u001b[43mobserved\u001b[49m\u001b[43m \u001b[49m\u001b[38;5;129;43;01mis\u001b[39;49;00m\u001b[43m \u001b[49m\u001b[43mlib\u001b[49m\u001b[38;5;241;43m.\u001b[39;49m\u001b[43mno_default\u001b[49m\u001b[43m \u001b[49m\u001b[38;5;28;43;01melse\u001b[39;49;00m\u001b[43m \u001b[49m\u001b[43mobserved\u001b[49m\u001b[43m,\u001b[49m\n\u001b[0;32m   1336\u001b[0m \u001b[43m        \u001b[49m\u001b[43mdropna\u001b[49m\u001b[38;5;241;43m=\u001b[39;49m\u001b[38;5;28;43mself\u001b[39;49m\u001b[38;5;241;43m.\u001b[39;49m\u001b[43mdropna\u001b[49m\u001b[43m,\u001b[49m\n\u001b[0;32m   1337\u001b[0m \u001b[43m    \u001b[49m\u001b[43m)\u001b[49m\n\u001b[0;32m   1339\u001b[0m \u001b[38;5;28;01mif\u001b[39;00m observed \u001b[38;5;129;01mis\u001b[39;00m lib\u001b[38;5;241m.\u001b[39mno_default:\n\u001b[0;32m   1340\u001b[0m     \u001b[38;5;28;01mif\u001b[39;00m \u001b[38;5;28many\u001b[39m(ping\u001b[38;5;241m.\u001b[39m_passed_categorical \u001b[38;5;28;01mfor\u001b[39;00m ping \u001b[38;5;129;01min\u001b[39;00m grouper\u001b[38;5;241m.\u001b[39mgroupings):\n",
      "File \u001b[1;32m~\\AppData\\Local\\Packages\\PythonSoftwareFoundation.Python.3.11_qbz5n2kfra8p0\\LocalCache\\local-packages\\Python311\\site-packages\\pandas\\core\\groupby\\grouper.py:1043\u001b[0m, in \u001b[0;36mget_grouper\u001b[1;34m(obj, key, axis, level, sort, observed, validate, dropna)\u001b[0m\n\u001b[0;32m   1041\u001b[0m         in_axis, level, gpr \u001b[38;5;241m=\u001b[39m \u001b[38;5;28;01mFalse\u001b[39;00m, gpr, \u001b[38;5;28;01mNone\u001b[39;00m\n\u001b[0;32m   1042\u001b[0m     \u001b[38;5;28;01melse\u001b[39;00m:\n\u001b[1;32m-> 1043\u001b[0m         \u001b[38;5;28;01mraise\u001b[39;00m \u001b[38;5;167;01mKeyError\u001b[39;00m(gpr)\n\u001b[0;32m   1044\u001b[0m \u001b[38;5;28;01melif\u001b[39;00m \u001b[38;5;28misinstance\u001b[39m(gpr, Grouper) \u001b[38;5;129;01mand\u001b[39;00m gpr\u001b[38;5;241m.\u001b[39mkey \u001b[38;5;129;01mis\u001b[39;00m \u001b[38;5;129;01mnot\u001b[39;00m \u001b[38;5;28;01mNone\u001b[39;00m:\n\u001b[0;32m   1045\u001b[0m     \u001b[38;5;66;03m# Add key to exclusions\u001b[39;00m\n\u001b[0;32m   1046\u001b[0m     exclusions\u001b[38;5;241m.\u001b[39madd(gpr\u001b[38;5;241m.\u001b[39mkey)\n",
      "\u001b[1;31mKeyError\u001b[0m: 'Genetic_Mark'"
     ]
    }
   ],
   "source": [
    "eye_cancer_df.boxplot(column='Survival_Time_Months', by='Genetic_Mark', figsize=(10, 6))\n",
    "plt.title('Survival Time in Months by Cancer Type')\n",
    "plt.suptitle('')\n",
    "plt.xlabel('Cancer Type')\n",
    "plt.ylabel('Survival Time in Months')\n",
    "plt.show()"
   ]
  },
  {
   "cell_type": "code",
   "execution_count": null,
   "id": "e4c7df1e",
   "metadata": {},
   "outputs": [],
   "source": [
    "eye_cancer_df.boxplot(column='Survival_Time_Months', by='Stage', figsize=(10, 6))\n"
   ]
  },
  {
   "cell_type": "code",
   "execution_count": null,
   "id": "729a98bf",
   "metadata": {},
   "outputs": [
    {
     "name": "stdout",
     "output_type": "stream",
     "text": [
      "<class 'pandas.core.series.Series'>\n",
      "RangeIndex: 5000 entries, 0 to 4999\n",
      "Series name: Cancer_Type\n",
      "Non-Null Count  Dtype \n",
      "--------------  ----- \n",
      "5000 non-null   object\n",
      "dtypes: object(1)\n",
      "memory usage: 39.2+ KB\n"
     ]
    }
   ],
   "source": [
    "eye_cancer_df['Cancer_Type'].info()"
   ]
  }
 ],
 "metadata": {
  "kernelspec": {
   "display_name": "Python 3",
   "language": "python",
   "name": "python3"
  },
  "language_info": {
   "codemirror_mode": {
    "name": "ipython",
    "version": 3
   },
   "file_extension": ".py",
   "mimetype": "text/x-python",
   "name": "python",
   "nbconvert_exporter": "python",
   "pygments_lexer": "ipython3",
   "version": "3.11.9"
  }
 },
 "nbformat": 4,
 "nbformat_minor": 5
}
