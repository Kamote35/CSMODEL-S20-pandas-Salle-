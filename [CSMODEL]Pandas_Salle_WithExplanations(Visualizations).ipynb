{
 "cells": [
  {
   "cell_type": "markdown",
   "id": "38b827e1",
   "metadata": {},
   "source": [
    "# **Eye Cancer Patients  Jupyter Notebook**\n",
    "\n",
    "**Section**: S20 <br>\n",
    "\n",
    "**Group**: pandas Salle"
   ]
  },
  {
   "cell_type": "markdown",
   "id": "1a3857bf",
   "metadata": {},
   "source": [
    "# **Dataset Description**\n",
    "\n",
    "The chosen data set titled \"Eye Cancer Patient Records\" provides detailed medical records for 5,000 patients diagnosed with 3 different types of eye cancer namely, Melanoma, Retinoblastoma, and Lymphoma. The dataset was retrieved from Kaggle and is designed for machine learning projects, statistical modeling, and healthcare research.\n"
   ]
  },
  {
   "cell_type": "markdown",
   "id": "f1cd36ab",
   "metadata": {},
   "source": []
  },
  {
   "cell_type": "markdown",
   "id": "4677e4d6",
   "metadata": {},
   "source": [
    "### **Import the necessary libraries**\n",
    "\n",
    "For Data Visualization and Data processing\n"
   ]
  },
  {
   "cell_type": "code",
   "execution_count": 269,
   "id": "16aaf047",
   "metadata": {},
   "outputs": [],
   "source": [
    "import numpy as np\n",
    "import pandas as pd\n",
    "import matplotlib.pyplot as plt\n",
    "import seaborn as sns"
   ]
  },
  {
   "cell_type": "markdown",
   "id": "88cc88ac",
   "metadata": {},
   "source": [
    "### **Initializing the DataFrame**\n",
    "\n",
    "Load the Eye Cancer Patients Dataset into a pandas DataFrame\n"
   ]
  },
  {
   "cell_type": "code",
   "execution_count": 270,
   "id": "16f5aa13",
   "metadata": {},
   "outputs": [
    {
     "data": {
      "application/vnd.microsoft.datawrangler.viewer.v0+json": {
       "columns": [
        {
         "name": "index",
         "rawType": "int64",
         "type": "integer"
        },
        {
         "name": "Patient_ID",
         "rawType": "object",
         "type": "string"
        },
        {
         "name": "Age",
         "rawType": "int64",
         "type": "integer"
        },
        {
         "name": "Gender",
         "rawType": "object",
         "type": "string"
        },
        {
         "name": "Cancer_Type",
         "rawType": "object",
         "type": "string"
        },
        {
         "name": "Laterality",
         "rawType": "object",
         "type": "string"
        },
        {
         "name": "Date_of_Diagnosis",
         "rawType": "object",
         "type": "string"
        },
        {
         "name": "Stage_at_Diagnosis",
         "rawType": "object",
         "type": "string"
        },
        {
         "name": "Treatment_Type",
         "rawType": "object",
         "type": "string"
        },
        {
         "name": "Surgery_Status",
         "rawType": "bool",
         "type": "boolean"
        },
        {
         "name": "Radiation_Therapy",
         "rawType": "int64",
         "type": "integer"
        },
        {
         "name": "Chemotherapy",
         "rawType": "int64",
         "type": "integer"
        },
        {
         "name": "Outcome_Status",
         "rawType": "object",
         "type": "string"
        },
        {
         "name": "Survival_Time_Months",
         "rawType": "int64",
         "type": "integer"
        },
        {
         "name": "Genetic_Markers",
         "rawType": "object",
         "type": "unknown"
        },
        {
         "name": "Family_History",
         "rawType": "bool",
         "type": "boolean"
        },
        {
         "name": "Country",
         "rawType": "object",
         "type": "string"
        }
       ],
       "ref": "f9e0b54a-b737-480d-8943-2e81587ca100",
       "rows": [
        [
         "0",
         "PID00001",
         "58",
         "F",
         "Retinoblastoma",
         "Left",
         "2019-01-25",
         "Stage IV",
         "Radiation",
         "False",
         "15",
         "3",
         "Deceased",
         "85",
         null,
         "True",
         "UK"
        ],
        [
         "1",
         "PID00002",
         "15",
         "Other",
         "Retinoblastoma",
         "Right",
         "2021-10-21",
         "Stage III",
         "Chemotherapy",
         "True",
         "69",
         "6",
         "In Remission",
         "10",
         null,
         "True",
         "Japan"
        ],
        [
         "2",
         "PID00003",
         "64",
         "M",
         "Retinoblastoma",
         "Bilateral",
         "2021-03-12",
         "Stage IV",
         "Surgery",
         "False",
         "47",
         "6",
         "In Remission",
         "3",
         "BRAF Mutation",
         "False",
         "UK"
        ],
        [
         "3",
         "PID00004",
         "33",
         "M",
         "Melanoma",
         "Right",
         "2021-05-10",
         "Stage II",
         "Radiation",
         "True",
         "36",
         "6",
         "Active",
         "40",
         null,
         "False",
         "Canada"
        ],
        [
         "4",
         "PID00005",
         "8",
         "Other",
         "Lymphoma",
         "Left",
         "2019-11-24",
         "Stage I",
         "Chemotherapy",
         "False",
         "14",
         "14",
         "In Remission",
         "26",
         "BRAF Mutation",
         "True",
         "USA"
        ]
       ],
       "shape": {
        "columns": 16,
        "rows": 5
       }
      },
      "text/html": [
       "<div>\n",
       "<style scoped>\n",
       "    .dataframe tbody tr th:only-of-type {\n",
       "        vertical-align: middle;\n",
       "    }\n",
       "\n",
       "    .dataframe tbody tr th {\n",
       "        vertical-align: top;\n",
       "    }\n",
       "\n",
       "    .dataframe thead th {\n",
       "        text-align: right;\n",
       "    }\n",
       "</style>\n",
       "<table border=\"1\" class=\"dataframe\">\n",
       "  <thead>\n",
       "    <tr style=\"text-align: right;\">\n",
       "      <th></th>\n",
       "      <th>Patient_ID</th>\n",
       "      <th>Age</th>\n",
       "      <th>Gender</th>\n",
       "      <th>Cancer_Type</th>\n",
       "      <th>Laterality</th>\n",
       "      <th>Date_of_Diagnosis</th>\n",
       "      <th>Stage_at_Diagnosis</th>\n",
       "      <th>Treatment_Type</th>\n",
       "      <th>Surgery_Status</th>\n",
       "      <th>Radiation_Therapy</th>\n",
       "      <th>Chemotherapy</th>\n",
       "      <th>Outcome_Status</th>\n",
       "      <th>Survival_Time_Months</th>\n",
       "      <th>Genetic_Markers</th>\n",
       "      <th>Family_History</th>\n",
       "      <th>Country</th>\n",
       "    </tr>\n",
       "  </thead>\n",
       "  <tbody>\n",
       "    <tr>\n",
       "      <th>0</th>\n",
       "      <td>PID00001</td>\n",
       "      <td>58</td>\n",
       "      <td>F</td>\n",
       "      <td>Retinoblastoma</td>\n",
       "      <td>Left</td>\n",
       "      <td>2019-01-25</td>\n",
       "      <td>Stage IV</td>\n",
       "      <td>Radiation</td>\n",
       "      <td>False</td>\n",
       "      <td>15</td>\n",
       "      <td>3</td>\n",
       "      <td>Deceased</td>\n",
       "      <td>85</td>\n",
       "      <td>NaN</td>\n",
       "      <td>True</td>\n",
       "      <td>UK</td>\n",
       "    </tr>\n",
       "    <tr>\n",
       "      <th>1</th>\n",
       "      <td>PID00002</td>\n",
       "      <td>15</td>\n",
       "      <td>Other</td>\n",
       "      <td>Retinoblastoma</td>\n",
       "      <td>Right</td>\n",
       "      <td>2021-10-21</td>\n",
       "      <td>Stage III</td>\n",
       "      <td>Chemotherapy</td>\n",
       "      <td>True</td>\n",
       "      <td>69</td>\n",
       "      <td>6</td>\n",
       "      <td>In Remission</td>\n",
       "      <td>10</td>\n",
       "      <td>NaN</td>\n",
       "      <td>True</td>\n",
       "      <td>Japan</td>\n",
       "    </tr>\n",
       "    <tr>\n",
       "      <th>2</th>\n",
       "      <td>PID00003</td>\n",
       "      <td>64</td>\n",
       "      <td>M</td>\n",
       "      <td>Retinoblastoma</td>\n",
       "      <td>Bilateral</td>\n",
       "      <td>2021-03-12</td>\n",
       "      <td>Stage IV</td>\n",
       "      <td>Surgery</td>\n",
       "      <td>False</td>\n",
       "      <td>47</td>\n",
       "      <td>6</td>\n",
       "      <td>In Remission</td>\n",
       "      <td>3</td>\n",
       "      <td>BRAF Mutation</td>\n",
       "      <td>False</td>\n",
       "      <td>UK</td>\n",
       "    </tr>\n",
       "    <tr>\n",
       "      <th>3</th>\n",
       "      <td>PID00004</td>\n",
       "      <td>33</td>\n",
       "      <td>M</td>\n",
       "      <td>Melanoma</td>\n",
       "      <td>Right</td>\n",
       "      <td>2021-05-10</td>\n",
       "      <td>Stage II</td>\n",
       "      <td>Radiation</td>\n",
       "      <td>True</td>\n",
       "      <td>36</td>\n",
       "      <td>6</td>\n",
       "      <td>Active</td>\n",
       "      <td>40</td>\n",
       "      <td>NaN</td>\n",
       "      <td>False</td>\n",
       "      <td>Canada</td>\n",
       "    </tr>\n",
       "    <tr>\n",
       "      <th>4</th>\n",
       "      <td>PID00005</td>\n",
       "      <td>8</td>\n",
       "      <td>Other</td>\n",
       "      <td>Lymphoma</td>\n",
       "      <td>Left</td>\n",
       "      <td>2019-11-24</td>\n",
       "      <td>Stage I</td>\n",
       "      <td>Chemotherapy</td>\n",
       "      <td>False</td>\n",
       "      <td>14</td>\n",
       "      <td>14</td>\n",
       "      <td>In Remission</td>\n",
       "      <td>26</td>\n",
       "      <td>BRAF Mutation</td>\n",
       "      <td>True</td>\n",
       "      <td>USA</td>\n",
       "    </tr>\n",
       "  </tbody>\n",
       "</table>\n",
       "</div>"
      ],
      "text/plain": [
       "  Patient_ID  Age Gender     Cancer_Type Laterality Date_of_Diagnosis  \\\n",
       "0   PID00001   58      F  Retinoblastoma       Left        2019-01-25   \n",
       "1   PID00002   15  Other  Retinoblastoma      Right        2021-10-21   \n",
       "2   PID00003   64      M  Retinoblastoma  Bilateral        2021-03-12   \n",
       "3   PID00004   33      M        Melanoma      Right        2021-05-10   \n",
       "4   PID00005    8  Other        Lymphoma       Left        2019-11-24   \n",
       "\n",
       "  Stage_at_Diagnosis Treatment_Type  Surgery_Status  Radiation_Therapy  \\\n",
       "0           Stage IV      Radiation           False                 15   \n",
       "1          Stage III   Chemotherapy            True                 69   \n",
       "2           Stage IV        Surgery           False                 47   \n",
       "3           Stage II      Radiation            True                 36   \n",
       "4            Stage I   Chemotherapy           False                 14   \n",
       "\n",
       "   Chemotherapy Outcome_Status  Survival_Time_Months Genetic_Markers  \\\n",
       "0             3       Deceased                    85             NaN   \n",
       "1             6   In Remission                    10             NaN   \n",
       "2             6   In Remission                     3   BRAF Mutation   \n",
       "3             6         Active                    40             NaN   \n",
       "4            14   In Remission                    26   BRAF Mutation   \n",
       "\n",
       "   Family_History Country  \n",
       "0            True      UK  \n",
       "1            True   Japan  \n",
       "2           False      UK  \n",
       "3           False  Canada  \n",
       "4            True     USA  "
      ]
     },
     "execution_count": 270,
     "metadata": {},
     "output_type": "execute_result"
    }
   ],
   "source": [
    "eye_cancer_df = pd.read_csv('eye_cancer_patients.csv')\n",
    "eye_cancer_df.head()"
   ]
  },
  {
   "cell_type": "markdown",
   "id": "981a1127",
   "metadata": {},
   "source": [
    "### **Preparing to Clean up the Data**\n",
    "\n",
    "Check the information regarding the Dataset\n"
   ]
  },
  {
   "cell_type": "code",
   "execution_count": 271,
   "id": "2824c9f1",
   "metadata": {},
   "outputs": [
    {
     "name": "stdout",
     "output_type": "stream",
     "text": [
      "<class 'pandas.core.frame.DataFrame'>\n",
      "RangeIndex: 5000 entries, 0 to 4999\n",
      "Data columns (total 16 columns):\n",
      " #   Column                Non-Null Count  Dtype \n",
      "---  ------                --------------  ----- \n",
      " 0   Patient_ID            5000 non-null   object\n",
      " 1   Age                   5000 non-null   int64 \n",
      " 2   Gender                5000 non-null   object\n",
      " 3   Cancer_Type           5000 non-null   object\n",
      " 4   Laterality            5000 non-null   object\n",
      " 5   Date_of_Diagnosis     5000 non-null   object\n",
      " 6   Stage_at_Diagnosis    5000 non-null   object\n",
      " 7   Treatment_Type        5000 non-null   object\n",
      " 8   Surgery_Status        5000 non-null   bool  \n",
      " 9   Radiation_Therapy     5000 non-null   int64 \n",
      " 10  Chemotherapy          5000 non-null   int64 \n",
      " 11  Outcome_Status        5000 non-null   object\n",
      " 12  Survival_Time_Months  5000 non-null   int64 \n",
      " 13  Genetic_Markers       2503 non-null   object\n",
      " 14  Family_History        5000 non-null   bool  \n",
      " 15  Country               5000 non-null   object\n",
      "dtypes: bool(2), int64(4), object(10)\n",
      "memory usage: 556.8+ KB\n"
     ]
    }
   ],
   "source": [
    "eye_cancer_df.info()"
   ]
  },
  {
   "cell_type": "markdown",
   "id": "d3bb0017",
   "metadata": {},
   "source": [
    "#### **Data preprocessing**\n",
    "We will want to remove the `nan` values so that when we do Exploratory Data Analysis later, we will not encounter isues<br>\n",
    "First let us check if we missed any variables with a `nan` value"
   ]
  },
  {
   "cell_type": "code",
   "execution_count": 272,
   "id": "c93768d1",
   "metadata": {},
   "outputs": [
    {
     "name": "stdout",
     "output_type": "stream",
     "text": [
      "['Genetic_Markers']\n"
     ]
    }
   ],
   "source": [
    "nan_variables = eye_cancer_df.columns[eye_cancer_df.isnull().any()].to_list()\n",
    "print(nan_variables)"
   ]
  },
  {
   "cell_type": "markdown",
   "id": "09c97da7",
   "metadata": {},
   "source": [
    "> For this dataset, it seems like `Genetic_Markers` is the only variable that has a `nan` value, so we may proceed with the cleaning up of the data."
   ]
  },
  {
   "cell_type": "markdown",
   "id": "1867e012",
   "metadata": {},
   "source": [
    "#### **Do we drop or replace the** `nan` **values from** `Genetic_Markers` **variable?**\n",
    "Dropping the rows with `nan` values in `Genetic_Markers` would be more convenient, but first let us check if we still have sufficient data if ever we drop them<br>\n",
    "So our task is to count how many of the rows are affected by the `nan` values."
   ]
  },
  {
   "cell_type": "code",
   "execution_count": 273,
   "id": "91702810",
   "metadata": {},
   "outputs": [
    {
     "name": "stdout",
     "output_type": "stream",
     "text": [
      "The count of NaN values in Genetic_Markers is: 2497\n"
     ]
    }
   ],
   "source": [
    "nan_count = eye_cancer_df['Genetic_Markers'].isnull().sum()\n",
    "\n",
    "print(\"The count of NaN values in Genetic_Markers is:\", nan_count)"
   ]
  },
  {
   "cell_type": "markdown",
   "id": "dce812f6",
   "metadata": {},
   "source": [
    "> Let us check the shape of our pandas DataFrame: `eye_cancer_df` "
   ]
  },
  {
   "cell_type": "code",
   "execution_count": 274,
   "id": "17a417ad",
   "metadata": {},
   "outputs": [
    {
     "name": "stdout",
     "output_type": "stream",
     "text": [
      "Our Data frame has 5000 rows and 16 columns.\n"
     ]
    }
   ],
   "source": [
    "eye_cancer_df.shape\n",
    "print(\"Our Data frame has {} rows and {} columns.\".format(eye_cancer_df.shape[0], eye_cancer_df.shape[1]))"
   ]
  },
  {
   "cell_type": "markdown",
   "id": "8ef6a233",
   "metadata": {},
   "source": [
    "> We know we have 5000 observations, and according to the count of our `nan` values in the `Genetic_Markers` variable, 2497 rows are affected by these `nan` values. <br> <br>\n",
    "> Therefore, we cannot proceed with the dropping since it will affect about half of our observations. <br> <br>\n",
    "> Instead let us, replace these `nan` values with another categorical data as `None`."
   ]
  },
  {
   "cell_type": "code",
   "execution_count": 275,
   "id": "c19bfede",
   "metadata": {},
   "outputs": [],
   "source": [
    "eye_cancer_df.loc[eye_cancer_df['Genetic_Markers'].isnull(), 'Genetic_Markers'] = 'None'"
   ]
  },
  {
   "cell_type": "markdown",
   "id": "57b55b64",
   "metadata": {},
   "source": [
    "#### ⚠️ **Sanity Check !!**\n",
    "Let us see if the `nan` values in the `Genetic_Markers` variables have been replace with `None`"
   ]
  },
  {
   "cell_type": "code",
   "execution_count": 276,
   "id": "ef90ff0e",
   "metadata": {},
   "outputs": [
    {
     "name": "stdout",
     "output_type": "stream",
     "text": [
      "The number of rows where the nan values in Genetic_Markers variable that has been replaced with 'None' is: 2497 rows\n",
      "Meanwhile the number of rows that are still containg nan values is: 0 rows\n"
     ]
    }
   ],
   "source": [
    "replaced = eye_cancer_df.loc[eye_cancer_df['Genetic_Markers'] == 'None', 'Genetic_Markers'].shape[0]\n",
    "not_replaced = eye_cancer_df['Genetic_Markers'].isnull().sum()\n",
    "print(\"The number of rows where the nan values in Genetic_Markers variable that has been replaced with 'None' is: {} rows\".format(replaced))\n",
    "print(\"Meanwhile the number of rows that are still containg nan values is: {} rows\".format(not_replaced))"
   ]
  },
  {
   "cell_type": "markdown",
   "id": "32a83b27",
   "metadata": {},
   "source": [
    "The `2497` rows that has been successfully replaced with `None` in the `Genetic_Markers` variable is parallel with the number of rows that was originally `nan` values in `Genetic_Markers`"
   ]
  },
  {
   "cell_type": "markdown",
   "id": "dfb783da",
   "metadata": {},
   "source": [
    "#### **Next let's check if there are duplicate values in our categorical data**\n",
    "To do this we can loop over the columns of our pandas DataFrame and then check the Unique Values"
   ]
  },
  {
   "cell_type": "code",
   "execution_count": 277,
   "id": "bd685e4e",
   "metadata": {},
   "outputs": [
    {
     "name": "stdout",
     "output_type": "stream",
     "text": [
      "Unique values in Gender: ['F' 'Other' 'M']\n",
      "\n",
      "Unique values in Cancer_Type: ['Retinoblastoma' 'Melanoma' 'Lymphoma']\n",
      "\n",
      "Unique values in Laterality: ['Left' 'Right' 'Bilateral']\n",
      "\n",
      "Unique values in Stage_at_Diagnosis: ['Stage IV' 'Stage III' 'Stage II' 'Stage I']\n",
      "\n",
      "Unique values in Treatment_Type: ['Radiation' 'Chemotherapy' 'Surgery']\n",
      "\n",
      "Unique values in Outcome_Status: ['Deceased' 'In Remission' 'Active']\n",
      "\n",
      "Unique values in Genetic_Markers: ['None' 'BRAF Mutation']\n",
      "\n",
      "Unique values in Country: ['UK' 'Japan' 'Canada' 'USA' 'Australia' 'Germany' 'South Africa' 'Brazil'\n",
      " 'France' 'India']\n",
      "\n"
     ]
    }
   ],
   "source": [
    "for col in eye_cancer_df.columns:\n",
    "    if eye_cancer_df[col].dtype == 'object' and col != 'Date_of_Diagnosis' and col != 'Patient_ID':\n",
    "        print(f\"Unique values in {col}: {eye_cancer_df[col].unique()}\")\n",
    "        print()"
   ]
  },
  {
   "cell_type": "markdown",
   "id": "5d2cd633",
   "metadata": {},
   "source": [
    "> Since there are no duplicate values"
   ]
  },
  {
   "cell_type": "markdown",
   "id": "665c5b1f",
   "metadata": {},
   "source": [
    "#### **EDA Question 1: How does survival time vary by cancer type?**\n",
    "\n",
    "To visualize if survival time varies with the cancer type, let's use a box and whisker plot. <br>\n",
    "While we're at it, let's check what would be the `Median` of `Survival_Time_Months` of our Dataset of Eye Cancer Patients regardless of `Cancer_Type` and Visualize it.\n"
   ]
  },
  {
   "cell_type": "code",
   "execution_count": 278,
   "id": "49b71f9f",
   "metadata": {},
   "outputs": [
    {
     "data": {
      "application/vnd.microsoft.datawrangler.viewer.v0+json": {
       "columns": [
        {
         "name": "index",
         "rawType": "object",
         "type": "string"
        },
        {
         "name": "Survival_Time_Months",
         "rawType": "object",
         "type": "unknown"
        }
       ],
       "ref": "0bd14bc0-387d-48fa-8bfd-84f3e6cccad5",
       "rows": [
        [
         "mean",
         "60.716"
        ],
        [
         "median",
         "60.0"
        ],
        [
         "std",
         "34.54977396997374"
        ],
        [
         "mode",
         "[52, 71]"
        ],
        [
         "range",
         "119"
        ],
        [
         "midpoint",
         "59.5"
        ]
       ],
       "shape": {
        "columns": 1,
        "rows": 6
       }
      },
      "text/plain": [
       "mean           60.716\n",
       "median           60.0\n",
       "std         34.549774\n",
       "mode         [52, 71]\n",
       "range             119\n",
       "midpoint         59.5\n",
       "Name: Survival_Time_Months, dtype: object"
      ]
     },
     "execution_count": 278,
     "metadata": {},
     "output_type": "execute_result"
    }
   ],
   "source": [
    "rangE = eye_cancer_df['Survival_Time_Months'].max() - eye_cancer_df['Survival_Time_Months'].min()\n",
    "midpoint = range/2\n",
    "mode = eye_cancer_df['Survival_Time_Months'].mode()\n",
    "count =  eye_cancer_df['Survival_Time_Months'].value_counts()\n",
    "\n",
    "Survival_Time_desc = eye_cancer_df['Survival_Time_Months'].agg(['mean', 'median', 'std'])\n",
    "Survival_Time_desc['mode'] = [int(x) for x in mode]\n",
    "Survival_Time_desc['range'] = rangE\n",
    "Survival_Time_desc['midpoint'] = midpoint\n",
    "Survival_Time_desc"
   ]
  },
  {
   "cell_type": "markdown",
   "id": "5a6036b9",
   "metadata": {},
   "source": [
    "> Just from these description of the DataSet, our `mean` and `median` are very close together. This suggests that the distribution of `Survival_Time_Months` of all our Eye Cancer Patients in the DataFrame is approximately symmetrical. <br> \n",
    "\n",
    "Let's check the distribution of the `Survival_Time_Months` series using a `Histogram` plot.\n"
   ]
  },
  {
   "cell_type": "code",
   "execution_count": 279,
   "id": "fc718a15",
   "metadata": {},
   "outputs": [
    {
     "data": {
      "image/png": "[encoded data removed]",
      "text/plain": [
       "<Figure size 1200x600 with 1 Axes>"
      ]
     },
     "metadata": {},
     "output_type": "display_data"
    }
   ],
   "source": [
    "plt.style.use('dark_background')\n",
    "sns.set_style(\"darkgrid\")\n",
    "\n",
    "plt.figure(figsize=(12, 6))\n",
    "sns.histplot(\n",
    "    data=eye_cancer_df,\n",
    "    x='Survival_Time_Months',\n",
    "    kde=True,\n",
    "    bins=120,\n",
    "    color='blue',\n",
    "    edgecolor='white'\n",
    ")\n",
    "plt.title('Histogram of Survival Time (Months)', fontsize=16, fontweight='bold')\n",
    "plt.xlabel('Survival Time (Months)', fontsize=14)\n",
    "plt.ylabel('Number of Patients', fontsize=14)\n",
    "plt.xticks(fontsize=12)\n",
    "plt.yticks(fontsize=12)\n",
    "plt.tight_layout()\n",
    "plt.show()"
   ]
  },
  {
   "cell_type": "markdown",
   "id": "8353291e",
   "metadata": {},
   "source": [
    "According to what we can observe from the `Histogram` and the `Kernel Density Estimate`, we can see that the distribution of `Survival_Time_Months` series for all Eye Cancer Types have multiple modes, but what is prominent here is that the probability of observing a survival time close to our `mean` and `median` (~60), which seems to be the highest peak in the `Kernel Density Estimate`.\n",
    "\n",
    "> Going back to what we stated earlier, the graph also seems to be approximately symmetrical around the `Survival_Time_Months` of `60` which is where our `mean` and `median` are located (approximately speaking)."
   ]
  },
  {
   "cell_type": "markdown",
   "id": "612dc8ac",
   "metadata": {},
   "source": [
    "Let's now explore the `Survival_Time_Months` of each `Cancer_Type` and summarize the data"
   ]
  },
  {
   "cell_type": "code",
   "execution_count": 280,
   "id": "a081726e",
   "metadata": {},
   "outputs": [
    {
     "data": {
      "application/vnd.microsoft.datawrangler.viewer.v0+json": {
       "columns": [
        {
         "name": "index",
         "rawType": "object",
         "type": "string"
        },
        {
         "name": "Lymphoma",
         "rawType": "object",
         "type": "unknown"
        },
        {
         "name": "Melanoma",
         "rawType": "object",
         "type": "unknown"
        },
        {
         "name": "Retinoblastoma",
         "rawType": "object",
         "type": "unknown"
        }
       ],
       "ref": "353afaac-b319-43b5-8ab0-947a06bd56b8",
       "rows": [
        [
         "mean",
         "60.37385461209529",
         "60.99822590183324",
         "60.76555023923445"
        ],
        [
         "median",
         "58.0",
         "61.0",
         "61.0"
        ],
        [
         "std",
         "34.45786201835744",
         "34.64018764962178",
         "34.565890345834106"
        ],
        [
         "mode",
         "[55]",
         "[99]",
         "[71]"
        ],
        [
         "range",
         "119",
         "119",
         "119"
        ],
        [
         "midpoint",
         "59.5",
         "59.5",
         "59.5"
        ]
       ],
       "shape": {
        "columns": 3,
        "rows": 6
       }
      },
      "text/html": [
       "<div>\n",
       "<style scoped>\n",
       "    .dataframe tbody tr th:only-of-type {\n",
       "        vertical-align: middle;\n",
       "    }\n",
       "\n",
       "    .dataframe tbody tr th {\n",
       "        vertical-align: top;\n",
       "    }\n",
       "\n",
       "    .dataframe thead th {\n",
       "        text-align: right;\n",
       "    }\n",
       "</style>\n",
       "<table border=\"1\" class=\"dataframe\">\n",
       "  <thead>\n",
       "    <tr style=\"text-align: right;\">\n",
       "      <th></th>\n",
       "      <th>Lymphoma</th>\n",
       "      <th>Melanoma</th>\n",
       "      <th>Retinoblastoma</th>\n",
       "    </tr>\n",
       "  </thead>\n",
       "  <tbody>\n",
       "    <tr>\n",
       "      <th>mean</th>\n",
       "      <td>60.373855</td>\n",
       "      <td>60.998226</td>\n",
       "      <td>60.76555</td>\n",
       "    </tr>\n",
       "    <tr>\n",
       "      <th>median</th>\n",
       "      <td>58.0</td>\n",
       "      <td>61.0</td>\n",
       "      <td>61.0</td>\n",
       "    </tr>\n",
       "    <tr>\n",
       "      <th>std</th>\n",
       "      <td>34.457862</td>\n",
       "      <td>34.640188</td>\n",
       "      <td>34.56589</td>\n",
       "    </tr>\n",
       "    <tr>\n",
       "      <th>mode</th>\n",
       "      <td>[55]</td>\n",
       "      <td>[99]</td>\n",
       "      <td>[71]</td>\n",
       "    </tr>\n",
       "    <tr>\n",
       "      <th>range</th>\n",
       "      <td>119</td>\n",
       "      <td>119</td>\n",
       "      <td>119</td>\n",
       "    </tr>\n",
       "    <tr>\n",
       "      <th>midpoint</th>\n",
       "      <td>59.5</td>\n",
       "      <td>59.5</td>\n",
       "      <td>59.5</td>\n",
       "    </tr>\n",
       "  </tbody>\n",
       "</table>\n",
       "</div>"
      ],
      "text/plain": [
       "           Lymphoma   Melanoma Retinoblastoma\n",
       "mean      60.373855  60.998226       60.76555\n",
       "median         58.0       61.0           61.0\n",
       "std       34.457862  34.640188       34.56589\n",
       "mode           [55]       [99]           [71]\n",
       "range           119        119            119\n",
       "midpoint       59.5       59.5           59.5"
      ]
     },
     "execution_count": 280,
     "metadata": {},
     "output_type": "execute_result"
    }
   ],
   "source": [
    "# Extract each Cancer Types\n",
    "lymphoma_df = eye_cancer_df[eye_cancer_df['Cancer_Type'] == 'Lymphoma']\n",
    "melanoma_df = eye_cancer_df[eye_cancer_df['Cancer_Type'] == 'Melanoma']\n",
    "retinoblastoma_df = eye_cancer_df[eye_cancer_df['Cancer_Type'] == 'Retinoblastoma']\n",
    "\n",
    "# Get the Survival_Time_Months series for each cancer type\n",
    "lymphoma_survival_df =  lymphoma_df['Survival_Time_Months']\n",
    "melanoma_survival_df = melanoma_df['Survival_Time_Months']\n",
    "retinoblastoma_survival_df = retinoblastoma_df['Survival_Time_Months']\n",
    "\n",
    "\n",
    "# Summarize the survival time for each cancer type\n",
    "lymphoma_survival_summary = lymphoma_survival_df.agg(['mean', 'median', 'std'])\n",
    "lymphoma_survival_summary['mode'] = [int(x) for x in lymphoma_survival_df.mode()]\n",
    "lymphoma_survival_summary['range'] = lymphoma_survival_df.max() - lymphoma_survival_df.min()\n",
    "lymphoma_survival_summary['midpoint'] = lymphoma_survival_summary['range'] / 2\n",
    "\n",
    "melanoma_survival_summary = melanoma_survival_df.agg(['mean', 'median', 'std'])\n",
    "melanoma_survival_summary['mode'] = [int(x) for x in melanoma_survival_df.mode()]\n",
    "melanoma_survival_summary['range'] = melanoma_survival_df.max() - melanoma_survival_df.min()\n",
    "melanoma_survival_summary['midpoint'] = melanoma_survival_summary['range'] / 2\n",
    "\n",
    "retinoblastoma_survival_summary = retinoblastoma_survival_df.agg(['mean', 'median', 'std'])\n",
    "retinoblastoma_survival_summary['mode'] = [int(x) for x in retinoblastoma_survival_df.mode()]\n",
    "retinoblastoma_survival_summary['range'] = retinoblastoma_survival_df.max() - retinoblastoma_survival_df.min()\n",
    "retinoblastoma_survival_summary['midpoint'] = retinoblastoma_survival_summary['range'] / 2\n",
    "\n",
    "# Combine the summaries into a single DataFrame\n",
    "cancer_survival_summary = pd.DataFrame({\n",
    "    'Lymphoma': lymphoma_survival_summary,\n",
    "    'Melanoma': melanoma_survival_summary,\n",
    "    'Retinoblastoma': retinoblastoma_survival_summary\n",
    "})\n",
    "\n",
    "cancer_survival_summary"
   ]
  },
  {
   "cell_type": "markdown",
   "id": "308c450a",
   "metadata": {},
   "source": [
    "As we can see from the table, the `mean` and `median` of each `unique` of `Cancer_Type` varies slightly from one another. Since this is just pure EDA we can save the `ANOVA` for later analysis (phase 2)"
   ]
  },
  {
   "cell_type": "code",
   "execution_count": 281,
   "id": "b12daf21",
   "metadata": {},
   "outputs": [
    {
     "data": {
      "image/png": "[encoded data removed]",
      "text/plain": [
       "<Figure size 1000x600 with 1 Axes>"
      ]
     },
     "metadata": {},
     "output_type": "display_data"
    }
   ],
   "source": [
    "plt.style.use('dark_background')\n",
    "sns.set_style(\"darkgrid\")\n",
    "\n",
    "plt.figure(figsize=(10, 6))\n",
    "sns.boxplot(\n",
    "    data=eye_cancer_df,\n",
    "    x='Cancer_Type',\n",
    "    y='Survival_Time_Months',\n",
    "    hue='Cancer_Type',  \n",
    "    palette='Set2',\n",
    "    legend=False,       \n",
    "    showmeans=True,\n",
    "    meanprops=dict(marker=\".\", markerfacecolor=\"yellow\", markeredgecolor=\"white\", markersize=10),\n",
    "    order=sorted(eye_cancer_df['Cancer_Type'].unique())\n",
    ")\n",
    "plt.title('Survival Time (Months) by Cancer Type', fontsize=16, fontweight='bold')\n",
    "plt.xlabel('Cancer Type', fontsize=14)\n",
    "plt.ylabel('Survival Time (Months)', fontsize=14)\n",
    "plt.xticks(fontsize=12)\n",
    "plt.yticks(fontsize=12)\n",
    "plt.tight_layout()\n",
    "plt.show()"
   ]
  },
  {
   "cell_type": "markdown",
   "id": "6a99c386",
   "metadata": {},
   "source": [
    "#### **EDA Question 2: At which stage does each cancer type typically get diagnosed?**\n",
    "This can give insights in which Eye Cancer Types are easily diagnosed and which types needs improvement for diagnosis techniques\n",
    "> For this we can simply groupby `Cancer Types` the DataFrame and then index it at `Stage_at_Diagnosis` then use the `describe()` methods of a pandas DataFrame"
   ]
  },
  {
   "cell_type": "code",
   "execution_count": 282,
   "id": "9b91580f",
   "metadata": {},
   "outputs": [
    {
     "data": {
      "application/vnd.microsoft.datawrangler.viewer.v0+json": {
       "columns": [
        {
         "name": "Cancer_Type",
         "rawType": "object",
         "type": "string"
        },
        {
         "name": "count",
         "rawType": "object",
         "type": "unknown"
        },
        {
         "name": "unique",
         "rawType": "object",
         "type": "unknown"
        },
        {
         "name": "top",
         "rawType": "object",
         "type": "string"
        },
        {
         "name": "freq",
         "rawType": "object",
         "type": "unknown"
        }
       ],
       "ref": "8eb167ef-1ae2-468b-baa2-ff6c685b8aee",
       "rows": [
        [
         "Lymphoma",
         "1637",
         "4",
         "Stage II",
         "424"
        ],
        [
         "Melanoma",
         "1691",
         "4",
         "Stage II",
         "440"
        ],
        [
         "Retinoblastoma",
         "1672",
         "4",
         "Stage III",
         "448"
        ]
       ],
       "shape": {
        "columns": 4,
        "rows": 3
       }
      },
      "text/html": [
       "<div>\n",
       "<style scoped>\n",
       "    .dataframe tbody tr th:only-of-type {\n",
       "        vertical-align: middle;\n",
       "    }\n",
       "\n",
       "    .dataframe tbody tr th {\n",
       "        vertical-align: top;\n",
       "    }\n",
       "\n",
       "    .dataframe thead th {\n",
       "        text-align: right;\n",
       "    }\n",
       "</style>\n",
       "<table border=\"1\" class=\"dataframe\">\n",
       "  <thead>\n",
       "    <tr style=\"text-align: right;\">\n",
       "      <th></th>\n",
       "      <th>count</th>\n",
       "      <th>unique</th>\n",
       "      <th>top</th>\n",
       "      <th>freq</th>\n",
       "    </tr>\n",
       "    <tr>\n",
       "      <th>Cancer_Type</th>\n",
       "      <th></th>\n",
       "      <th></th>\n",
       "      <th></th>\n",
       "      <th></th>\n",
       "    </tr>\n",
       "  </thead>\n",
       "  <tbody>\n",
       "    <tr>\n",
       "      <th>Lymphoma</th>\n",
       "      <td>1637</td>\n",
       "      <td>4</td>\n",
       "      <td>Stage II</td>\n",
       "      <td>424</td>\n",
       "    </tr>\n",
       "    <tr>\n",
       "      <th>Melanoma</th>\n",
       "      <td>1691</td>\n",
       "      <td>4</td>\n",
       "      <td>Stage II</td>\n",
       "      <td>440</td>\n",
       "    </tr>\n",
       "    <tr>\n",
       "      <th>Retinoblastoma</th>\n",
       "      <td>1672</td>\n",
       "      <td>4</td>\n",
       "      <td>Stage III</td>\n",
       "      <td>448</td>\n",
       "    </tr>\n",
       "  </tbody>\n",
       "</table>\n",
       "</div>"
      ],
      "text/plain": [
       "               count unique        top freq\n",
       "Cancer_Type                                \n",
       "Lymphoma        1637      4   Stage II  424\n",
       "Melanoma        1691      4   Stage II  440\n",
       "Retinoblastoma  1672      4  Stage III  448"
      ]
     },
     "execution_count": 282,
     "metadata": {},
     "output_type": "execute_result"
    }
   ],
   "source": [
    "eye_cancer_df.groupby('Cancer_Type')['Stage_at_Diagnosis'].describe()"
   ]
  },
  {
   "cell_type": "markdown",
   "id": "4e3d222d",
   "metadata": {},
   "source": [
    "> As we can see, the diagnosis for Retinoblastoma Eye Cancer needs improvement, the earlier the diagnosis the better chances of survival we can give to the Patients. <br>\n",
    "\n",
    "We will now want to plot the various `Stage_at_Diagnosis` of each `Cancer_Type` so we can see the distribution for each Cancer Types"
   ]
  },
  {
   "cell_type": "code",
   "execution_count": 283,
   "id": "9e26eb68",
   "metadata": {},
   "outputs": [
    {
     "name": "stderr",
     "output_type": "stream",
     "text": [
      "C:\\Users\\alter\\AppData\\Local\\Temp\\ipykernel_21776\\2969232934.py:10: FutureWarning: \n",
      "\n",
      "Passing `palette` without assigning `hue` is deprecated and will be removed in v0.14.0. Assign the `x` variable to `hue` and set `legend=False` for the same effect.\n",
      "\n",
      "  ax = sns.countplot(\n"
     ]
    },
    {
     "data": {
      "image/png": "[encoded data removed]",
      "text/plain": [
       "<Figure size 1000x600 with 1 Axes>"
      ]
     },
     "metadata": {},
     "output_type": "display_data"
    }
   ],
   "source": [
    "# Set seaborn style to darkgrid\n",
    "plt.style.use('dark_background')      # <-- Night mode background\n",
    "sns.set_style(\"darkgrid\")   \n",
    "\n",
    "# Plot for Lymphoma Eye Cancer and Stage of Diagnosis\n",
    "lymphoma_df = eye_cancer_df[eye_cancer_df['Cancer_Type'] == 'Lymphoma']\n",
    "lymphoma_mode = lymphoma_df['Stage_at_Diagnosis'].mode()[0]\n",
    "\n",
    "plt.figure(figsize=(10, 6))\n",
    "ax = sns.countplot(\n",
    "    data=lymphoma_df,\n",
    "    x='Stage_at_Diagnosis',\n",
    "    palette='pastel',\n",
    "    order=sorted(lymphoma_df['Stage_at_Diagnosis'].unique())\n",
    ")\n",
    "\n",
    "# Highlight the mode bar\n",
    "for patch, label in zip(ax.patches, ax.get_xticklabels()):\n",
    "    if label.get_text() == lymphoma_mode:\n",
    "        patch.set_facecolor('black')  # Highlight color\n",
    "\n",
    "# Add value labels on top of bars\n",
    "for p in ax.patches:\n",
    "    ax.annotate(f'{int(p.get_height())}', \n",
    "                (p.get_x() + p.get_width() / 2, p.get_height()), \n",
    "                ha='center', va='bottom', fontsize=12, fontweight='bold')\n",
    "\n",
    "plt.title('Stage at Diagnosis of Lymphoma Patients', fontsize=16, fontweight='bold')\n",
    "plt.xlabel('Stage at Diagnosis', fontsize=14)\n",
    "plt.ylabel('Number of Patients', fontsize=14)\n",
    "plt.xticks(fontsize=12)\n",
    "plt.yticks(fontsize=12)\n",
    "plt.tight_layout()\n",
    "plt.show()\n",
    "# ...existing code..."
   ]
  },
  {
   "cell_type": "markdown",
   "id": "ed828985",
   "metadata": {},
   "source": [
    "#### **EDA Question 2: How does survival time vary between patients with and without the BRAF mutation**\n"
   ]
  },
  {
   "cell_type": "code",
   "execution_count": 284,
   "id": "cbe1b083",
   "metadata": {},
   "outputs": [
    {
     "ename": "KeyError",
     "evalue": "'Genetic_Mark'",
     "output_type": "error",
     "traceback": [
      "\u001b[1;31m---------------------------------------------------------------------------\u001b[0m",
      "\u001b[1;31mKeyError\u001b[0m                                  Traceback (most recent call last)",
      "Cell \u001b[1;32mIn[284], line 1\u001b[0m\n\u001b[1;32m----> 1\u001b[0m \u001b[43meye_cancer_df\u001b[49m\u001b[38;5;241;43m.\u001b[39;49m\u001b[43mboxplot\u001b[49m\u001b[43m(\u001b[49m\u001b[43mcolumn\u001b[49m\u001b[38;5;241;43m=\u001b[39;49m\u001b[38;5;124;43m'\u001b[39;49m\u001b[38;5;124;43mSurvival_Time_Months\u001b[39;49m\u001b[38;5;124;43m'\u001b[39;49m\u001b[43m,\u001b[49m\u001b[43m \u001b[49m\u001b[43mby\u001b[49m\u001b[38;5;241;43m=\u001b[39;49m\u001b[38;5;124;43m'\u001b[39;49m\u001b[38;5;124;43mGenetic_Mark\u001b[39;49m\u001b[38;5;124;43m'\u001b[39;49m\u001b[43m,\u001b[49m\u001b[43m \u001b[49m\u001b[43mfigsize\u001b[49m\u001b[38;5;241;43m=\u001b[39;49m\u001b[43m(\u001b[49m\u001b[38;5;241;43m10\u001b[39;49m\u001b[43m,\u001b[49m\u001b[43m \u001b[49m\u001b[38;5;241;43m6\u001b[39;49m\u001b[43m)\u001b[49m\u001b[43m)\u001b[49m\n\u001b[0;32m      2\u001b[0m plt\u001b[38;5;241m.\u001b[39mtitle(\u001b[38;5;124m'\u001b[39m\u001b[38;5;124mSurvival Time in Months by Cancer Type\u001b[39m\u001b[38;5;124m'\u001b[39m)\n\u001b[0;32m      3\u001b[0m plt\u001b[38;5;241m.\u001b[39msuptitle(\u001b[38;5;124m'\u001b[39m\u001b[38;5;124m'\u001b[39m)\n",
      "File \u001b[1;32m~\\AppData\\Local\\Packages\\PythonSoftwareFoundation.Python.3.11_qbz5n2kfra8p0\\LocalCache\\local-packages\\Python311\\site-packages\\pandas\\plotting\\_core.py:533\u001b[0m, in \u001b[0;36mboxplot_frame\u001b[1;34m(self, column, by, ax, fontsize, rot, grid, figsize, layout, return_type, backend, **kwargs)\u001b[0m\n\u001b[0;32m    516\u001b[0m \u001b[38;5;129m@Substitution\u001b[39m(data\u001b[38;5;241m=\u001b[39m\u001b[38;5;124m\"\u001b[39m\u001b[38;5;124m\"\u001b[39m, backend\u001b[38;5;241m=\u001b[39m_backend_doc)\n\u001b[0;32m    517\u001b[0m \u001b[38;5;129m@Appender\u001b[39m(_boxplot_doc)\n\u001b[0;32m    518\u001b[0m \u001b[38;5;28;01mdef\u001b[39;00m \u001b[38;5;21mboxplot_frame\u001b[39m(\n\u001b[1;32m   (...)\u001b[0m\n\u001b[0;32m    530\u001b[0m     \u001b[38;5;241m*\u001b[39m\u001b[38;5;241m*\u001b[39mkwargs,\n\u001b[0;32m    531\u001b[0m ):\n\u001b[0;32m    532\u001b[0m     plot_backend \u001b[38;5;241m=\u001b[39m _get_plot_backend(backend)\n\u001b[1;32m--> 533\u001b[0m     \u001b[38;5;28;01mreturn\u001b[39;00m \u001b[43mplot_backend\u001b[49m\u001b[38;5;241;43m.\u001b[39;49m\u001b[43mboxplot_frame\u001b[49m\u001b[43m(\u001b[49m\n\u001b[0;32m    534\u001b[0m \u001b[43m        \u001b[49m\u001b[38;5;28;43mself\u001b[39;49m\u001b[43m,\u001b[49m\n\u001b[0;32m    535\u001b[0m \u001b[43m        \u001b[49m\u001b[43mcolumn\u001b[49m\u001b[38;5;241;43m=\u001b[39;49m\u001b[43mcolumn\u001b[49m\u001b[43m,\u001b[49m\n\u001b[0;32m    536\u001b[0m \u001b[43m        \u001b[49m\u001b[43mby\u001b[49m\u001b[38;5;241;43m=\u001b[39;49m\u001b[43mby\u001b[49m\u001b[43m,\u001b[49m\n\u001b[0;32m    537\u001b[0m \u001b[43m        \u001b[49m\u001b[43max\u001b[49m\u001b[38;5;241;43m=\u001b[39;49m\u001b[43max\u001b[49m\u001b[43m,\u001b[49m\n\u001b[0;32m    538\u001b[0m \u001b[43m        \u001b[49m\u001b[43mfontsize\u001b[49m\u001b[38;5;241;43m=\u001b[39;49m\u001b[43mfontsize\u001b[49m\u001b[43m,\u001b[49m\n\u001b[0;32m    539\u001b[0m \u001b[43m        \u001b[49m\u001b[43mrot\u001b[49m\u001b[38;5;241;43m=\u001b[39;49m\u001b[43mrot\u001b[49m\u001b[43m,\u001b[49m\n\u001b[0;32m    540\u001b[0m \u001b[43m        \u001b[49m\u001b[43mgrid\u001b[49m\u001b[38;5;241;43m=\u001b[39;49m\u001b[43mgrid\u001b[49m\u001b[43m,\u001b[49m\n\u001b[0;32m    541\u001b[0m \u001b[43m        \u001b[49m\u001b[43mfigsize\u001b[49m\u001b[38;5;241;43m=\u001b[39;49m\u001b[43mfigsize\u001b[49m\u001b[43m,\u001b[49m\n\u001b[0;32m    542\u001b[0m \u001b[43m        \u001b[49m\u001b[43mlayout\u001b[49m\u001b[38;5;241;43m=\u001b[39;49m\u001b[43mlayout\u001b[49m\u001b[43m,\u001b[49m\n\u001b[0;32m    543\u001b[0m \u001b[43m        \u001b[49m\u001b[43mreturn_type\u001b[49m\u001b[38;5;241;43m=\u001b[39;49m\u001b[43mreturn_type\u001b[49m\u001b[43m,\u001b[49m\n\u001b[0;32m    544\u001b[0m \u001b[43m        \u001b[49m\u001b[38;5;241;43m*\u001b[39;49m\u001b[38;5;241;43m*\u001b[39;49m\u001b[43mkwargs\u001b[49m\u001b[43m,\u001b[49m\n\u001b[0;32m    545\u001b[0m \u001b[43m    \u001b[49m\u001b[43m)\u001b[49m\n",
      "File \u001b[1;32m~\\AppData\\Local\\Packages\\PythonSoftwareFoundation.Python.3.11_qbz5n2kfra8p0\\LocalCache\\local-packages\\Python311\\site-packages\\pandas\\plotting\\_matplotlib\\boxplot.py:492\u001b[0m, in \u001b[0;36mboxplot_frame\u001b[1;34m(self, column, by, ax, fontsize, rot, grid, figsize, layout, return_type, **kwds)\u001b[0m\n\u001b[0;32m    477\u001b[0m \u001b[38;5;28;01mdef\u001b[39;00m \u001b[38;5;21mboxplot_frame\u001b[39m(\n\u001b[0;32m    478\u001b[0m     \u001b[38;5;28mself\u001b[39m,\n\u001b[0;32m    479\u001b[0m     column\u001b[38;5;241m=\u001b[39m\u001b[38;5;28;01mNone\u001b[39;00m,\n\u001b[1;32m   (...)\u001b[0m\n\u001b[0;32m    488\u001b[0m     \u001b[38;5;241m*\u001b[39m\u001b[38;5;241m*\u001b[39mkwds,\n\u001b[0;32m    489\u001b[0m ):\n\u001b[0;32m    490\u001b[0m     \u001b[38;5;28;01mimport\u001b[39;00m \u001b[38;5;21;01mmatplotlib\u001b[39;00m\u001b[38;5;21;01m.\u001b[39;00m\u001b[38;5;21;01mpyplot\u001b[39;00m \u001b[38;5;28;01mas\u001b[39;00m \u001b[38;5;21;01mplt\u001b[39;00m\n\u001b[1;32m--> 492\u001b[0m     ax \u001b[38;5;241m=\u001b[39m \u001b[43mboxplot\u001b[49m\u001b[43m(\u001b[49m\n\u001b[0;32m    493\u001b[0m \u001b[43m        \u001b[49m\u001b[38;5;28;43mself\u001b[39;49m\u001b[43m,\u001b[49m\n\u001b[0;32m    494\u001b[0m \u001b[43m        \u001b[49m\u001b[43mcolumn\u001b[49m\u001b[38;5;241;43m=\u001b[39;49m\u001b[43mcolumn\u001b[49m\u001b[43m,\u001b[49m\n\u001b[0;32m    495\u001b[0m \u001b[43m        \u001b[49m\u001b[43mby\u001b[49m\u001b[38;5;241;43m=\u001b[39;49m\u001b[43mby\u001b[49m\u001b[43m,\u001b[49m\n\u001b[0;32m    496\u001b[0m \u001b[43m        \u001b[49m\u001b[43max\u001b[49m\u001b[38;5;241;43m=\u001b[39;49m\u001b[43max\u001b[49m\u001b[43m,\u001b[49m\n\u001b[0;32m    497\u001b[0m \u001b[43m        \u001b[49m\u001b[43mfontsize\u001b[49m\u001b[38;5;241;43m=\u001b[39;49m\u001b[43mfontsize\u001b[49m\u001b[43m,\u001b[49m\n\u001b[0;32m    498\u001b[0m \u001b[43m        \u001b[49m\u001b[43mgrid\u001b[49m\u001b[38;5;241;43m=\u001b[39;49m\u001b[43mgrid\u001b[49m\u001b[43m,\u001b[49m\n\u001b[0;32m    499\u001b[0m \u001b[43m        \u001b[49m\u001b[43mrot\u001b[49m\u001b[38;5;241;43m=\u001b[39;49m\u001b[43mrot\u001b[49m\u001b[43m,\u001b[49m\n\u001b[0;32m    500\u001b[0m \u001b[43m        \u001b[49m\u001b[43mfigsize\u001b[49m\u001b[38;5;241;43m=\u001b[39;49m\u001b[43mfigsize\u001b[49m\u001b[43m,\u001b[49m\n\u001b[0;32m    501\u001b[0m \u001b[43m        \u001b[49m\u001b[43mlayout\u001b[49m\u001b[38;5;241;43m=\u001b[39;49m\u001b[43mlayout\u001b[49m\u001b[43m,\u001b[49m\n\u001b[0;32m    502\u001b[0m \u001b[43m        \u001b[49m\u001b[43mreturn_type\u001b[49m\u001b[38;5;241;43m=\u001b[39;49m\u001b[43mreturn_type\u001b[49m\u001b[43m,\u001b[49m\n\u001b[0;32m    503\u001b[0m \u001b[43m        \u001b[49m\u001b[38;5;241;43m*\u001b[39;49m\u001b[38;5;241;43m*\u001b[39;49m\u001b[43mkwds\u001b[49m\u001b[43m,\u001b[49m\n\u001b[0;32m    504\u001b[0m \u001b[43m    \u001b[49m\u001b[43m)\u001b[49m\n\u001b[0;32m    505\u001b[0m     plt\u001b[38;5;241m.\u001b[39mdraw_if_interactive()\n\u001b[0;32m    506\u001b[0m     \u001b[38;5;28;01mreturn\u001b[39;00m ax\n",
      "File \u001b[1;32m~\\AppData\\Local\\Packages\\PythonSoftwareFoundation.Python.3.11_qbz5n2kfra8p0\\LocalCache\\local-packages\\Python311\\site-packages\\pandas\\plotting\\_matplotlib\\boxplot.py:438\u001b[0m, in \u001b[0;36mboxplot\u001b[1;34m(data, column, by, ax, fontsize, rot, grid, figsize, layout, return_type, **kwds)\u001b[0m\n\u001b[0;32m    433\u001b[0m     columns \u001b[38;5;241m=\u001b[39m [column]\n\u001b[0;32m    435\u001b[0m \u001b[38;5;28;01mif\u001b[39;00m by \u001b[38;5;129;01mis\u001b[39;00m \u001b[38;5;129;01mnot\u001b[39;00m \u001b[38;5;28;01mNone\u001b[39;00m:\n\u001b[0;32m    436\u001b[0m     \u001b[38;5;66;03m# Prefer array return type for 2-D plots to match the subplot layout\u001b[39;00m\n\u001b[0;32m    437\u001b[0m     \u001b[38;5;66;03m# https://github.com/pandas-dev/pandas/pull/12216#issuecomment-241175580\u001b[39;00m\n\u001b[1;32m--> 438\u001b[0m     result \u001b[38;5;241m=\u001b[39m \u001b[43m_grouped_plot_by_column\u001b[49m\u001b[43m(\u001b[49m\n\u001b[0;32m    439\u001b[0m \u001b[43m        \u001b[49m\u001b[43mplot_group\u001b[49m\u001b[43m,\u001b[49m\n\u001b[0;32m    440\u001b[0m \u001b[43m        \u001b[49m\u001b[43mdata\u001b[49m\u001b[43m,\u001b[49m\n\u001b[0;32m    441\u001b[0m \u001b[43m        \u001b[49m\u001b[43mcolumns\u001b[49m\u001b[38;5;241;43m=\u001b[39;49m\u001b[43mcolumns\u001b[49m\u001b[43m,\u001b[49m\n\u001b[0;32m    442\u001b[0m \u001b[43m        \u001b[49m\u001b[43mby\u001b[49m\u001b[38;5;241;43m=\u001b[39;49m\u001b[43mby\u001b[49m\u001b[43m,\u001b[49m\n\u001b[0;32m    443\u001b[0m \u001b[43m        \u001b[49m\u001b[43mgrid\u001b[49m\u001b[38;5;241;43m=\u001b[39;49m\u001b[43mgrid\u001b[49m\u001b[43m,\u001b[49m\n\u001b[0;32m    444\u001b[0m \u001b[43m        \u001b[49m\u001b[43mfigsize\u001b[49m\u001b[38;5;241;43m=\u001b[39;49m\u001b[43mfigsize\u001b[49m\u001b[43m,\u001b[49m\n\u001b[0;32m    445\u001b[0m \u001b[43m        \u001b[49m\u001b[43max\u001b[49m\u001b[38;5;241;43m=\u001b[39;49m\u001b[43max\u001b[49m\u001b[43m,\u001b[49m\n\u001b[0;32m    446\u001b[0m \u001b[43m        \u001b[49m\u001b[43mlayout\u001b[49m\u001b[38;5;241;43m=\u001b[39;49m\u001b[43mlayout\u001b[49m\u001b[43m,\u001b[49m\n\u001b[0;32m    447\u001b[0m \u001b[43m        \u001b[49m\u001b[43mreturn_type\u001b[49m\u001b[38;5;241;43m=\u001b[39;49m\u001b[43mreturn_type\u001b[49m\u001b[43m,\u001b[49m\n\u001b[0;32m    448\u001b[0m \u001b[43m        \u001b[49m\u001b[38;5;241;43m*\u001b[39;49m\u001b[38;5;241;43m*\u001b[39;49m\u001b[43mkwds\u001b[49m\u001b[43m,\u001b[49m\n\u001b[0;32m    449\u001b[0m \u001b[43m    \u001b[49m\u001b[43m)\u001b[49m\n\u001b[0;32m    450\u001b[0m \u001b[38;5;28;01melse\u001b[39;00m:\n\u001b[0;32m    451\u001b[0m     \u001b[38;5;28;01mif\u001b[39;00m return_type \u001b[38;5;129;01mis\u001b[39;00m \u001b[38;5;28;01mNone\u001b[39;00m:\n",
      "File \u001b[1;32m~\\AppData\\Local\\Packages\\PythonSoftwareFoundation.Python.3.11_qbz5n2kfra8p0\\LocalCache\\local-packages\\Python311\\site-packages\\pandas\\plotting\\_matplotlib\\boxplot.py:299\u001b[0m, in \u001b[0;36m_grouped_plot_by_column\u001b[1;34m(plotf, data, columns, by, numeric_only, grid, figsize, ax, layout, return_type, **kwargs)\u001b[0m\n\u001b[0;32m    286\u001b[0m \u001b[38;5;28;01mdef\u001b[39;00m \u001b[38;5;21m_grouped_plot_by_column\u001b[39m(\n\u001b[0;32m    287\u001b[0m     plotf,\n\u001b[0;32m    288\u001b[0m     data,\n\u001b[1;32m   (...)\u001b[0m\n\u001b[0;32m    297\u001b[0m     \u001b[38;5;241m*\u001b[39m\u001b[38;5;241m*\u001b[39mkwargs,\n\u001b[0;32m    298\u001b[0m ):\n\u001b[1;32m--> 299\u001b[0m     grouped \u001b[38;5;241m=\u001b[39m \u001b[43mdata\u001b[49m\u001b[38;5;241;43m.\u001b[39;49m\u001b[43mgroupby\u001b[49m\u001b[43m(\u001b[49m\u001b[43mby\u001b[49m\u001b[43m,\u001b[49m\u001b[43m \u001b[49m\u001b[43mobserved\u001b[49m\u001b[38;5;241;43m=\u001b[39;49m\u001b[38;5;28;43;01mFalse\u001b[39;49;00m\u001b[43m)\u001b[49m\n\u001b[0;32m    300\u001b[0m     \u001b[38;5;28;01mif\u001b[39;00m columns \u001b[38;5;129;01mis\u001b[39;00m \u001b[38;5;28;01mNone\u001b[39;00m:\n\u001b[0;32m    301\u001b[0m         \u001b[38;5;28;01mif\u001b[39;00m \u001b[38;5;129;01mnot\u001b[39;00m \u001b[38;5;28misinstance\u001b[39m(by, (\u001b[38;5;28mlist\u001b[39m, \u001b[38;5;28mtuple\u001b[39m)):\n",
      "File \u001b[1;32m~\\AppData\\Local\\Packages\\PythonSoftwareFoundation.Python.3.11_qbz5n2kfra8p0\\LocalCache\\local-packages\\Python311\\site-packages\\pandas\\core\\frame.py:9183\u001b[0m, in \u001b[0;36mDataFrame.groupby\u001b[1;34m(self, by, axis, level, as_index, sort, group_keys, observed, dropna)\u001b[0m\n\u001b[0;32m   9180\u001b[0m \u001b[38;5;28;01mif\u001b[39;00m level \u001b[38;5;129;01mis\u001b[39;00m \u001b[38;5;28;01mNone\u001b[39;00m \u001b[38;5;129;01mand\u001b[39;00m by \u001b[38;5;129;01mis\u001b[39;00m \u001b[38;5;28;01mNone\u001b[39;00m:\n\u001b[0;32m   9181\u001b[0m     \u001b[38;5;28;01mraise\u001b[39;00m \u001b[38;5;167;01mTypeError\u001b[39;00m(\u001b[38;5;124m\"\u001b[39m\u001b[38;5;124mYou have to supply one of \u001b[39m\u001b[38;5;124m'\u001b[39m\u001b[38;5;124mby\u001b[39m\u001b[38;5;124m'\u001b[39m\u001b[38;5;124m and \u001b[39m\u001b[38;5;124m'\u001b[39m\u001b[38;5;124mlevel\u001b[39m\u001b[38;5;124m'\u001b[39m\u001b[38;5;124m\"\u001b[39m)\n\u001b[1;32m-> 9183\u001b[0m \u001b[38;5;28;01mreturn\u001b[39;00m \u001b[43mDataFrameGroupBy\u001b[49m\u001b[43m(\u001b[49m\n\u001b[0;32m   9184\u001b[0m \u001b[43m    \u001b[49m\u001b[43mobj\u001b[49m\u001b[38;5;241;43m=\u001b[39;49m\u001b[38;5;28;43mself\u001b[39;49m\u001b[43m,\u001b[49m\n\u001b[0;32m   9185\u001b[0m \u001b[43m    \u001b[49m\u001b[43mkeys\u001b[49m\u001b[38;5;241;43m=\u001b[39;49m\u001b[43mby\u001b[49m\u001b[43m,\u001b[49m\n\u001b[0;32m   9186\u001b[0m \u001b[43m    \u001b[49m\u001b[43maxis\u001b[49m\u001b[38;5;241;43m=\u001b[39;49m\u001b[43maxis\u001b[49m\u001b[43m,\u001b[49m\n\u001b[0;32m   9187\u001b[0m \u001b[43m    \u001b[49m\u001b[43mlevel\u001b[49m\u001b[38;5;241;43m=\u001b[39;49m\u001b[43mlevel\u001b[49m\u001b[43m,\u001b[49m\n\u001b[0;32m   9188\u001b[0m \u001b[43m    \u001b[49m\u001b[43mas_index\u001b[49m\u001b[38;5;241;43m=\u001b[39;49m\u001b[43mas_index\u001b[49m\u001b[43m,\u001b[49m\n\u001b[0;32m   9189\u001b[0m \u001b[43m    \u001b[49m\u001b[43msort\u001b[49m\u001b[38;5;241;43m=\u001b[39;49m\u001b[43msort\u001b[49m\u001b[43m,\u001b[49m\n\u001b[0;32m   9190\u001b[0m \u001b[43m    \u001b[49m\u001b[43mgroup_keys\u001b[49m\u001b[38;5;241;43m=\u001b[39;49m\u001b[43mgroup_keys\u001b[49m\u001b[43m,\u001b[49m\n\u001b[0;32m   9191\u001b[0m \u001b[43m    \u001b[49m\u001b[43mobserved\u001b[49m\u001b[38;5;241;43m=\u001b[39;49m\u001b[43mobserved\u001b[49m\u001b[43m,\u001b[49m\n\u001b[0;32m   9192\u001b[0m \u001b[43m    \u001b[49m\u001b[43mdropna\u001b[49m\u001b[38;5;241;43m=\u001b[39;49m\u001b[43mdropna\u001b[49m\u001b[43m,\u001b[49m\n\u001b[0;32m   9193\u001b[0m \u001b[43m\u001b[49m\u001b[43m)\u001b[49m\n",
      "File \u001b[1;32m~\\AppData\\Local\\Packages\\PythonSoftwareFoundation.Python.3.11_qbz5n2kfra8p0\\LocalCache\\local-packages\\Python311\\site-packages\\pandas\\core\\groupby\\groupby.py:1329\u001b[0m, in \u001b[0;36mGroupBy.__init__\u001b[1;34m(self, obj, keys, axis, level, grouper, exclusions, selection, as_index, sort, group_keys, observed, dropna)\u001b[0m\n\u001b[0;32m   1326\u001b[0m \u001b[38;5;28mself\u001b[39m\u001b[38;5;241m.\u001b[39mdropna \u001b[38;5;241m=\u001b[39m dropna\n\u001b[0;32m   1328\u001b[0m \u001b[38;5;28;01mif\u001b[39;00m grouper \u001b[38;5;129;01mis\u001b[39;00m \u001b[38;5;28;01mNone\u001b[39;00m:\n\u001b[1;32m-> 1329\u001b[0m     grouper, exclusions, obj \u001b[38;5;241m=\u001b[39m \u001b[43mget_grouper\u001b[49m\u001b[43m(\u001b[49m\n\u001b[0;32m   1330\u001b[0m \u001b[43m        \u001b[49m\u001b[43mobj\u001b[49m\u001b[43m,\u001b[49m\n\u001b[0;32m   1331\u001b[0m \u001b[43m        \u001b[49m\u001b[43mkeys\u001b[49m\u001b[43m,\u001b[49m\n\u001b[0;32m   1332\u001b[0m \u001b[43m        \u001b[49m\u001b[43maxis\u001b[49m\u001b[38;5;241;43m=\u001b[39;49m\u001b[43maxis\u001b[49m\u001b[43m,\u001b[49m\n\u001b[0;32m   1333\u001b[0m \u001b[43m        \u001b[49m\u001b[43mlevel\u001b[49m\u001b[38;5;241;43m=\u001b[39;49m\u001b[43mlevel\u001b[49m\u001b[43m,\u001b[49m\n\u001b[0;32m   1334\u001b[0m \u001b[43m        \u001b[49m\u001b[43msort\u001b[49m\u001b[38;5;241;43m=\u001b[39;49m\u001b[43msort\u001b[49m\u001b[43m,\u001b[49m\n\u001b[0;32m   1335\u001b[0m \u001b[43m        \u001b[49m\u001b[43mobserved\u001b[49m\u001b[38;5;241;43m=\u001b[39;49m\u001b[38;5;28;43;01mFalse\u001b[39;49;00m\u001b[43m \u001b[49m\u001b[38;5;28;43;01mif\u001b[39;49;00m\u001b[43m \u001b[49m\u001b[43mobserved\u001b[49m\u001b[43m \u001b[49m\u001b[38;5;129;43;01mis\u001b[39;49;00m\u001b[43m \u001b[49m\u001b[43mlib\u001b[49m\u001b[38;5;241;43m.\u001b[39;49m\u001b[43mno_default\u001b[49m\u001b[43m \u001b[49m\u001b[38;5;28;43;01melse\u001b[39;49;00m\u001b[43m \u001b[49m\u001b[43mobserved\u001b[49m\u001b[43m,\u001b[49m\n\u001b[0;32m   1336\u001b[0m \u001b[43m        \u001b[49m\u001b[43mdropna\u001b[49m\u001b[38;5;241;43m=\u001b[39;49m\u001b[38;5;28;43mself\u001b[39;49m\u001b[38;5;241;43m.\u001b[39;49m\u001b[43mdropna\u001b[49m\u001b[43m,\u001b[49m\n\u001b[0;32m   1337\u001b[0m \u001b[43m    \u001b[49m\u001b[43m)\u001b[49m\n\u001b[0;32m   1339\u001b[0m \u001b[38;5;28;01mif\u001b[39;00m observed \u001b[38;5;129;01mis\u001b[39;00m lib\u001b[38;5;241m.\u001b[39mno_default:\n\u001b[0;32m   1340\u001b[0m     \u001b[38;5;28;01mif\u001b[39;00m \u001b[38;5;28many\u001b[39m(ping\u001b[38;5;241m.\u001b[39m_passed_categorical \u001b[38;5;28;01mfor\u001b[39;00m ping \u001b[38;5;129;01min\u001b[39;00m grouper\u001b[38;5;241m.\u001b[39mgroupings):\n",
      "File \u001b[1;32m~\\AppData\\Local\\Packages\\PythonSoftwareFoundation.Python.3.11_qbz5n2kfra8p0\\LocalCache\\local-packages\\Python311\\site-packages\\pandas\\core\\groupby\\grouper.py:1043\u001b[0m, in \u001b[0;36mget_grouper\u001b[1;34m(obj, key, axis, level, sort, observed, validate, dropna)\u001b[0m\n\u001b[0;32m   1041\u001b[0m         in_axis, level, gpr \u001b[38;5;241m=\u001b[39m \u001b[38;5;28;01mFalse\u001b[39;00m, gpr, \u001b[38;5;28;01mNone\u001b[39;00m\n\u001b[0;32m   1042\u001b[0m     \u001b[38;5;28;01melse\u001b[39;00m:\n\u001b[1;32m-> 1043\u001b[0m         \u001b[38;5;28;01mraise\u001b[39;00m \u001b[38;5;167;01mKeyError\u001b[39;00m(gpr)\n\u001b[0;32m   1044\u001b[0m \u001b[38;5;28;01melif\u001b[39;00m \u001b[38;5;28misinstance\u001b[39m(gpr, Grouper) \u001b[38;5;129;01mand\u001b[39;00m gpr\u001b[38;5;241m.\u001b[39mkey \u001b[38;5;129;01mis\u001b[39;00m \u001b[38;5;129;01mnot\u001b[39;00m \u001b[38;5;28;01mNone\u001b[39;00m:\n\u001b[0;32m   1045\u001b[0m     \u001b[38;5;66;03m# Add key to exclusions\u001b[39;00m\n\u001b[0;32m   1046\u001b[0m     exclusions\u001b[38;5;241m.\u001b[39madd(gpr\u001b[38;5;241m.\u001b[39mkey)\n",
      "\u001b[1;31mKeyError\u001b[0m: 'Genetic_Mark'"
     ]
    }
   ],
   "source": [
    "eye_cancer_df.boxplot(column='Survival_Time_Months', by='Genetic_Mark', figsize=(10, 6))\n",
    "plt.title('Survival Time in Months by Cancer Type')\n",
    "plt.suptitle('')\n",
    "plt.xlabel('Cancer Type')\n",
    "plt.ylabel('Survival Time in Months')\n",
    "plt.show()"
   ]
  },
  {
   "cell_type": "code",
   "execution_count": null,
   "id": "e4c7df1e",
   "metadata": {},
   "outputs": [],
   "source": [
    "eye_cancer_df.boxplot(column='Survival_Time_Months', by='Stage', figsize=(10, 6))\n"
   ]
  },
  {
   "cell_type": "code",
   "execution_count": null,
   "id": "729a98bf",
   "metadata": {},
   "outputs": [
    {
     "name": "stdout",
     "output_type": "stream",
     "text": [
      "<class 'pandas.core.series.Series'>\n",
      "RangeIndex: 5000 entries, 0 to 4999\n",
      "Series name: Cancer_Type\n",
      "Non-Null Count  Dtype \n",
      "--------------  ----- \n",
      "5000 non-null   object\n",
      "dtypes: object(1)\n",
      "memory usage: 39.2+ KB\n"
     ]
    }
   ],
   "source": [
    "eye_cancer_df['Cancer_Type'].info()"
   ]
  }
 ],
 "metadata": {
  "kernelspec": {
   "display_name": "Python 3",
   "language": "python",
   "name": "python3"
  },
  "language_info": {
   "codemirror_mode": {
    "name": "ipython",
    "version": 3
   },
   "file_extension": ".py",
   "mimetype": "text/x-python",
   "name": "python",
   "nbconvert_exporter": "python",
   "pygments_lexer": "ipython3",
   "version": "3.11.9"
  }
 },
 "nbformat": 4,
 "nbformat_minor": 5
}
