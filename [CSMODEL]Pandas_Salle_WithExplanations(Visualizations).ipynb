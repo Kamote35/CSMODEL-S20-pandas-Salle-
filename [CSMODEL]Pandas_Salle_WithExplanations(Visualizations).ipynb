{
 "cells": [
  {
   "cell_type": "markdown",
   "id": "38b827e1",
   "metadata": {},
   "source": [
    "# **Eye Cancer Patients  Jupyter Notebook**\n",
    "\n",
    "**Section**: S20 <br>\n",
    "\n",
    "**Group**: pandas Salle"
   ]
  },
  {
   "cell_type": "markdown",
   "id": "1a3857bf",
   "metadata": {},
   "source": [
    "# **Dataset Description**\n",
    "\n",
    "The chosen data set titled \"Eye Cancer Patient Records\" provides detailed medical records for 5,000 patients diagnosed with 3 different types of eye cancer namely, Melanoma, Retinoblastoma, and Lymphoma. The dataset was retrieved from Kaggle and is designed for machine learning projects, statistical modeling, and healthcare research.\n"
   ]
  },
  {
   "cell_type": "markdown",
   "id": "f1cd36ab",
   "metadata": {},
   "source": []
  },
  {
   "cell_type": "markdown",
   "id": "4677e4d6",
   "metadata": {},
   "source": [
    "### **Import the necessary libraries**\n",
    "\n",
    "For Data Visualization and Data processing\n"
   ]
  },
  {
   "cell_type": "code",
   "execution_count": 2,
   "id": "16aaf047",
   "metadata": {},
   "outputs": [],
   "source": [
    "import numpy as np\n",
    "import pandas as pd\n",
    "import matplotlib.pyplot as plt\n",
    "import seaborn as sns"
   ]
  },
  {
   "cell_type": "markdown",
   "id": "88cc88ac",
   "metadata": {},
   "source": [
    "### **Initializing the DataFrame**\n",
    "\n",
    "Load the Eye Cancer Patients Dataset into a pandas DataFrame\n"
   ]
  },
  {
   "cell_type": "code",
   "execution_count": 25,
   "id": "16f5aa13",
   "metadata": {},
   "outputs": [
    {
     "data": {
      "text/html": [
       "<div>\n",
       "<style scoped>\n",
       "    .dataframe tbody tr th:only-of-type {\n",
       "        vertical-align: middle;\n",
       "    }\n",
       "\n",
       "    .dataframe tbody tr th {\n",
       "        vertical-align: top;\n",
       "    }\n",
       "\n",
       "    .dataframe thead th {\n",
       "        text-align: right;\n",
       "    }\n",
       "</style>\n",
       "<table border=\"1\" class=\"dataframe\">\n",
       "  <thead>\n",
       "    <tr style=\"text-align: right;\">\n",
       "      <th></th>\n",
       "      <th>Patient_ID</th>\n",
       "      <th>Age</th>\n",
       "      <th>Gender</th>\n",
       "      <th>Cancer_Type</th>\n",
       "      <th>Laterality</th>\n",
       "      <th>Date_of_Diagnosis</th>\n",
       "      <th>Stage_at_Diagnosis</th>\n",
       "      <th>Treatment_Type</th>\n",
       "      <th>Surgery_Status</th>\n",
       "      <th>Radiation_Therapy</th>\n",
       "      <th>Chemotherapy</th>\n",
       "      <th>Outcome_Status</th>\n",
       "      <th>Survival_Time_Months</th>\n",
       "      <th>Genetic_Markers</th>\n",
       "      <th>Family_History</th>\n",
       "      <th>Country</th>\n",
       "    </tr>\n",
       "  </thead>\n",
       "  <tbody>\n",
       "    <tr>\n",
       "      <th>0</th>\n",
       "      <td>PID00001</td>\n",
       "      <td>58</td>\n",
       "      <td>F</td>\n",
       "      <td>Retinoblastoma</td>\n",
       "      <td>Left</td>\n",
       "      <td>2019-01-25</td>\n",
       "      <td>Stage IV</td>\n",
       "      <td>Radiation</td>\n",
       "      <td>False</td>\n",
       "      <td>15</td>\n",
       "      <td>3</td>\n",
       "      <td>Deceased</td>\n",
       "      <td>85</td>\n",
       "      <td>NaN</td>\n",
       "      <td>True</td>\n",
       "      <td>UK</td>\n",
       "    </tr>\n",
       "    <tr>\n",
       "      <th>1</th>\n",
       "      <td>PID00002</td>\n",
       "      <td>15</td>\n",
       "      <td>Other</td>\n",
       "      <td>Retinoblastoma</td>\n",
       "      <td>Right</td>\n",
       "      <td>2021-10-21</td>\n",
       "      <td>Stage III</td>\n",
       "      <td>Chemotherapy</td>\n",
       "      <td>True</td>\n",
       "      <td>69</td>\n",
       "      <td>6</td>\n",
       "      <td>In Remission</td>\n",
       "      <td>10</td>\n",
       "      <td>NaN</td>\n",
       "      <td>True</td>\n",
       "      <td>Japan</td>\n",
       "    </tr>\n",
       "    <tr>\n",
       "      <th>2</th>\n",
       "      <td>PID00003</td>\n",
       "      <td>64</td>\n",
       "      <td>M</td>\n",
       "      <td>Retinoblastoma</td>\n",
       "      <td>Bilateral</td>\n",
       "      <td>2021-03-12</td>\n",
       "      <td>Stage IV</td>\n",
       "      <td>Surgery</td>\n",
       "      <td>False</td>\n",
       "      <td>47</td>\n",
       "      <td>6</td>\n",
       "      <td>In Remission</td>\n",
       "      <td>3</td>\n",
       "      <td>BRAF Mutation</td>\n",
       "      <td>False</td>\n",
       "      <td>UK</td>\n",
       "    </tr>\n",
       "    <tr>\n",
       "      <th>3</th>\n",
       "      <td>PID00004</td>\n",
       "      <td>33</td>\n",
       "      <td>M</td>\n",
       "      <td>Melanoma</td>\n",
       "      <td>Right</td>\n",
       "      <td>2021-05-10</td>\n",
       "      <td>Stage II</td>\n",
       "      <td>Radiation</td>\n",
       "      <td>True</td>\n",
       "      <td>36</td>\n",
       "      <td>6</td>\n",
       "      <td>Active</td>\n",
       "      <td>40</td>\n",
       "      <td>NaN</td>\n",
       "      <td>False</td>\n",
       "      <td>Canada</td>\n",
       "    </tr>\n",
       "    <tr>\n",
       "      <th>4</th>\n",
       "      <td>PID00005</td>\n",
       "      <td>8</td>\n",
       "      <td>Other</td>\n",
       "      <td>Lymphoma</td>\n",
       "      <td>Left</td>\n",
       "      <td>2019-11-24</td>\n",
       "      <td>Stage I</td>\n",
       "      <td>Chemotherapy</td>\n",
       "      <td>False</td>\n",
       "      <td>14</td>\n",
       "      <td>14</td>\n",
       "      <td>In Remission</td>\n",
       "      <td>26</td>\n",
       "      <td>BRAF Mutation</td>\n",
       "      <td>True</td>\n",
       "      <td>USA</td>\n",
       "    </tr>\n",
       "  </tbody>\n",
       "</table>\n",
       "</div>"
      ],
      "text/plain": [
       "  Patient_ID  Age Gender     Cancer_Type Laterality Date_of_Diagnosis  \\\n",
       "0   PID00001   58      F  Retinoblastoma       Left        2019-01-25   \n",
       "1   PID00002   15  Other  Retinoblastoma      Right        2021-10-21   \n",
       "2   PID00003   64      M  Retinoblastoma  Bilateral        2021-03-12   \n",
       "3   PID00004   33      M        Melanoma      Right        2021-05-10   \n",
       "4   PID00005    8  Other        Lymphoma       Left        2019-11-24   \n",
       "\n",
       "  Stage_at_Diagnosis Treatment_Type  Surgery_Status  Radiation_Therapy  \\\n",
       "0           Stage IV      Radiation           False                 15   \n",
       "1          Stage III   Chemotherapy            True                 69   \n",
       "2           Stage IV        Surgery           False                 47   \n",
       "3           Stage II      Radiation            True                 36   \n",
       "4            Stage I   Chemotherapy           False                 14   \n",
       "\n",
       "   Chemotherapy Outcome_Status  Survival_Time_Months Genetic_Markers  \\\n",
       "0             3       Deceased                    85             NaN   \n",
       "1             6   In Remission                    10             NaN   \n",
       "2             6   In Remission                     3   BRAF Mutation   \n",
       "3             6         Active                    40             NaN   \n",
       "4            14   In Remission                    26   BRAF Mutation   \n",
       "\n",
       "   Family_History Country  \n",
       "0            True      UK  \n",
       "1            True   Japan  \n",
       "2           False      UK  \n",
       "3           False  Canada  \n",
       "4            True     USA  "
      ]
     },
     "execution_count": 25,
     "metadata": {},
     "output_type": "execute_result"
    }
   ],
   "source": [
    "eye_cancer_df = pd.read_csv('eye_cancer_patients.csv')\n",
    "eye_cancer_df.head()"
   ]
  },
  {
   "cell_type": "markdown",
   "id": "981a1127",
   "metadata": {},
   "source": [
    "### **Preparing to Clean up the Data**\n",
    "\n",
    "Check the information regarding the Dataset\n"
   ]
  },
  {
   "cell_type": "code",
   "execution_count": 4,
   "id": "2824c9f1",
   "metadata": {},
   "outputs": [
    {
     "name": "stdout",
     "output_type": "stream",
     "text": [
      "<class 'pandas.core.frame.DataFrame'>\n",
      "RangeIndex: 5000 entries, 0 to 4999\n",
      "Data columns (total 16 columns):\n",
      " #   Column                Non-Null Count  Dtype \n",
      "---  ------                --------------  ----- \n",
      " 0   Patient_ID            5000 non-null   object\n",
      " 1   Age                   5000 non-null   int64 \n",
      " 2   Gender                5000 non-null   object\n",
      " 3   Cancer_Type           5000 non-null   object\n",
      " 4   Laterality            5000 non-null   object\n",
      " 5   Date_of_Diagnosis     5000 non-null   object\n",
      " 6   Stage_at_Diagnosis    5000 non-null   object\n",
      " 7   Treatment_Type        5000 non-null   object\n",
      " 8   Surgery_Status        5000 non-null   bool  \n",
      " 9   Radiation_Therapy     5000 non-null   int64 \n",
      " 10  Chemotherapy          5000 non-null   int64 \n",
      " 11  Outcome_Status        5000 non-null   object\n",
      " 12  Survival_Time_Months  5000 non-null   int64 \n",
      " 13  Genetic_Markers       2503 non-null   object\n",
      " 14  Family_History        5000 non-null   bool  \n",
      " 15  Country               5000 non-null   object\n",
      "dtypes: bool(2), int64(4), object(10)\n",
      "memory usage: 556.8+ KB\n"
     ]
    }
   ],
   "source": [
    "eye_cancer_df.info()"
   ]
  },
  {
   "cell_type": "markdown",
   "id": "d3bb0017",
   "metadata": {},
   "source": [
    "#### **Data preprocessing**\n",
    "We will want to remove the `nan` values so that when we do Exploratory Data Analysis later, we will not encounter isues<br>\n",
    "First let us check if we missed any variables with a `nan` value"
   ]
  },
  {
   "cell_type": "code",
   "execution_count": 5,
   "id": "c93768d1",
   "metadata": {},
   "outputs": [
    {
     "name": "stdout",
     "output_type": "stream",
     "text": [
      "['Genetic_Markers']\n"
     ]
    }
   ],
   "source": [
    "nan_variables = eye_cancer_df.columns[eye_cancer_df.isnull().any()].to_list()\n",
    "print(nan_variables)"
   ]
  },
  {
   "cell_type": "markdown",
   "id": "09c97da7",
   "metadata": {},
   "source": [
    "> For this dataset, it seems like `Genetic_Markers` is the only variable that has a `nan` value, so we may proceed with the cleaning up of the data."
   ]
  },
  {
   "cell_type": "markdown",
   "id": "1867e012",
   "metadata": {},
   "source": [
    "#### **Do we drop or replace the** `nan` **values from** `Genetic_Markers` **variable?**\n",
    "Dropping the rows with `nan` values in `Genetic_Markers` would be more convenient, but first let us check if we still have sufficient data if ever we drop them<br>\n",
    "So our task is to count how many of the rows are affected by the `nan` values."
   ]
  },
  {
   "cell_type": "code",
   "execution_count": 6,
   "id": "91702810",
   "metadata": {},
   "outputs": [
    {
     "ename": "NameError",
     "evalue": "name 'Genetic_df' is not defined",
     "output_type": "error",
     "traceback": [
      "\u001b[31m---------------------------------------------------------------------------\u001b[39m",
      "\u001b[31mNameError\u001b[39m                                 Traceback (most recent call last)",
      "\u001b[36mCell\u001b[39m\u001b[36m \u001b[39m\u001b[32mIn[6]\u001b[39m\u001b[32m, line 1\u001b[39m\n\u001b[32m----> \u001b[39m\u001b[32m1\u001b[39m nan_count = \u001b[43mGenetic_df\u001b[49m.isnull().sum()\n\u001b[32m      3\u001b[39m \u001b[38;5;28mprint\u001b[39m(\u001b[33m\"\u001b[39m\u001b[33mThe count of NaN values in Genetic_Markers is:\u001b[39m\u001b[33m\"\u001b[39m, nan_count)\n",
      "\u001b[31mNameError\u001b[39m: name 'Genetic_df' is not defined"
     ]
    }
   ],
   "source": [
    "nan_count = Genetic_df.isnull().sum()\n",
    "\n",
    "print(\"The count of NaN values in Genetic_Markers is:\", nan_count)"
   ]
  },
  {
   "cell_type": "markdown",
   "id": "dce812f6",
   "metadata": {},
   "source": [
    "> Let us check the shape of our pandas DataFrame: `eye_cancer_df` "
   ]
  },
  {
   "cell_type": "code",
   "execution_count": 7,
   "id": "17a417ad",
   "metadata": {},
   "outputs": [
    {
     "name": "stdout",
     "output_type": "stream",
     "text": [
      "Our Data frame has 5000 rows and 16 columns.\n"
     ]
    }
   ],
   "source": [
    "eye_cancer_df.shape\n",
    "print(\"Our Data frame has {} rows and {} columns.\".format(eye_cancer_df.shape[0], eye_cancer_df.shape[1]))"
   ]
  },
  {
   "cell_type": "markdown",
   "id": "8ef6a233",
   "metadata": {},
   "source": [
    "> We know we have 5000 observations, and according to the count of our `nan` values in the `Genetic_Markers` variable, 2497 rows are affected by these `nan` values. <br> <br>\n",
    "> Therefore, we cannot proceed with the dropping since it will affect about half of our observations. <br> <br>\n",
    "> Instead let us, replace these `nan` values with another categorical data as `None`."
   ]
  },
  {
   "cell_type": "code",
   "execution_count": 8,
   "id": "c19bfede",
   "metadata": {},
   "outputs": [],
   "source": [
    "eye_cancer_df.loc[eye_cancer_df['Genetic_Markers'].isnull(), 'Genetic_Markers'] = 'None'"
   ]
  },
  {
   "cell_type": "markdown",
   "id": "57b55b64",
   "metadata": {},
   "source": [
    "#### ⚠️ **Sanity Check !!**\n",
    "Let us see if the `nan` values in the `Genetic_Markers` variables have been replace with `None`"
   ]
  },
  {
   "cell_type": "code",
   "execution_count": 9,
   "id": "ef90ff0e",
   "metadata": {},
   "outputs": [
    {
     "name": "stdout",
     "output_type": "stream",
     "text": [
      "The number of rows where the nan values in Genetic_Markers variable that has been replaced with 'None' is: 2497 rows\n",
      "Meanwhile the number of rows that are still containg nan values is: 0 rows\n"
     ]
    }
   ],
   "source": [
    "replaced = eye_cancer_df.loc[eye_cancer_df['Genetic_Markers'] == 'None', 'Genetic_Markers'].shape[0]\n",
    "not_replaced = eye_cancer_df['Genetic_Markers'].isnull().sum()\n",
    "print(\"The number of rows where the nan values in Genetic_Markers variable that has been replaced with 'None' is: {} rows\".format(replaced))\n",
    "print(\"Meanwhile the number of rows that are still containg nan values is: {} rows\".format(not_replaced))"
   ]
  },
  {
   "cell_type": "markdown",
   "id": "32a83b27",
   "metadata": {},
   "source": [
    "The `2497` rows that has been successfully replaced with `None` in the `Genetic_Markers` variable is parallel with the number of rows that was originally `nan` values in `Genetic_Markers`"
   ]
  },
  {
   "cell_type": "markdown",
   "id": "dfb783da",
   "metadata": {},
   "source": [
    "#### **Next let's check if there are duplicate values in our categorical data**\n",
    "To do this we can loop over the columns of our pandas DataFrame and then check the Unique Values"
   ]
  },
  {
   "cell_type": "code",
   "execution_count": 10,
   "id": "bd685e4e",
   "metadata": {},
   "outputs": [
    {
     "name": "stdout",
     "output_type": "stream",
     "text": [
      "Unique values in Gender: ['F' 'Other' 'M']\n",
      "\n",
      "Unique values in Cancer_Type: ['Retinoblastoma' 'Melanoma' 'Lymphoma']\n",
      "\n",
      "Unique values in Laterality: ['Left' 'Right' 'Bilateral']\n",
      "\n",
      "Unique values in Stage_at_Diagnosis: ['Stage IV' 'Stage III' 'Stage II' 'Stage I']\n",
      "\n",
      "Unique values in Treatment_Type: ['Radiation' 'Chemotherapy' 'Surgery']\n",
      "\n",
      "Unique values in Outcome_Status: ['Deceased' 'In Remission' 'Active']\n",
      "\n",
      "Unique values in Genetic_Markers: ['None' 'BRAF Mutation']\n",
      "\n",
      "Unique values in Country: ['UK' 'Japan' 'Canada' 'USA' 'Australia' 'Germany' 'South Africa' 'Brazil'\n",
      " 'France' 'India']\n",
      "\n"
     ]
    }
   ],
   "source": [
    "for col in eye_cancer_df.columns:\n",
    "    if eye_cancer_df[col].dtype == 'object' and col != 'Date_of_Diagnosis' and col != 'Patient_ID':\n",
    "        print(f\"Unique values in {col}: {eye_cancer_df[col].unique()}\")\n",
    "        print()"
   ]
  },
  {
   "cell_type": "markdown",
   "id": "5d2cd633",
   "metadata": {},
   "source": [
    "> Since there are no duplicate values"
   ]
  },
  {
   "cell_type": "code",
   "execution_count": 11,
   "id": "61d35eba",
   "metadata": {},
   "outputs": [
    {
     "name": "stdout",
     "output_type": "stream",
     "text": [
      "<class 'pandas.core.frame.DataFrame'>\n",
      "RangeIndex: 5000 entries, 0 to 4999\n",
      "Data columns (total 8 columns):\n",
      " #   Column                Non-Null Count  Dtype \n",
      "---  ------                --------------  ----- \n",
      " 0   Patient_ID            5000 non-null   object\n",
      " 1   Gender                5000 non-null   object\n",
      " 2   Cancer_Type           5000 non-null   object\n",
      " 3   Treatment_Type        5000 non-null   object\n",
      " 4   Outcome_Status        5000 non-null   object\n",
      " 5   Survival_Time_Months  5000 non-null   int64 \n",
      " 6   Genetic_Markers       5000 non-null   object\n",
      " 7   Family_History        5000 non-null   bool  \n",
      "dtypes: bool(1), int64(1), object(6)\n",
      "memory usage: 278.4+ KB\n"
     ]
    }
   ],
   "source": [
    "eye_cancer_df = eye_cancer_df.drop(['Age', 'Laterality', 'Date_of_Diagnosis', 'Stage_at_Diagnosis', 'Surgery_Status', \n",
    "                                             'Radiation_Therapy', 'Chemotherapy', 'Country'], axis=1)\n",
    "eye_cancer_df = eye_cancer_df.drop_duplicates()\n",
    "eye_cancer_df.info()"
   ]
  },
  {
   "cell_type": "code",
   "execution_count": 12,
   "id": "ed13d338",
   "metadata": {},
   "outputs": [],
   "source": [
    "eye_cancer_df['Gender'] = eye_cancer_df['Gender'].str.strip()\n",
    "eye_cancer_df['Cancer_Type'] = eye_cancer_df['Cancer_Type'].str.strip()\n",
    "eye_cancer_df['Treatment_Type'] = eye_cancer_df['Treatment_Type'].str.strip()\n",
    "eye_cancer_df['Outcome_Status'] = eye_cancer_df['Outcome_Status'].str.strip()\n",
    "eye_cancer_df['Genetic_Markers'] = eye_cancer_df['Genetic_Markers'].str.strip()"
   ]
  },
  {
   "cell_type": "code",
   "execution_count": 13,
   "id": "860898bd",
   "metadata": {},
   "outputs": [
    {
     "name": "stdout",
     "output_type": "stream",
     "text": [
      "<class 'pandas.core.frame.DataFrame'>\n",
      "RangeIndex: 5000 entries, 0 to 4999\n",
      "Data columns (total 8 columns):\n",
      " #   Column                Non-Null Count  Dtype \n",
      "---  ------                --------------  ----- \n",
      " 0   Patient_ID            5000 non-null   object\n",
      " 1   Gender                5000 non-null   object\n",
      " 2   Cancer_Type           5000 non-null   object\n",
      " 3   Treatment_Type        5000 non-null   object\n",
      " 4   Outcome_Status        5000 non-null   object\n",
      " 5   Survival_Time_Months  5000 non-null   int64 \n",
      " 6   Genetic_Markers       5000 non-null   object\n",
      " 7   Family_History        5000 non-null   bool  \n",
      "dtypes: bool(1), int64(1), object(6)\n",
      "memory usage: 278.4+ KB\n"
     ]
    },
    {
     "data": {
      "text/html": [
       "<div>\n",
       "<style scoped>\n",
       "    .dataframe tbody tr th:only-of-type {\n",
       "        vertical-align: middle;\n",
       "    }\n",
       "\n",
       "    .dataframe tbody tr th {\n",
       "        vertical-align: top;\n",
       "    }\n",
       "\n",
       "    .dataframe thead th {\n",
       "        text-align: right;\n",
       "    }\n",
       "</style>\n",
       "<table border=\"1\" class=\"dataframe\">\n",
       "  <thead>\n",
       "    <tr style=\"text-align: right;\">\n",
       "      <th></th>\n",
       "      <th>Patient_ID</th>\n",
       "      <th>Gender</th>\n",
       "      <th>Cancer_Type</th>\n",
       "      <th>Treatment_Type</th>\n",
       "      <th>Outcome_Status</th>\n",
       "      <th>Survival_Time_Months</th>\n",
       "      <th>Genetic_Markers</th>\n",
       "      <th>Family_History</th>\n",
       "    </tr>\n",
       "  </thead>\n",
       "  <tbody>\n",
       "    <tr>\n",
       "      <th>0</th>\n",
       "      <td>PID00001</td>\n",
       "      <td>F</td>\n",
       "      <td>Retinoblastoma</td>\n",
       "      <td>Radiation</td>\n",
       "      <td>Deceased</td>\n",
       "      <td>85</td>\n",
       "      <td>None</td>\n",
       "      <td>True</td>\n",
       "    </tr>\n",
       "    <tr>\n",
       "      <th>1</th>\n",
       "      <td>PID00002</td>\n",
       "      <td>Other</td>\n",
       "      <td>Retinoblastoma</td>\n",
       "      <td>Chemotherapy</td>\n",
       "      <td>In Remission</td>\n",
       "      <td>10</td>\n",
       "      <td>None</td>\n",
       "      <td>True</td>\n",
       "    </tr>\n",
       "    <tr>\n",
       "      <th>2</th>\n",
       "      <td>PID00003</td>\n",
       "      <td>M</td>\n",
       "      <td>Retinoblastoma</td>\n",
       "      <td>Surgery</td>\n",
       "      <td>In Remission</td>\n",
       "      <td>3</td>\n",
       "      <td>BRAF Mutation</td>\n",
       "      <td>False</td>\n",
       "    </tr>\n",
       "    <tr>\n",
       "      <th>3</th>\n",
       "      <td>PID00004</td>\n",
       "      <td>M</td>\n",
       "      <td>Melanoma</td>\n",
       "      <td>Radiation</td>\n",
       "      <td>Active</td>\n",
       "      <td>40</td>\n",
       "      <td>None</td>\n",
       "      <td>False</td>\n",
       "    </tr>\n",
       "    <tr>\n",
       "      <th>4</th>\n",
       "      <td>PID00005</td>\n",
       "      <td>Other</td>\n",
       "      <td>Lymphoma</td>\n",
       "      <td>Chemotherapy</td>\n",
       "      <td>In Remission</td>\n",
       "      <td>26</td>\n",
       "      <td>BRAF Mutation</td>\n",
       "      <td>True</td>\n",
       "    </tr>\n",
       "  </tbody>\n",
       "</table>\n",
       "</div>"
      ],
      "text/plain": [
       "  Patient_ID Gender     Cancer_Type Treatment_Type Outcome_Status  \\\n",
       "0   PID00001      F  Retinoblastoma      Radiation       Deceased   \n",
       "1   PID00002  Other  Retinoblastoma   Chemotherapy   In Remission   \n",
       "2   PID00003      M  Retinoblastoma        Surgery   In Remission   \n",
       "3   PID00004      M        Melanoma      Radiation         Active   \n",
       "4   PID00005  Other        Lymphoma   Chemotherapy   In Remission   \n",
       "\n",
       "   Survival_Time_Months Genetic_Markers  Family_History  \n",
       "0                    85            None            True  \n",
       "1                    10            None            True  \n",
       "2                     3   BRAF Mutation           False  \n",
       "3                    40            None           False  \n",
       "4                    26   BRAF Mutation            True  "
      ]
     },
     "execution_count": 13,
     "metadata": {},
     "output_type": "execute_result"
    }
   ],
   "source": [
    "eye_cancer_df.info()\n",
    "eye_cancer_df.describe()\n",
    "eye_cancer_df.head()"
   ]
  },
  {
   "cell_type": "markdown",
   "id": "59aa650f",
   "metadata": {},
   "source": [
    "# Test"
   ]
  },
  {
   "cell_type": "markdown",
   "id": "665c5b1f",
   "metadata": {},
   "source": [
    "#### **EDA Question 1: How does survival time vary by cancer type?**\n",
    "\n",
    "To visualize if survival time varies with the cancer type, let's use the box plot which will give us the median, upper and lower whiskers, and Q1 and Q3."
   ]
  },
  {
   "cell_type": "markdown",
   "id": "b15d5a75",
   "metadata": {},
   "source": []
  },
  {
   "cell_type": "code",
   "execution_count": 15,
   "id": "7e9c95b6",
   "metadata": {},
   "outputs": [
    {
     "data": {
      "image/png": "[encoded data removed]",
      "text/plain": [
       "<Figure size 1000x600 with 1 Axes>"
      ]
     },
     "metadata": {},
     "output_type": "display_data"
    }
   ],
   "source": [
    "eye_cancer_df.boxplot(column='Survival_Time_Months', by='Cancer_Type', figsize=(10, 6))\n",
    "plt.title('Survival Time in Months by Cancer Type')\n",
    "plt.suptitle('')\n",
    "plt.xlabel('Cancer Type')\n",
    "plt.ylabel('Survival Time in Months')\n",
    "plt.show()"
   ]
  },
  {
   "cell_type": "code",
   "execution_count": 19,
   "id": "b2d6d0de",
   "metadata": {},
   "outputs": [
    {
     "data": {
      "text/html": [
       "<div>\n",
       "<style scoped>\n",
       "    .dataframe tbody tr th:only-of-type {\n",
       "        vertical-align: middle;\n",
       "    }\n",
       "\n",
       "    .dataframe tbody tr th {\n",
       "        vertical-align: top;\n",
       "    }\n",
       "\n",
       "    .dataframe thead th {\n",
       "        text-align: right;\n",
       "    }\n",
       "</style>\n",
       "<table border=\"1\" class=\"dataframe\">\n",
       "  <thead>\n",
       "    <tr style=\"text-align: right;\">\n",
       "      <th></th>\n",
       "      <th>count</th>\n",
       "      <th>mean</th>\n",
       "      <th>std</th>\n",
       "      <th>min</th>\n",
       "      <th>25%</th>\n",
       "      <th>50%</th>\n",
       "      <th>75%</th>\n",
       "      <th>max</th>\n",
       "    </tr>\n",
       "    <tr>\n",
       "      <th>Cancer_Type</th>\n",
       "      <th></th>\n",
       "      <th></th>\n",
       "      <th></th>\n",
       "      <th></th>\n",
       "      <th></th>\n",
       "      <th></th>\n",
       "      <th></th>\n",
       "      <th></th>\n",
       "    </tr>\n",
       "  </thead>\n",
       "  <tbody>\n",
       "    <tr>\n",
       "      <th>Lymphoma</th>\n",
       "      <td>1637.0</td>\n",
       "      <td>60.373855</td>\n",
       "      <td>34.457862</td>\n",
       "      <td>1.0</td>\n",
       "      <td>31.0</td>\n",
       "      <td>58.0</td>\n",
       "      <td>90.0</td>\n",
       "      <td>120.0</td>\n",
       "    </tr>\n",
       "    <tr>\n",
       "      <th>Melanoma</th>\n",
       "      <td>1691.0</td>\n",
       "      <td>60.998226</td>\n",
       "      <td>34.640188</td>\n",
       "      <td>1.0</td>\n",
       "      <td>32.0</td>\n",
       "      <td>61.0</td>\n",
       "      <td>91.0</td>\n",
       "      <td>120.0</td>\n",
       "    </tr>\n",
       "    <tr>\n",
       "      <th>Retinoblastoma</th>\n",
       "      <td>1672.0</td>\n",
       "      <td>60.765550</td>\n",
       "      <td>34.565890</td>\n",
       "      <td>1.0</td>\n",
       "      <td>31.0</td>\n",
       "      <td>61.0</td>\n",
       "      <td>89.0</td>\n",
       "      <td>120.0</td>\n",
       "    </tr>\n",
       "  </tbody>\n",
       "</table>\n",
       "</div>"
      ],
      "text/plain": [
       "                 count       mean        std  min   25%   50%   75%    max\n",
       "Cancer_Type                                                               \n",
       "Lymphoma        1637.0  60.373855  34.457862  1.0  31.0  58.0  90.0  120.0\n",
       "Melanoma        1691.0  60.998226  34.640188  1.0  32.0  61.0  91.0  120.0\n",
       "Retinoblastoma  1672.0  60.765550  34.565890  1.0  31.0  61.0  89.0  120.0"
      ]
     },
     "execution_count": 19,
     "metadata": {},
     "output_type": "execute_result"
    }
   ],
   "source": [
    "eye_cancer_df.groupby(\"Cancer_Type\")[\"Survival_Time_Months\"].describe()"
   ]
  },
  {
   "cell_type": "markdown",
   "id": "870b1fef",
   "metadata": {},
   "source": [
    "From the graph and table, we can see that the survival time in months of each cancer type is very similar to one another. This suggests that the cancer type may not be a strong predictor on its own with regards to the survival time."
   ]
  },
  {
   "cell_type": "markdown",
   "id": "ed828985",
   "metadata": {},
   "source": [
    "#### **EDA Question 1: How does survival time vary between patients with and without the BRAF mutation**\n"
   ]
  },
  {
   "cell_type": "code",
   "execution_count": null,
   "id": "cbe1b083",
   "metadata": {},
   "outputs": [
    {
     "ename": "KeyError",
     "evalue": "'Columns not found: 1, 2, 3, 4, 5, 6, 7, 8, 9, 10, 11, 12, 13, 14, 15, 16, 17, 18, 19, 20, 21, 22, 23, 24, 25, 26, 27, 28, 29, 30, 31, 32, 33, 34, 35, 36, 37, 38, 39, 40, 41, 42, 43, 44, 45, 46, 47, 48, 49, 50, 51, 52, 53, 54, 55, 56, 57, 58, 59, 60, 61, 62, 63, 64, 65, 66, 67, 68, 69, 70, 71, 72, 73, 74, 75, 76, 77, 78, 79, 80, 81, 82, 83, 84, 85, 86, 87, 88, 89, 90, 91, 92, 93, 94, 95, 96, 97, 98, 99, 100, 101, 102, 103, 104, 105, 106, 107, 108, 109, 110, 111, 112, 113, 114, 115, 116, 117, 118, 119, 120'",
     "output_type": "error",
     "traceback": [
      "\u001b[31m---------------------------------------------------------------------------\u001b[39m",
      "\u001b[31mKeyError\u001b[39m                                  Traceback (most recent call last)",
      "\u001b[36mCell\u001b[39m\u001b[36m \u001b[39m\u001b[32mIn[24]\u001b[39m\u001b[32m, line 1\u001b[39m\n\u001b[32m----> \u001b[39m\u001b[32m1\u001b[39m \u001b[43meye_cancer_df\u001b[49m\u001b[43m.\u001b[49m\u001b[43mboxplot\u001b[49m\u001b[43m(\u001b[49m\u001b[43mcolumn\u001b[49m\u001b[43m=\u001b[49m\u001b[43meye_cancer_df\u001b[49m\u001b[43m[\u001b[49m\u001b[33;43m'\u001b[39;49m\u001b[33;43mSurvival_Time_Months\u001b[39;49m\u001b[33;43m'\u001b[39;49m\u001b[43m]\u001b[49m\u001b[43m,\u001b[49m\u001b[43m \u001b[49m\u001b[43mby\u001b[49m\u001b[43m=\u001b[49m\u001b[43meye_cancer_df\u001b[49m\u001b[43m[\u001b[49m\u001b[33;43m'\u001b[39;49m\u001b[33;43mGenetic_Markers\u001b[39;49m\u001b[33;43m'\u001b[39;49m\u001b[43m]\u001b[49m\u001b[43m,\u001b[49m\u001b[43m \u001b[49m\u001b[43mfigsize\u001b[49m\u001b[43m=\u001b[49m\u001b[43m(\u001b[49m\u001b[32;43m10\u001b[39;49m\u001b[43m,\u001b[49m\u001b[43m \u001b[49m\u001b[32;43m6\u001b[39;49m\u001b[43m)\u001b[49m\u001b[43m)\u001b[49m\n\u001b[32m      2\u001b[39m plt.title(\u001b[33m'\u001b[39m\u001b[33mSurvival Time in Months by Cancer Type\u001b[39m\u001b[33m'\u001b[39m)\n\u001b[32m      3\u001b[39m plt.suptitle(\u001b[33m'\u001b[39m\u001b[33m'\u001b[39m)\n",
      "\u001b[36mFile \u001b[39m\u001b[32mc:\\Users\\My PC\\AppData\\Local\\Programs\\Python\\Python311\\Lib\\site-packages\\pandas\\plotting\\_core.py:533\u001b[39m, in \u001b[36mboxplot_frame\u001b[39m\u001b[34m(self, column, by, ax, fontsize, rot, grid, figsize, layout, return_type, backend, **kwargs)\u001b[39m\n\u001b[32m    516\u001b[39m \u001b[38;5;129m@Substitution\u001b[39m(data=\u001b[33m\"\u001b[39m\u001b[33m\"\u001b[39m, backend=_backend_doc)\n\u001b[32m    517\u001b[39m \u001b[38;5;129m@Appender\u001b[39m(_boxplot_doc)\n\u001b[32m    518\u001b[39m \u001b[38;5;28;01mdef\u001b[39;00m\u001b[38;5;250m \u001b[39m\u001b[34mboxplot_frame\u001b[39m(\n\u001b[32m   (...)\u001b[39m\u001b[32m    530\u001b[39m     **kwargs,\n\u001b[32m    531\u001b[39m ):\n\u001b[32m    532\u001b[39m     plot_backend = _get_plot_backend(backend)\n\u001b[32m--> \u001b[39m\u001b[32m533\u001b[39m     \u001b[38;5;28;01mreturn\u001b[39;00m \u001b[43mplot_backend\u001b[49m\u001b[43m.\u001b[49m\u001b[43mboxplot_frame\u001b[49m\u001b[43m(\u001b[49m\n\u001b[32m    534\u001b[39m \u001b[43m        \u001b[49m\u001b[38;5;28;43mself\u001b[39;49m\u001b[43m,\u001b[49m\n\u001b[32m    535\u001b[39m \u001b[43m        \u001b[49m\u001b[43mcolumn\u001b[49m\u001b[43m=\u001b[49m\u001b[43mcolumn\u001b[49m\u001b[43m,\u001b[49m\n\u001b[32m    536\u001b[39m \u001b[43m        \u001b[49m\u001b[43mby\u001b[49m\u001b[43m=\u001b[49m\u001b[43mby\u001b[49m\u001b[43m,\u001b[49m\n\u001b[32m    537\u001b[39m \u001b[43m        \u001b[49m\u001b[43max\u001b[49m\u001b[43m=\u001b[49m\u001b[43max\u001b[49m\u001b[43m,\u001b[49m\n\u001b[32m    538\u001b[39m \u001b[43m        \u001b[49m\u001b[43mfontsize\u001b[49m\u001b[43m=\u001b[49m\u001b[43mfontsize\u001b[49m\u001b[43m,\u001b[49m\n\u001b[32m    539\u001b[39m \u001b[43m        \u001b[49m\u001b[43mrot\u001b[49m\u001b[43m=\u001b[49m\u001b[43mrot\u001b[49m\u001b[43m,\u001b[49m\n\u001b[32m    540\u001b[39m \u001b[43m        \u001b[49m\u001b[43mgrid\u001b[49m\u001b[43m=\u001b[49m\u001b[43mgrid\u001b[49m\u001b[43m,\u001b[49m\n\u001b[32m    541\u001b[39m \u001b[43m        \u001b[49m\u001b[43mfigsize\u001b[49m\u001b[43m=\u001b[49m\u001b[43mfigsize\u001b[49m\u001b[43m,\u001b[49m\n\u001b[32m    542\u001b[39m \u001b[43m        \u001b[49m\u001b[43mlayout\u001b[49m\u001b[43m=\u001b[49m\u001b[43mlayout\u001b[49m\u001b[43m,\u001b[49m\n\u001b[32m    543\u001b[39m \u001b[43m        \u001b[49m\u001b[43mreturn_type\u001b[49m\u001b[43m=\u001b[49m\u001b[43mreturn_type\u001b[49m\u001b[43m,\u001b[49m\n\u001b[32m    544\u001b[39m \u001b[43m        \u001b[49m\u001b[43m*\u001b[49m\u001b[43m*\u001b[49m\u001b[43mkwargs\u001b[49m\u001b[43m,\u001b[49m\n\u001b[32m    545\u001b[39m \u001b[43m    \u001b[49m\u001b[43m)\u001b[49m\n",
      "\u001b[36mFile \u001b[39m\u001b[32mc:\\Users\\My PC\\AppData\\Local\\Programs\\Python\\Python311\\Lib\\site-packages\\pandas\\plotting\\_matplotlib\\boxplot.py:492\u001b[39m, in \u001b[36mboxplot_frame\u001b[39m\u001b[34m(self, column, by, ax, fontsize, rot, grid, figsize, layout, return_type, **kwds)\u001b[39m\n\u001b[32m    477\u001b[39m \u001b[38;5;28;01mdef\u001b[39;00m\u001b[38;5;250m \u001b[39m\u001b[34mboxplot_frame\u001b[39m(\n\u001b[32m    478\u001b[39m     \u001b[38;5;28mself\u001b[39m,\n\u001b[32m    479\u001b[39m     column=\u001b[38;5;28;01mNone\u001b[39;00m,\n\u001b[32m   (...)\u001b[39m\u001b[32m    488\u001b[39m     **kwds,\n\u001b[32m    489\u001b[39m ):\n\u001b[32m    490\u001b[39m     \u001b[38;5;28;01mimport\u001b[39;00m\u001b[38;5;250m \u001b[39m\u001b[34;01mmatplotlib\u001b[39;00m\u001b[34;01m.\u001b[39;00m\u001b[34;01mpyplot\u001b[39;00m\u001b[38;5;250m \u001b[39m\u001b[38;5;28;01mas\u001b[39;00m\u001b[38;5;250m \u001b[39m\u001b[34;01mplt\u001b[39;00m\n\u001b[32m--> \u001b[39m\u001b[32m492\u001b[39m     ax = \u001b[43mboxplot\u001b[49m\u001b[43m(\u001b[49m\n\u001b[32m    493\u001b[39m \u001b[43m        \u001b[49m\u001b[38;5;28;43mself\u001b[39;49m\u001b[43m,\u001b[49m\n\u001b[32m    494\u001b[39m \u001b[43m        \u001b[49m\u001b[43mcolumn\u001b[49m\u001b[43m=\u001b[49m\u001b[43mcolumn\u001b[49m\u001b[43m,\u001b[49m\n\u001b[32m    495\u001b[39m \u001b[43m        \u001b[49m\u001b[43mby\u001b[49m\u001b[43m=\u001b[49m\u001b[43mby\u001b[49m\u001b[43m,\u001b[49m\n\u001b[32m    496\u001b[39m \u001b[43m        \u001b[49m\u001b[43max\u001b[49m\u001b[43m=\u001b[49m\u001b[43max\u001b[49m\u001b[43m,\u001b[49m\n\u001b[32m    497\u001b[39m \u001b[43m        \u001b[49m\u001b[43mfontsize\u001b[49m\u001b[43m=\u001b[49m\u001b[43mfontsize\u001b[49m\u001b[43m,\u001b[49m\n\u001b[32m    498\u001b[39m \u001b[43m        \u001b[49m\u001b[43mgrid\u001b[49m\u001b[43m=\u001b[49m\u001b[43mgrid\u001b[49m\u001b[43m,\u001b[49m\n\u001b[32m    499\u001b[39m \u001b[43m        \u001b[49m\u001b[43mrot\u001b[49m\u001b[43m=\u001b[49m\u001b[43mrot\u001b[49m\u001b[43m,\u001b[49m\n\u001b[32m    500\u001b[39m \u001b[43m        \u001b[49m\u001b[43mfigsize\u001b[49m\u001b[43m=\u001b[49m\u001b[43mfigsize\u001b[49m\u001b[43m,\u001b[49m\n\u001b[32m    501\u001b[39m \u001b[43m        \u001b[49m\u001b[43mlayout\u001b[49m\u001b[43m=\u001b[49m\u001b[43mlayout\u001b[49m\u001b[43m,\u001b[49m\n\u001b[32m    502\u001b[39m \u001b[43m        \u001b[49m\u001b[43mreturn_type\u001b[49m\u001b[43m=\u001b[49m\u001b[43mreturn_type\u001b[49m\u001b[43m,\u001b[49m\n\u001b[32m    503\u001b[39m \u001b[43m        \u001b[49m\u001b[43m*\u001b[49m\u001b[43m*\u001b[49m\u001b[43mkwds\u001b[49m\u001b[43m,\u001b[49m\n\u001b[32m    504\u001b[39m \u001b[43m    \u001b[49m\u001b[43m)\u001b[49m\n\u001b[32m    505\u001b[39m     plt.draw_if_interactive()\n\u001b[32m    506\u001b[39m     \u001b[38;5;28;01mreturn\u001b[39;00m ax\n",
      "\u001b[36mFile \u001b[39m\u001b[32mc:\\Users\\My PC\\AppData\\Local\\Programs\\Python\\Python311\\Lib\\site-packages\\pandas\\plotting\\_matplotlib\\boxplot.py:438\u001b[39m, in \u001b[36mboxplot\u001b[39m\u001b[34m(data, column, by, ax, fontsize, rot, grid, figsize, layout, return_type, **kwds)\u001b[39m\n\u001b[32m    433\u001b[39m     columns = [column]\n\u001b[32m    435\u001b[39m \u001b[38;5;28;01mif\u001b[39;00m by \u001b[38;5;129;01mis\u001b[39;00m \u001b[38;5;129;01mnot\u001b[39;00m \u001b[38;5;28;01mNone\u001b[39;00m:\n\u001b[32m    436\u001b[39m     \u001b[38;5;66;03m# Prefer array return type for 2-D plots to match the subplot layout\u001b[39;00m\n\u001b[32m    437\u001b[39m     \u001b[38;5;66;03m# https://github.com/pandas-dev/pandas/pull/12216#issuecomment-241175580\u001b[39;00m\n\u001b[32m--> \u001b[39m\u001b[32m438\u001b[39m     result = \u001b[43m_grouped_plot_by_column\u001b[49m\u001b[43m(\u001b[49m\n\u001b[32m    439\u001b[39m \u001b[43m        \u001b[49m\u001b[43mplot_group\u001b[49m\u001b[43m,\u001b[49m\n\u001b[32m    440\u001b[39m \u001b[43m        \u001b[49m\u001b[43mdata\u001b[49m\u001b[43m,\u001b[49m\n\u001b[32m    441\u001b[39m \u001b[43m        \u001b[49m\u001b[43mcolumns\u001b[49m\u001b[43m=\u001b[49m\u001b[43mcolumns\u001b[49m\u001b[43m,\u001b[49m\n\u001b[32m    442\u001b[39m \u001b[43m        \u001b[49m\u001b[43mby\u001b[49m\u001b[43m=\u001b[49m\u001b[43mby\u001b[49m\u001b[43m,\u001b[49m\n\u001b[32m    443\u001b[39m \u001b[43m        \u001b[49m\u001b[43mgrid\u001b[49m\u001b[43m=\u001b[49m\u001b[43mgrid\u001b[49m\u001b[43m,\u001b[49m\n\u001b[32m    444\u001b[39m \u001b[43m        \u001b[49m\u001b[43mfigsize\u001b[49m\u001b[43m=\u001b[49m\u001b[43mfigsize\u001b[49m\u001b[43m,\u001b[49m\n\u001b[32m    445\u001b[39m \u001b[43m        \u001b[49m\u001b[43max\u001b[49m\u001b[43m=\u001b[49m\u001b[43max\u001b[49m\u001b[43m,\u001b[49m\n\u001b[32m    446\u001b[39m \u001b[43m        \u001b[49m\u001b[43mlayout\u001b[49m\u001b[43m=\u001b[49m\u001b[43mlayout\u001b[49m\u001b[43m,\u001b[49m\n\u001b[32m    447\u001b[39m \u001b[43m        \u001b[49m\u001b[43mreturn_type\u001b[49m\u001b[43m=\u001b[49m\u001b[43mreturn_type\u001b[49m\u001b[43m,\u001b[49m\n\u001b[32m    448\u001b[39m \u001b[43m        \u001b[49m\u001b[43m*\u001b[49m\u001b[43m*\u001b[49m\u001b[43mkwds\u001b[49m\u001b[43m,\u001b[49m\n\u001b[32m    449\u001b[39m \u001b[43m    \u001b[49m\u001b[43m)\u001b[49m\n\u001b[32m    450\u001b[39m \u001b[38;5;28;01melse\u001b[39;00m:\n\u001b[32m    451\u001b[39m     \u001b[38;5;28;01mif\u001b[39;00m return_type \u001b[38;5;129;01mis\u001b[39;00m \u001b[38;5;28;01mNone\u001b[39;00m:\n",
      "\u001b[36mFile \u001b[39m\u001b[32mc:\\Users\\My PC\\AppData\\Local\\Programs\\Python\\Python311\\Lib\\site-packages\\pandas\\plotting\\_matplotlib\\boxplot.py:327\u001b[39m, in \u001b[36m_grouped_plot_by_column\u001b[39m\u001b[34m(plotf, data, columns, by, numeric_only, grid, figsize, ax, layout, return_type, **kwargs)\u001b[39m\n\u001b[32m    325\u001b[39m \u001b[38;5;28;01mfor\u001b[39;00m i, col \u001b[38;5;129;01min\u001b[39;00m \u001b[38;5;28menumerate\u001b[39m(columns):\n\u001b[32m    326\u001b[39m     ax = _axes[i]\n\u001b[32m--> \u001b[39m\u001b[32m327\u001b[39m     gp_col = \u001b[43mgrouped\u001b[49m\u001b[43m[\u001b[49m\u001b[43mcol\u001b[49m\u001b[43m]\u001b[49m\n\u001b[32m    328\u001b[39m     keys, values = \u001b[38;5;28mzip\u001b[39m(*gp_col)\n\u001b[32m    329\u001b[39m     re_plotf = plotf(keys, values, ax, xlabel=xlabel, ylabel=ylabel, **kwargs)\n",
      "\u001b[36mFile \u001b[39m\u001b[32mc:\\Users\\My PC\\AppData\\Local\\Programs\\Python\\Python311\\Lib\\site-packages\\pandas\\core\\groupby\\generic.py:1951\u001b[39m, in \u001b[36mDataFrameGroupBy.__getitem__\u001b[39m\u001b[34m(self, key)\u001b[39m\n\u001b[32m   1944\u001b[39m \u001b[38;5;28;01mif\u001b[39;00m \u001b[38;5;28misinstance\u001b[39m(key, \u001b[38;5;28mtuple\u001b[39m) \u001b[38;5;129;01mand\u001b[39;00m \u001b[38;5;28mlen\u001b[39m(key) > \u001b[32m1\u001b[39m:\n\u001b[32m   1945\u001b[39m     \u001b[38;5;66;03m# if len == 1, then it becomes a SeriesGroupBy and this is actually\u001b[39;00m\n\u001b[32m   1946\u001b[39m     \u001b[38;5;66;03m# valid syntax, so don't raise\u001b[39;00m\n\u001b[32m   1947\u001b[39m     \u001b[38;5;28;01mraise\u001b[39;00m \u001b[38;5;167;01mValueError\u001b[39;00m(\n\u001b[32m   1948\u001b[39m         \u001b[33m\"\u001b[39m\u001b[33mCannot subset columns with a tuple with more than one element. \u001b[39m\u001b[33m\"\u001b[39m\n\u001b[32m   1949\u001b[39m         \u001b[33m\"\u001b[39m\u001b[33mUse a list instead.\u001b[39m\u001b[33m\"\u001b[39m\n\u001b[32m   1950\u001b[39m     )\n\u001b[32m-> \u001b[39m\u001b[32m1951\u001b[39m \u001b[38;5;28;01mreturn\u001b[39;00m \u001b[38;5;28;43msuper\u001b[39;49m\u001b[43m(\u001b[49m\u001b[43m)\u001b[49m\u001b[43m.\u001b[49m\u001b[34;43m__getitem__\u001b[39;49m\u001b[43m(\u001b[49m\u001b[43mkey\u001b[49m\u001b[43m)\u001b[49m\n",
      "\u001b[36mFile \u001b[39m\u001b[32mc:\\Users\\My PC\\AppData\\Local\\Programs\\Python\\Python311\\Lib\\site-packages\\pandas\\core\\base.py:239\u001b[39m, in \u001b[36mSelectionMixin.__getitem__\u001b[39m\u001b[34m(self, key)\u001b[39m\n\u001b[32m    237\u001b[39m     \u001b[38;5;28;01mif\u001b[39;00m \u001b[38;5;28mlen\u001b[39m(\u001b[38;5;28mself\u001b[39m.obj.columns.intersection(key)) != \u001b[38;5;28mlen\u001b[39m(\u001b[38;5;28mset\u001b[39m(key)):\n\u001b[32m    238\u001b[39m         bad_keys = \u001b[38;5;28mlist\u001b[39m(\u001b[38;5;28mset\u001b[39m(key).difference(\u001b[38;5;28mself\u001b[39m.obj.columns))\n\u001b[32m--> \u001b[39m\u001b[32m239\u001b[39m         \u001b[38;5;28;01mraise\u001b[39;00m \u001b[38;5;167;01mKeyError\u001b[39;00m(\u001b[33mf\u001b[39m\u001b[33m\"\u001b[39m\u001b[33mColumns not found: \u001b[39m\u001b[38;5;132;01m{\u001b[39;00m\u001b[38;5;28mstr\u001b[39m(bad_keys)[\u001b[32m1\u001b[39m:-\u001b[32m1\u001b[39m]\u001b[38;5;132;01m}\u001b[39;00m\u001b[33m\"\u001b[39m)\n\u001b[32m    240\u001b[39m     \u001b[38;5;28;01mreturn\u001b[39;00m \u001b[38;5;28mself\u001b[39m._gotitem(\u001b[38;5;28mlist\u001b[39m(key), ndim=\u001b[32m2\u001b[39m)\n\u001b[32m    242\u001b[39m \u001b[38;5;28;01melse\u001b[39;00m:\n",
      "\u001b[31mKeyError\u001b[39m: 'Columns not found: 1, 2, 3, 4, 5, 6, 7, 8, 9, 10, 11, 12, 13, 14, 15, 16, 17, 18, 19, 20, 21, 22, 23, 24, 25, 26, 27, 28, 29, 30, 31, 32, 33, 34, 35, 36, 37, 38, 39, 40, 41, 42, 43, 44, 45, 46, 47, 48, 49, 50, 51, 52, 53, 54, 55, 56, 57, 58, 59, 60, 61, 62, 63, 64, 65, 66, 67, 68, 69, 70, 71, 72, 73, 74, 75, 76, 77, 78, 79, 80, 81, 82, 83, 84, 85, 86, 87, 88, 89, 90, 91, 92, 93, 94, 95, 96, 97, 98, 99, 100, 101, 102, 103, 104, 105, 106, 107, 108, 109, 110, 111, 112, 113, 114, 115, 116, 117, 118, 119, 120'"
     ]
    },
    {
     "data": {
      "image/png": "[encoded data removed]",
      "text/plain": [
       "<Figure size 1000x600 with 1 Axes>"
      ]
     },
     "metadata": {},
     "output_type": "display_data"
    }
   ],
   "source": [
    "eye_cancer_df.boxplot(column='Survival_Time_Months', by='Genetic_Mark', figsize=(10, 6))\n",
    "plt.title('Survival Time in Months by Cancer Type')\n",
    "plt.suptitle('')\n",
    "plt.xlabel('Cancer Type')\n",
    "plt.ylabel('Survival Time in Months')\n",
    "plt.show()"
   ]
  },
  {
   "cell_type": "code",
   "execution_count": null,
   "id": "e4c7df1e",
   "metadata": {},
   "outputs": [],
   "source": [
    "eye_cancer_df.boxplot(column='Survival_Time_Months', by='Stage', figsize=(10, 6))\n"
   ]
  },
  {
   "cell_type": "code",
   "execution_count": 29,
   "id": "729a98bf",
   "metadata": {},
   "outputs": [
    {
     "name": "stdout",
     "output_type": "stream",
     "text": [
      "<class 'pandas.core.series.Series'>\n",
      "RangeIndex: 5000 entries, 0 to 4999\n",
      "Series name: Cancer_Type\n",
      "Non-Null Count  Dtype \n",
      "--------------  ----- \n",
      "5000 non-null   object\n",
      "dtypes: object(1)\n",
      "memory usage: 39.2+ KB\n"
     ]
    }
   ],
   "source": [
    "eye_cancer_df['Cancer_Type'].info()"
   ]
  }
 ],
 "metadata": {
  "kernelspec": {
   "display_name": "Python 3",
   "language": "python",
   "name": "python3"
  },
  "language_info": {
   "codemirror_mode": {
    "name": "ipython",
    "version": 3
   },
   "file_extension": ".py",
   "mimetype": "text/x-python",
   "name": "python",
   "nbconvert_exporter": "python",
   "pygments_lexer": "ipython3",
   "version": "3.11.2"
  }
 },
 "nbformat": 4,
 "nbformat_minor": 5
}
